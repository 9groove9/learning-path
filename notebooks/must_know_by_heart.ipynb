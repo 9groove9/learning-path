{
 "cells": [
  {
   "cell_type": "markdown",
   "id": "65c9b373",
   "metadata": {},
   "source": [
    "# 📘 Data Science + ML + AI Roadmap (v2.0)\n",
    "## Must Know by Heart ✅\n",
    "Цей ноутбук — шпаргалка з кістяком того, що треба знати **на пам’ять** по кожному блоку."
   ]
  },
  {
   "cell_type": "markdown",
   "id": "0660e84d",
   "metadata": {},
   "source": [
    "## 🔹 Блок 1: Python Basics + OOP\n",
    "- int, float, str, bool, list, dict, set, tuple\n",
    "- Оператори + - * / // % **, порівняння == != < > <= >=\n",
    "- if / elif / else\n",
    "- for, while, break, continue, range()\n",
    "- list comprehension\n",
    "- def, return, *args, **kwargs\n",
    "- class, __init__, self, inheritance\n",
    "- open(), with open(...) as f"
   ]
  },
  {
   "cell_type": "markdown",
   "id": "e8dd3655",
   "metadata": {},
   "source": [
    "## 🔹 Блок 2: NumPy + Pandas\n",
    "**NumPy**\n",
    "- np.array, np.arange, np.linspace, np.random\n",
    "- reshape, flatten, ravel\n",
    "- sum, mean, max, min, std, var\n",
    "- axis=0/1\n",
    "- slicing, masks\n",
    "\n",
    "**Pandas**\n",
    "- Series, DataFrame\n",
    "- read_csv, to_csv\n",
    "- head, tail, info, describe\n",
    "- loc, iloc\n",
    "- groupby + sum/mean\n",
    "- isnull, fillna, dropna\n",
    "- sort_values, sort_index\n",
    "- rename, columns.str.lower()"
   ]
  },
  {
   "cell_type": "markdown",
   "id": "87cb0760",
   "metadata": {},
   "source": [
    "## 🔹 Блок 3: SQL / NoSQL\n",
    "- SELECT, DISTINCT, WHERE\n",
    "- GROUP BY, HAVING\n",
    "- ORDER BY ASC/DESC\n",
    "- JOIN (INNER, LEFT, RIGHT, FULL)\n",
    "- COUNT, SUM, AVG, MIN, MAX\n",
    "- LIMIT\n",
    "- JSON структура, MongoDB документ\n",
    "- sqlite3.connect, cursor.execute, pd.read_sql"
   ]
  },
  {
   "cell_type": "markdown",
   "id": "61eb1163",
   "metadata": {},
   "source": [
    "## 🔹 Блок 4: Visualization\n",
    "- plt.plot, plt.bar, plt.hist, plt.scatter\n",
    "- plt.title, plt.xlabel, plt.ylabel, plt.legend\n",
    "- plt.show()\n",
    "- sns.histplot, sns.scatterplot, sns.boxplot, sns.heatmap"
   ]
  },
  {
   "cell_type": "markdown",
   "id": "5a5973e3",
   "metadata": {},
   "source": [
    "## 🔹 Блок 5: Basic ML (Scikit-Learn)\n",
    "- train_test_split\n",
    "- LinearRegression().fit(X,y), .predict()\n",
    "- MSE, RMSE, Accuracy\n",
    "- StandardScaler\n",
    "- LogisticRegression()\n",
    "- Overfitting vs Underfitting, cross-validation"
   ]
  },
  {
   "cell_type": "markdown",
   "id": "2117f7de",
   "metadata": {},
   "source": [
    "## 🔹 Блок 6: Business Cases\n",
    "- Time series: rolling().mean(), shift, resample\n",
    "- Clustering: KMeans(n_clusters=...)\n",
    "- KPI: mean values, value_counts(normalize=True)"
   ]
  },
  {
   "cell_type": "markdown",
   "id": "5f3a9112",
   "metadata": {},
   "source": [
    "## 🔹 Блок 7: API / REST\n",
    "- HTTP GET, POST\n",
    "- requests.get(url).json()\n",
    "- JSON parsing (dict, list in Python)"
   ]
  },
  {
   "cell_type": "markdown",
   "id": "03a324ec",
   "metadata": {},
   "source": [
    "## 🔹 Блок 8: Google Sheets / gspread\n",
    "- Авторизація service_account\n",
    "- gc.open('Sheet').sheet1\n",
    "- get_all_records(), update()\n",
    "- DataFrame → Sheets"
   ]
  },
  {
   "cell_type": "markdown",
   "id": "9dcf4f26",
   "metadata": {},
   "source": [
    "## 🔹 Блок 9: Freelance Skills\n",
    "- CSV → Pandas → аналіз → графіки → PDF/Excel/Sheets\n",
    "- Git basics: clone, add, commit, push\n",
    "- Чистий код + зрозумілий звіт"
   ]
  },
  {
   "cell_type": "markdown",
   "id": "ce00c045",
   "metadata": {},
   "source": [
    "## 🔹 Блок 10: Git + Linux\n",
    "- Git: clone, status, add, commit -m, push, pull, branch\n",
    "- Linux: ls, cd, pwd, mkdir, touch, rm, cat, nano, chmod, cron"
   ]
  },
  {
   "cell_type": "markdown",
   "id": "7cf9d951",
   "metadata": {},
   "source": [
    "## 🔹 Блок 11: AI Integration\n",
    "- ChatGPT API: openai.ChatCompletion.create(...)\n",
    "- Prompt → response\n",
    "- Інтеграція з Pandas / Bots / Reports"
   ]
  },
  {
   "cell_type": "markdown",
   "id": "0d9474b1",
   "metadata": {},
   "source": [
    "## 🔹 Блок 12: Telegram Bots\n",
    "- python-telegram-bot: Updater, Dispatcher, CommandHandler, MessageHandler\n",
    "- /start команда\n",
    "- update.message.reply_text()\n",
    "- Inline кнопки"
   ]
  },
  {
   "cell_type": "markdown",
   "id": "e5c75232",
   "metadata": {},
   "source": [
    "## 🔹 Блок 13: Deep Learning\n",
    "- PyTorch: tensor, nn.Module, forward, optim.SGD\n",
    "- TensorFlow/Keras: Sequential, Dense, fit, evaluate\n",
    "- Архітектури: MLP, CNN, RNN\n",
    "- Параметри: epochs, batch size, learning rate\n",
    "- Backpropagation, activation, loss\n",
    "- Overfitting: Dropout, регуляризація, early stopping"
   ]
  },
  {
   "cell_type": "markdown",
   "id": "ccf6bae0",
   "metadata": {},
   "source": [
    "## 🔹 Блок 14: Final Projects\n",
    "- Full pipeline: CSV/SQL → Pandas → ML → API → Bot/Sheets → PDF\n",
    "- Вміння пояснити клієнту результат"
   ]
  }
 ],
 "metadata": {
  "kernelspec": {
   "display_name": "Python 3 (ipykernel)",
   "language": "python",
   "name": "python3"
  },
  "language_info": {
   "codemirror_mode": {
    "name": "ipython",
    "version": 3
   },
   "file_extension": ".py",
   "mimetype": "text/x-python",
   "name": "python",
   "nbconvert_exporter": "python",
   "pygments_lexer": "ipython3",
   "version": "3.13.7"
  }
 },
 "nbformat": 4,
 "nbformat_minor": 5
}
