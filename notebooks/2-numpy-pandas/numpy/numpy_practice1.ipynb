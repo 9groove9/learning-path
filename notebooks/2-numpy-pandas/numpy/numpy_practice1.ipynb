{
 "cells": [
  {
   "cell_type": "code",
   "execution_count": 18,
   "id": "d8d6536b-05a1-4608-8afb-236a444ead0b",
   "metadata": {},
   "outputs": [
    {
     "name": "stdout",
     "output_type": "stream",
     "text": [
      "Sum: 210 Mean: 10.5 Max: 20 Min: 1\n",
      "Row means: [5.2 4.2 8.  6.  6. ]\n",
      "Column means: [6.  5.8 5.2 7.  5.4]\n",
      "Even-indexed elements: [ 20  40  60  80 100]\n",
      "{'Sum': np.int64(15), 'Mean': np.float64(3.0), 'Min': np.int64(1), 'Max': np.int64(5)}\n"
     ]
    }
   ],
   "source": [
    "import numpy as np\n",
    "from numpy import ndarray\n",
    "\n",
    "# --- Task 1: Array from 1 to 20 ---\n",
    "arr1 = np.arange(1, 21)\n",
    "print(\"Sum:\", arr1.sum(), \"Mean:\", arr1.mean(),\n",
    "      \"Max:\", arr1.max(), \"Min:\", arr1.min())\n",
    "\n",
    "# --- Task 2: 5x5 random integers ---\n",
    "rng = np.random.default_rng(42)\n",
    "arr2 = rng.integers(1, 11, (5, 5))\n",
    "print(\"Row means:\", arr2.mean(axis=1))\n",
    "print(\"Column means:\", arr2.mean(axis=0))\n",
    "\n",
    "# --- Task 3: Array 10 to 100 with step 10, even index slicing ---\n",
    "arr3 = np.arange(10, 101, 10)\n",
    "print(\"Even-indexed elements:\", arr3[1::2])\n",
    "\n",
    "\n",
    "# --- Task 4: Function with docstring ---\n",
    "def array_stats(arr: ndarray) -> dict:\n",
    "    \"\"\"\n",
    "    Calculate basic statistics for a NumPy array.\n",
    "\n",
    "    Args:\n",
    "        arr (ndarray): Input NumPy array.\n",
    "\n",
    "    Returns:\n",
    "        dict: Dictionary with sum, mean, min, and max values.\n",
    "    \"\"\"\n",
    "    return {\n",
    "        \"Sum\": arr.sum(),\n",
    "        \"Mean\": arr.mean(),\n",
    "        \"Min\": arr.min(),\n",
    "        \"Max\": arr.max()\n",
    "    }\n",
    "\n",
    "\n",
    "print(array_stats(np.array([1, 2, 3, 4, 5])))\n"
   ]
  },
  {
   "cell_type": "code",
   "execution_count": null,
   "id": "4e8f20fe-56e6-40ba-ae91-618b08af6071",
   "metadata": {},
   "outputs": [],
   "source": []
  }
 ],
 "metadata": {
  "kernelspec": {
   "display_name": "Python 3 (ipykernel)",
   "language": "python",
   "name": "python3"
  },
  "language_info": {
   "codemirror_mode": {
    "name": "ipython",
    "version": 3
   },
   "file_extension": ".py",
   "mimetype": "text/x-python",
   "name": "python",
   "nbconvert_exporter": "python",
   "pygments_lexer": "ipython3",
   "version": "3.13.7"
  }
 },
 "nbformat": 4,
 "nbformat_minor": 5
}
