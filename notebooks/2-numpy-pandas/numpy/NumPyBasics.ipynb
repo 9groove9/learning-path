{
 "cells": [
  {
   "cell_type": "code",
   "execution_count": 3,
   "id": "14fc344f-238e-4049-bef7-a99fc9ecd459",
   "metadata": {},
   "outputs": [
    {
     "name": "stdout",
     "output_type": "stream",
     "text": [
      "arr1: [1 2 3 4 5]\n",
      "arr2: [0 2 4 6 8]\n",
      "arr3: [0.   0.25 0.5  0.75 1.  ]\n",
      "arr4:\n",
      " [[0.59537381 0.99628554 0.82807768]\n",
      " [0.93485268 0.77888335 0.49853652]\n",
      " [0.27817783 0.01545457 0.40496938]]\n",
      "Sum of arr1: 15\n",
      "Mean of arr2: 4.0\n",
      "Max of arr4: 0.9962855406837996\n",
      "Std of arr4: 0.3066428089150502\n",
      "First element of arr1: 1\n",
      "Slice arr2[1:3]: [2 4]\n",
      "First column of arr4:\n",
      " [0.59537381 0.93485268 0.27817783]\n"
     ]
    }
   ],
   "source": [
    "import numpy as np\n",
    "\n",
    "# Create arrays\n",
    "arr1 = np.array([1, 2, 3, 4, 5])\n",
    "arr2 = np.arange(0, 10, 2)  # 0,2,4,6,8\n",
    "arr3 = np.linspace(0, 1, 5) # 0, 0.25, 0.5, 0.75, 1\n",
    "arr4 = np.random.rand(3, 3) # random 3x3\n",
    "\n",
    "print(\"arr1:\", arr1)\n",
    "print(\"arr2:\", arr2)\n",
    "print(\"arr3:\", arr3)\n",
    "print(\"arr4:\\n\", arr4)\n",
    "\n",
    "# Operations\n",
    "print(\"Sum of arr1:\", arr1.sum())\n",
    "print(\"Mean of arr2:\", arr2.mean())\n",
    "print(\"Max of arr4:\", arr4.max())\n",
    "print(\"Std of arr4:\", arr4.std())\n",
    "\n",
    "# Indexing and slicing\n",
    "print(\"First element of arr1:\", arr1[0])\n",
    "print(\"Slice arr2[1:3]:\", arr2[1:3])\n",
    "print(\"First column of arr4:\\n\", arr4[:, 0])\n"
   ]
  },
  {
   "cell_type": "code",
   "execution_count": 50,
   "id": "d66e4a35-aecb-4209-9576-665eb9d7ace7",
   "metadata": {},
   "outputs": [
    {
     "name": "stdout",
     "output_type": "stream",
     "text": [
      "Sum: 210\n",
      "Mean: 10.5\n",
      "Min: 1\n",
      "Max: 20\n",
      "[[2 2 7 4 1]\n",
      " [4 1 1 2 7]\n",
      " [7 8 7 3 9]\n",
      " [2 2 7 4 5]\n",
      " [0 8 9 2 4]]\n",
      "Mean by rows: [3.2 3.  6.8 4.  4.6]\n",
      "Mean by columns: [3.  4.2 6.2 3.  5.2]\n",
      "[ 20  40  60  80 100]\n"
     ]
    }
   ],
   "source": [
    "arr5 = np.arange(1,21)\n",
    "print(\"Sum:\", arr5.sum())\n",
    "print(\"Mean:\", arr5.mean())\n",
    "print(\"Min:\", arr5.min())\n",
    "print(\"Max:\", arr5.max())\n",
    "\n",
    "arr6 = np.random.randint(0,10,[5,5])\n",
    "print(arr6)\n",
    "print(\"Mean by rows:\", arr6.mean(axis=1))\n",
    "print(\"Mean by columns:\", arr6.mean(axis=0))\n",
    "arr6 = np.arange(10, 101, 10)\n",
    "print(arr6[1::2])"
   ]
  },
  {
   "cell_type": "code",
   "execution_count": null,
   "id": "f702e056-9e3f-4e57-ba95-f88eb263eec4",
   "metadata": {},
   "outputs": [],
   "source": []
  },
  {
   "cell_type": "code",
   "execution_count": null,
   "id": "c4114386-d11d-4302-ade3-f3dc5c68f953",
   "metadata": {},
   "outputs": [],
   "source": []
  }
 ],
 "metadata": {
  "kernelspec": {
   "display_name": "Python 3 (ipykernel)",
   "language": "python",
   "name": "python3"
  },
  "language_info": {
   "codemirror_mode": {
    "name": "ipython",
    "version": 3
   },
   "file_extension": ".py",
   "mimetype": "text/x-python",
   "name": "python",
   "nbconvert_exporter": "python",
   "pygments_lexer": "ipython3",
   "version": "3.13.7"
  }
 },
 "nbformat": 4,
 "nbformat_minor": 5
}
