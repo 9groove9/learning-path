{
 "cells": [
  {
   "cell_type": "markdown",
   "id": "71ac26f2",
   "metadata": {},
   "source": [
    "# NumPy Practice\n",
    "This notebook contains a set of exercises to practice working with NumPy arrays.\n",
    "Follow them step by step and write your code in the provided code cells."
   ]
  },
  {
   "cell_type": "markdown",
   "id": "3a5069f0",
   "metadata": {},
   "source": [
    "## Task 1\n",
    "Create an array of numbers from 1 to 20 and:\n",
    "- Print all elements with even indices.\n",
    "- Print all elements divisible by 3."
   ]
  },
  {
   "cell_type": "code",
   "execution_count": 3,
   "id": "72750267",
   "metadata": {},
   "outputs": [
    {
     "name": "stdout",
     "output_type": "stream",
     "text": [
      "[ 1  3  5  7  9 11 13 15 17 19]\n",
      "[ 3  6  9 12 15 18]\n"
     ]
    }
   ],
   "source": [
    "import numpy as np\n",
    "\n",
    "arr1 = np.arange(1, 21, dtype=int)\n",
    "print(arr1[::2])\n",
    "print(arr1[arr1 % 3 == 0])"
   ]
  },
  {
   "cell_type": "markdown",
   "id": "b873eac2",
   "metadata": {
    "jp-MarkdownHeadingCollapsed": true
   },
   "source": [
    "## Task 2\n",
    "Create a 5x5 array filled with ones, then replace the main diagonal with zeros."
   ]
  },
  {
   "cell_type": "code",
   "execution_count": 24,
   "id": "f847cbf4",
   "metadata": {},
   "outputs": [
    {
     "name": "stdout",
     "output_type": "stream",
     "text": [
      "[[0 1 1 1 1]\n",
      " [1 0 1 1 1]\n",
      " [1 1 0 1 1]\n",
      " [1 1 1 0 1]\n",
      " [1 1 1 1 0]]\n"
     ]
    }
   ],
   "source": [
    "arr2 = np.ones((5, 5), dtype=int)\n",
    "np.fill_diagonal(arr2, 0)\n",
    "print(arr2)"
   ]
  },
  {
   "cell_type": "markdown",
   "id": "e78dec5d",
   "metadata": {
    "jp-MarkdownHeadingCollapsed": true
   },
   "source": [
    "## Task 3\n",
    "Generate an array of 10 random integers from 1 to 100.\n",
    "- Find the minimum, maximum, mean and standard deviation."
   ]
  },
  {
   "cell_type": "code",
   "execution_count": 39,
   "id": "593b0acf",
   "metadata": {},
   "outputs": [
    {
     "name": "stdout",
     "output_type": "stream",
     "text": [
      "[34  4 90 31 25 71  7 45 11 98]\n",
      "4\n",
      "98\n",
      "41.6\n",
      "32.23724553990307\n"
     ]
    }
   ],
   "source": [
    "arr3 = np.random.randint(1,100,10)\n",
    "print(arr3)\n",
    "print(arr3.min())\n",
    "print(arr3.max())\n",
    "print(arr3.mean())\n",
    "print(arr3.std())"
   ]
  },
  {
   "cell_type": "markdown",
   "id": "21ecdc53",
   "metadata": {
    "jp-MarkdownHeadingCollapsed": true
   },
   "source": [
    "## Task 4\n",
    "Create an array `np.arange(1, 31)` and reshape it into a 5x6 matrix."
   ]
  },
  {
   "cell_type": "code",
   "execution_count": 41,
   "id": "c6e75f22",
   "metadata": {},
   "outputs": [
    {
     "name": "stdout",
     "output_type": "stream",
     "text": [
      "[[ 1  2  3  4  5  6]\n",
      " [ 7  8  9 10 11 12]\n",
      " [13 14 15 16 17 18]\n",
      " [19 20 21 22 23 24]\n",
      " [25 26 27 28 29 30]]\n"
     ]
    }
   ],
   "source": [
    "arr4 = np.arange(1, 31).reshape(5,6)\n",
    "print(arr4)"
   ]
  },
  {
   "cell_type": "markdown",
   "id": "0e2b767b",
   "metadata": {
    "jp-MarkdownHeadingCollapsed": true
   },
   "source": [
    "## Task 5\n",
    "Create a 10x10 random array of numbers from 0 to 1.\n",
    "- Find the sum by rows.\n",
    "- Find the mean by columns."
   ]
  },
  {
   "cell_type": "code",
   "execution_count": 46,
   "id": "fb20e6d0",
   "metadata": {},
   "outputs": [
    {
     "name": "stdout",
     "output_type": "stream",
     "text": [
      "[[0.20709803 0.87307009 0.44719849 0.03419459 0.07267988 0.91699786\n",
      "  0.39843239 0.16983646 0.44487287 0.29332959]\n",
      " [0.14737025 0.58204751 0.08935244 0.15993084 0.2516753  0.10378174\n",
      "  0.45084595 0.6802601  0.75954627 0.18932475]\n",
      " [0.49772988 0.31021857 0.24100786 0.72048368 0.41829523 0.46869774\n",
      "  0.69249415 0.40740123 0.8687365  0.31760554]\n",
      " [0.42804102 0.9700737  0.2139394  0.13777291 0.37206488 0.81371303\n",
      "  0.72513189 0.84594588 0.531661   0.82511886]\n",
      " [0.52487494 0.84248252 0.14071442 0.91522559 0.29242293 0.52816588\n",
      "  0.12627018 0.5424007  0.71510095 0.23939225]\n",
      " [0.78257594 0.33136789 0.05187607 0.84327639 0.21870135 0.2893662\n",
      "  0.4330988  0.05259358 0.72989479 0.47799655]\n",
      " [0.18988204 0.14983615 0.19273551 0.24648109 0.7719153  0.7981122\n",
      "  0.08954581 0.54064435 0.64327582 0.98145537]\n",
      " [0.08978495 0.26093207 0.20116862 0.54725125 0.78139985 0.24211171\n",
      "  0.47066306 0.26753549 0.52762836 0.62530882]\n",
      " [0.47205753 0.32519041 0.50552378 0.46115634 0.72364321 0.46073621\n",
      "  0.81323579 0.0467317  0.31716498 0.93675267]\n",
      " [0.96700624 0.24308354 0.29754794 0.11632991 0.94247696 0.29814407\n",
      "  0.6347283  0.0849381  0.67924605 0.41000862]]\n"
     ]
    }
   ],
   "source": [
    "arr5 = np.random.random((10,10))\n",
    "print(arr5)"
   ]
  },
  {
   "cell_type": "markdown",
   "id": "3145a611",
   "metadata": {
    "jp-MarkdownHeadingCollapsed": true
   },
   "source": [
    "## Task 6\n",
    "Generate an array of 100 random numbers.\n",
    "- Count how many of them are greater than 0.5."
   ]
  },
  {
   "cell_type": "code",
   "execution_count": 56,
   "id": "b7ba033a",
   "metadata": {},
   "outputs": [
    {
     "name": "stdout",
     "output_type": "stream",
     "text": [
      "51\n"
     ]
    }
   ],
   "source": [
    "arr6 = np.random.rand(100)\n",
    "print((arr6>0.5).sum())"
   ]
  },
  {
   "cell_type": "markdown",
   "id": "1d263a3a",
   "metadata": {
    "jp-MarkdownHeadingCollapsed": true
   },
   "source": [
    "## Task 7\n",
    "Create a 4x4 matrix and compute the sum of elements above the main diagonal."
   ]
  },
  {
   "cell_type": "code",
   "execution_count": 59,
   "id": "5bf80d70",
   "metadata": {},
   "outputs": [
    {
     "name": "stdout",
     "output_type": "stream",
     "text": [
      "30\n"
     ]
    }
   ],
   "source": [
    "arr7 = np.random.randint(1, 10, (4, 4))\n",
    "print(np.sum(np.triu(arr7, k=1)))"
   ]
  },
  {
   "cell_type": "markdown",
   "id": "0f1cd06b",
   "metadata": {},
   "source": [
    "## Task 8\n",
    "Create a 6x6 matrix of random integers (1–50).\n",
    "- Find the maximum in each row.\n",
    "- Find the minimum in each column."
   ]
  },
  {
   "cell_type": "code",
   "execution_count": 61,
   "id": "8d63f9b2",
   "metadata": {},
   "outputs": [
    {
     "name": "stdout",
     "output_type": "stream",
     "text": [
      "[45 42 36 47 49 40]\n",
      "[ 5  5  3  6 18  3]\n"
     ]
    }
   ],
   "source": [
    "arr8 = np.random.randint(1, 50, (6, 6))\n",
    "print(arr8.max(axis=1))\n",
    "print(arr8.min(axis=0))"
   ]
  },
  {
   "cell_type": "markdown",
   "id": "8edf250b",
   "metadata": {
    "jp-MarkdownHeadingCollapsed": true
   },
   "source": [
    "## Task 9\n",
    "Create a 5x5 matrix of random numbers from 1 to 100.\n",
    "- Sort each row individually.\n",
    "- Sort each column individually."
   ]
  },
  {
   "cell_type": "code",
   "execution_count": 64,
   "id": "e05ab167",
   "metadata": {},
   "outputs": [
    {
     "name": "stdout",
     "output_type": "stream",
     "text": [
      "[[ 54  89  45  15  90]\n",
      " [  9  49  21  31  88]\n",
      " [ 87  32   3 100  69]\n",
      " [ 91  60  51  32  96]\n",
      " [ 56  29  98  50  46]]\n",
      "[[  3  21  31  49  88]\n",
      " [  9  32  50  56  90]\n",
      " [ 15  45  54  87  96]\n",
      " [ 29  46  60  89  98]\n",
      " [ 32  51  69  91 100]]\n"
     ]
    }
   ],
   "source": [
    "arr9 = np.random.randint(1, 101, (5, 5))\n",
    "print(arr9)\n",
    "arr9.sort(axis=1)\n",
    "arr9.sort(axis=0)\n",
    "print(arr9)"
   ]
  },
  {
   "cell_type": "markdown",
   "id": "3a9295f2",
   "metadata": {
    "jp-MarkdownHeadingCollapsed": true
   },
   "source": [
    "## Task 10\n",
    "Create an array of 20 random numbers.\n",
    "- Print only the unique values.\n",
    "- Count how many times each number appears."
   ]
  },
  {
   "cell_type": "code",
   "execution_count": 77,
   "id": "67d2f63b",
   "metadata": {},
   "outputs": [
    {
     "name": "stdout",
     "output_type": "stream",
     "text": [
      "[1 3 4 5 6 7 8 9]\n",
      "[1 3 4 5 6 7 8 9]\n",
      "[2 1 3 3 3 5 2 1]\n"
     ]
    }
   ],
   "source": [
    "arr10 = np.random.randint(1, 10, 20)\n",
    "print(np.unique(arr10))\n",
    "val, count = np.unique(arr10, return_counts=True)\n",
    "print(val)\n",
    "print(count)"
   ]
  },
  {
   "cell_type": "markdown",
   "id": "f740854c",
   "metadata": {
    "jp-MarkdownHeadingCollapsed": true
   },
   "source": [
    "## Task 11\n",
    "Create 2 arrays 3x3 of random numbers.\n",
    "- Find their sum.\n",
    "- Perform matrix multiplication."
   ]
  },
  {
   "cell_type": "code",
   "execution_count": 80,
   "id": "a1add5fa",
   "metadata": {},
   "outputs": [
    {
     "name": "stdout",
     "output_type": "stream",
     "text": [
      "[[10 10  5]\n",
      " [ 7  7 15]\n",
      " [13  3 15]]\n",
      "[[65 70 97]\n",
      " [71 26 69]\n",
      " [74 32 78]]\n"
     ]
    }
   ],
   "source": [
    "arr11_1 = np.random.randint(1, 10, (3, 3))\n",
    "arr11_2 = np.random.randint(1, 10, (3, 3))\n",
    "print(arr11_1+arr11_2)\n",
    "print(arr11_1@arr11_2)"
   ]
  },
  {
   "cell_type": "markdown",
   "id": "7fb2c1c8",
   "metadata": {
    "jp-MarkdownHeadingCollapsed": true
   },
   "source": [
    "## Task 12\n",
    "Create an array of 100 random numbers from 0 to 10.\n",
    "- Plot a histogram of the distribution (using matplotlib)."
   ]
  },
  {
   "cell_type": "code",
   "execution_count": 14,
   "id": "701330fe",
   "metadata": {},
   "outputs": [
    {
     "data": {
      "application/vnd.jupyter.widget-view+json": {
       "model_id": "6315dbc0b31b4c9a9e20eddddb5584c6",
       "version_major": 2,
       "version_minor": 0
      },
      "image/png": "[encoded data removed]",
      "text/html": [
       "\n",
       "            <div style=\"display: inline-block;\">\n",
       "                <div class=\"jupyter-widgets widget-label\" style=\"text-align: center;\">\n",
       "                    Figure 1\n",
       "                </div>\n",
       "                <img src='data:image/png;base64,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' width=640.0/>\n",
       "            </div>\n",
       "        "
      ],
      "text/plain": [
       "Canvas(toolbar=Toolbar(toolitems=[('Home', 'Reset original view', 'home', 'home'), ('Back', 'Back to previous …"
      ]
     },
     "metadata": {},
     "output_type": "display_data"
    }
   ],
   "source": [
    "import matplotlib.pyplot as plt\n",
    "%matplotlib widget\n",
    "rng = np.random.default_rng(42)\n",
    "arr12 = rng.integers(0, 11, 100)\n",
    "plt.hist(arr12, bins=10, edgecolor=\"black\")\n",
    "plt.title(\"Hist of 100 randoms\")\n",
    "plt.xlabel(\"xlabel\")\n",
    "plt.ylabel(\"ylabel\")\n",
    "plt.show()"
   ]
  },
  {
   "cell_type": "markdown",
   "id": "6cf22bdf-ed23-4d72-ac4c-ff6a6a523234",
   "metadata": {
    "jp-MarkdownHeadingCollapsed": true
   },
   "source": [
    "## Task 13 (chessboard)\n",
    "Create an 8x8 chessboard as an array, where 0 = black square, 1 = white square."
   ]
  },
  {
   "cell_type": "code",
   "execution_count": 23,
   "id": "60a855ee",
   "metadata": {},
   "outputs": [
    {
     "name": "stdout",
     "output_type": "stream",
     "text": [
      "[[1 0 1 0 1 0 1 0]\n",
      " [0 1 0 1 0 1 0 1]\n",
      " [1 0 1 0 1 0 1 0]\n",
      " [0 1 0 1 0 1 0 1]\n",
      " [1 0 1 0 1 0 1 0]\n",
      " [0 1 0 1 0 1 0 1]\n",
      " [1 0 1 0 1 0 1 0]\n",
      " [0 1 0 1 0 1 0 1]]\n"
     ]
    }
   ],
   "source": [
    "block = np.array([         # use this block to build a chessboard 8x8 so in tile we'r multiply it by 4\n",
    "    [1, 0],\n",
    "    [0, 1]\n",
    "])       \n",
    "arr13 = np.tile(block, (4, 4)) # so the block reapits 4(columns) times for row and we have 4 rows\n",
    "print(arr13)"
   ]
  },
  {
   "cell_type": "markdown",
   "id": "371c2080",
   "metadata": {
    "jp-MarkdownHeadingCollapsed": true
   },
   "source": [
    "## Task 14 (temperatures)\n",
    "You have an array of temperatures for a week: [18, 20, 22, 19, 21, 23, 20].\n",
    "- Find the average temperature.\n",
    "- Print the days when it was warmer than average."
   ]
  },
  {
   "cell_type": "code",
   "execution_count": 24,
   "id": "f42fd935",
   "metadata": {},
   "outputs": [
    {
     "name": "stdout",
     "output_type": "stream",
     "text": [
      "20.428571428571427\n",
      "[22 21 23]\n"
     ]
    }
   ],
   "source": [
    "arr14 = np.array([18, 20, 22, 19, 21, 23, 20])\n",
    "print(arr14.mean())\n",
    "print(arr14[arr14 > arr14.mean()])"
   ]
  },
  {
   "cell_type": "markdown",
   "id": "519ac81c",
   "metadata": {},
   "source": [
    "## Task 15 (geometry)\n",
    "You have two vectors: coordinates of points A and B.\n",
    "- Find the Euclidean distance between the points."
   ]
  },
  {
   "cell_type": "code",
   "execution_count": 26,
   "id": "4a539867",
   "metadata": {},
   "outputs": [
    {
     "name": "stdout",
     "output_type": "stream",
     "text": [
      "6.082762530298219\n"
     ]
    }
   ],
   "source": [
    "a = np.array([3, 7])\n",
    "b = np.array([2, 1])\n",
    "diff = a - b\n",
    "distance = np.linalg.norm(diff)\n",
    "print(distance)"
   ]
  },
  {
   "cell_type": "code",
   "execution_count": null,
   "id": "2b6cfac3-df85-412e-8344-78e5655531d8",
   "metadata": {},
   "outputs": [],
   "source": []
  }
 ],
 "metadata": {
  "kernelspec": {
   "display_name": "Python 3 (ipykernel)",
   "language": "python",
   "name": "python3"
  },
  "language_info": {
   "codemirror_mode": {
    "name": "ipython",
    "version": 3
   },
   "file_extension": ".py",
   "mimetype": "text/x-python",
   "name": "python",
   "nbconvert_exporter": "python",
   "pygments_lexer": "ipython3",
   "version": "3.13.7"
  }
 },
 "nbformat": 4,
 "nbformat_minor": 5
}
