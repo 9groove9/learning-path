{
 "cells": [
  {
   "cell_type": "markdown",
   "id": "50ca9242",
   "metadata": {},
   "source": [
    "## Task 1 (array basics)\n",
    "Create an array of numbers from 10 to 30 inclusive.\n",
    "Print the first, the last element and the sum of all elements."
   ]
  },
  {
   "cell_type": "code",
   "execution_count": 1,
   "id": "52eee1c2",
   "metadata": {},
   "outputs": [
    {
     "name": "stdout",
     "output_type": "stream",
     "text": [
      "10 30 420\n"
     ]
    }
   ],
   "source": [
    "import numpy as np\n",
    "\n",
    "arr1 = np.arange(10, 31)\n",
    "print(arr1[0], arr1[-1], arr1.sum())"
   ]
  },
  {
   "cell_type": "markdown",
   "id": "1d499151",
   "metadata": {},
   "source": [
    "## Task 2 (indexing)\n",
    "Create an array from 1 to 20. Print all elements with odd indices."
   ]
  },
  {
   "cell_type": "code",
   "execution_count": 16,
   "id": "d011ea3e",
   "metadata": {},
   "outputs": [
    {
     "name": "stdout",
     "output_type": "stream",
     "text": [
      "[ 2  4  6  8 10 12 14 16 18 20]\n"
     ]
    }
   ],
   "source": [
    "arr2 = np.arange(1, 21)\n",
    "print(arr2[1::2])"
   ]
  },
  {
   "cell_type": "markdown",
   "id": "d6ed7f6e",
   "metadata": {},
   "source": [
    "## Task 3 (slicing)\n",
    "Create an array from 100 to 150 with step 5. Print the middle 5 elements."
   ]
  },
  {
   "cell_type": "code",
   "execution_count": 9,
   "id": "4c4fac68",
   "metadata": {},
   "outputs": [
    {
     "name": "stdout",
     "output_type": "stream",
     "text": [
      "[100 105 110 115 120 125 130 135 140 145 150]\n",
      "[115 120 125 130 135]\n"
     ]
    }
   ],
   "source": [
    "arr3 = np.arange(100, 151, 5)\n",
    "print(arr3[3:8])"
   ]
  },
  {
   "cell_type": "markdown",
   "id": "2d365525",
   "metadata": {},
   "source": [
    "## Task 4 (reshape)\n",
    "Create an array from 1 to 24 and reshape it into a 4x6 matrix."
   ]
  },
  {
   "cell_type": "code",
   "execution_count": 13,
   "id": "5c43d752",
   "metadata": {},
   "outputs": [
    {
     "name": "stdout",
     "output_type": "stream",
     "text": [
      "[[ 1  2  3  4  5  6]\n",
      " [ 7  8  9 10 11 12]\n",
      " [13 14 15 16 17 18]\n",
      " [19 20 21 22 23 24]]\n"
     ]
    }
   ],
   "source": [
    "arr4 = np.arange(1, 25).reshape(4,6)\n",
    "print(arr4)"
   ]
  },
  {
   "cell_type": "markdown",
   "id": "cd283d90",
   "metadata": {},
   "source": [
    "## Task 5 (statistics)\n",
    "Generate 20 random integers from 0 to 100. Find the minimum, maximum, mean, and median."
   ]
  },
  {
   "cell_type": "code",
   "execution_count": 22,
   "id": "00a0e599",
   "metadata": {},
   "outputs": [
    {
     "name": "stdout",
     "output_type": "stream",
     "text": [
      "[ 9 78 66 44 43 86  8 70 20  9 53 98 74 76 72 79 51 12 84 45]\n",
      "8 98 53.85 59.5\n"
     ]
    }
   ],
   "source": [
    "rng = np.random.default_rng(42)\n",
    "arr5 = rng.integers(0, 101, 20)\n",
    "print(arr5)\n",
    "print(arr5.min(), arr5.max(), arr5.mean(), np.median(arr5))"
   ]
  },
  {
   "cell_type": "markdown",
   "id": "94ccafc6",
   "metadata": {},
   "source": [
    "## Task 6 (masking)\n",
    "Given array `[5, 12, 7, 20, 33, 8, 2]`. Print all elements greater than 10."
   ]
  },
  {
   "cell_type": "code",
   "execution_count": 25,
   "id": "419bb8ef",
   "metadata": {},
   "outputs": [
    {
     "name": "stdout",
     "output_type": "stream",
     "text": [
      "[12 20 33]\n"
     ]
    }
   ],
   "source": [
    "arr6 = np.array([5, 12, 7, 20, 33, 8, 2])\n",
    "print(arr6[arr6 > 10])"
   ]
  },
  {
   "cell_type": "markdown",
   "id": "8681b9a5",
   "metadata": {},
   "source": [
    "## Task 7 (boolean logic)\n",
    "Create an array from 1 to 50. Print all numbers divisible by 5 but not divisible by 10."
   ]
  },
  {
   "cell_type": "code",
   "execution_count": 34,
   "id": "b4b65eff",
   "metadata": {},
   "outputs": [
    {
     "name": "stdout",
     "output_type": "stream",
     "text": [
      "[ 5 15 25 35 45]\n"
     ]
    }
   ],
   "source": [
    "arr7 = np.arange(1, 51)\n",
    "print(arr7[(arr7 % 5 == 0) & (arr7 % 10 != 0)])"
   ]
  },
  {
   "cell_type": "markdown",
   "id": "d032d239",
   "metadata": {},
   "source": [
    "## Task 8 (matrix sum)\n",
    "Create a 4x4 matrix of random integers from 1 to 9. Find the sum of each column."
   ]
  },
  {
   "cell_type": "code",
   "execution_count": 35,
   "id": "5efe754c",
   "metadata": {},
   "outputs": [
    {
     "name": "stdout",
     "output_type": "stream",
     "text": [
      "[13 22 18 25]\n"
     ]
    }
   ],
   "source": [
    "rng = np.random.default_rng(42)\n",
    "arr8 = rng.integers(1, 9, (4, 4))\n",
    "print(np.sum(arr8, axis=0))"
   ]
  },
  {
   "cell_type": "markdown",
   "id": "ac18e1ff",
   "metadata": {},
   "source": [
    "## Task 9 (matrix mean)\n",
    "Generate a 5x5 matrix of random numbers between 0 and 1. Find the mean of each row."
   ]
  },
  {
   "cell_type": "code",
   "execution_count": 39,
   "id": "b9c44d57",
   "metadata": {},
   "outputs": [
    {
     "name": "stdout",
     "output_type": "stream",
     "text": [
      "[0.57259556 0.62026519 0.64152079 0.46098727 0.75096327]\n"
     ]
    }
   ],
   "source": [
    "rng = np.random.default_rng(42)\n",
    "arr9 = rng.random((5,5))\n",
    "print(np.mean(arr9, axis=1))"
   ]
  },
  {
   "cell_type": "markdown",
   "id": "d47ea41f",
   "metadata": {},
   "source": [
    "## Task 10 (unique)\n",
    "Create an array of 40 random integers from 1 to 15. Print unique values and their counts."
   ]
  },
  {
   "cell_type": "code",
   "execution_count": 47,
   "id": "9b8c2cdc",
   "metadata": {},
   "outputs": [
    {
     "name": "stdout",
     "output_type": "stream",
     "text": [
      "[ 1  2  3  4  5  6  7  8  9 10 11 12 13 14 15]\n",
      "[1 5 1 2 1 1 6 3 2 3 2 5 5 2 1]\n"
     ]
    }
   ],
   "source": [
    "rng = np.random.default_rng(42)\n",
    "arr10 = rng.integers(1, 16, 40)\n",
    "val, count = np.unique(arr10, return_counts=True)\n",
    "print(val)\n",
    "print(count)"
   ]
  },
  {
   "cell_type": "markdown",
   "id": "9a3c0561",
   "metadata": {},
   "source": [
    "## Task 11 (sort)\n",
    "Generate a 6x6 matrix of random integers from 1 to 50. Sort it by rows."
   ]
  },
  {
   "cell_type": "code",
   "execution_count": 51,
   "id": "76cb1cb1",
   "metadata": {},
   "outputs": [
    {
     "name": "stdout",
     "output_type": "stream",
     "text": [
      "[[ 5 22 22 33 39 43]\n",
      " [ 5  5 11 27 35 49]\n",
      " [ 7 26 36 37 39 40]\n",
      " [10 19 23 26 42 47]\n",
      " [21 23 28 33 40 42]\n",
      " [ 4  5 12 23 28 45]]\n"
     ]
    }
   ],
   "source": [
    "rng = np.random.default_rng(42)\n",
    "arr11 = rng.integers(1, 51, (6,6))\n",
    "print(np.sort(arr11, axis=1))"
   ]
  },
  {
   "cell_type": "markdown",
   "id": "901e75ad",
   "metadata": {},
   "source": [
    "## Task 12 (diagonal)\n",
    "Create a 7x7 matrix of ones. Fill the main diagonal with zeros."
   ]
  },
  {
   "cell_type": "code",
   "execution_count": 54,
   "id": "0caecbe7",
   "metadata": {},
   "outputs": [
    {
     "name": "stdout",
     "output_type": "stream",
     "text": [
      "[[0. 1. 1. 1. 1. 1. 1.]\n",
      " [1. 0. 1. 1. 1. 1. 1.]\n",
      " [1. 1. 0. 1. 1. 1. 1.]\n",
      " [1. 1. 1. 0. 1. 1. 1.]\n",
      " [1. 1. 1. 1. 0. 1. 1.]\n",
      " [1. 1. 1. 1. 1. 0. 1.]\n",
      " [1. 1. 1. 1. 1. 1. 0.]]\n"
     ]
    }
   ],
   "source": [
    "arr12 = np.ones((7, 7))\n",
    "np.fill_diagonal(arr12, 0)\n",
    "print(arr12)"
   ]
  },
  {
   "cell_type": "markdown",
   "id": "23de3312",
   "metadata": {},
   "source": [
    "## Task 13 (chessboard)\n",
    "Create an 8x8 array in the form of a chessboard, where 0 = black square, 1 = white square."
   ]
  },
  {
   "cell_type": "code",
   "execution_count": 56,
   "id": "04eb8f3a",
   "metadata": {},
   "outputs": [
    {
     "name": "stdout",
     "output_type": "stream",
     "text": [
      "[[1 0 1 0 1 0 1 0]\n",
      " [0 1 0 1 0 1 0 1]\n",
      " [1 0 1 0 1 0 1 0]\n",
      " [0 1 0 1 0 1 0 1]\n",
      " [1 0 1 0 1 0 1 0]\n",
      " [0 1 0 1 0 1 0 1]\n",
      " [1 0 1 0 1 0 1 0]\n",
      " [0 1 0 1 0 1 0 1]]\n"
     ]
    }
   ],
   "source": [
    "block = [\n",
    "    [1, 0],\n",
    "    [0, 1]\n",
    "]\n",
    "arr13 = np.tile(block, (4, 4))\n",
    "print(arr13)"
   ]
  },
  {
   "cell_type": "markdown",
   "id": "6c49c631",
   "metadata": {},
   "source": [
    "## Task 14 (random stats)\n",
    "Generate 60 random integers from 5 to 15. Count how many of them are greater than 10."
   ]
  },
  {
   "cell_type": "code",
   "execution_count": 59,
   "id": "d0afe2c2",
   "metadata": {},
   "outputs": [
    {
     "name": "stdout",
     "output_type": "stream",
     "text": [
      "29\n"
     ]
    }
   ],
   "source": [
    "rng = np.random.default_rng(42)\n",
    "arr14 = rng.integers(5, 16, 60)\n",
    "print((arr14>10).sum())"
   ]
  },
  {
   "cell_type": "markdown",
   "id": "a6e09eb6",
   "metadata": {},
   "source": [
    "## Task 15 (geometry)\n",
    "Points `A = (2,4,6)` and `B = (5,1,9)`. Find the Euclidean distance between them."
   ]
  },
  {
   "cell_type": "code",
   "execution_count": 63,
   "id": "b71b0e57",
   "metadata": {},
   "outputs": [
    {
     "name": "stdout",
     "output_type": "stream",
     "text": [
      "5.196152422706632\n"
     ]
    }
   ],
   "source": [
    "a = np.array([2, 4, 6])\n",
    "b = np.array([5, 1, 9])\n",
    "diff = a - b\n",
    "distance = np.linalg.norm(diff)\n",
    "print(distance)"
   ]
  },
  {
   "cell_type": "markdown",
   "id": "80a92b19",
   "metadata": {},
   "source": [
    "## Task 16 (dot product)\n",
    "Create two vectors of length 4 and compute their dot product."
   ]
  },
  {
   "cell_type": "code",
   "execution_count": 66,
   "id": "4729d5d8",
   "metadata": {},
   "outputs": [
    {
     "name": "stdout",
     "output_type": "stream",
     "text": [
      "70\n"
     ]
    }
   ],
   "source": [
    "v1 = np.array([1, 2, 3, 4])\n",
    "v2 = np.array([5, 6, 7, 8])\n",
    "print(v1@v2)"
   ]
  },
  {
   "cell_type": "markdown",
   "id": "7fb9d78f",
   "metadata": {},
   "source": [
    "## Task 17 (matrix multiplication)\n",
    "Create two matrices: 2x3 and 3x2 with random integers from 1 to 5. Compute their matrix multiplication."
   ]
  },
  {
   "cell_type": "code",
   "execution_count": 74,
   "id": "f82e328e",
   "metadata": {},
   "outputs": [
    {
     "name": "stdout",
     "output_type": "stream",
     "text": [
      "[[21 28]\n",
      " [24 40]]\n"
     ]
    }
   ],
   "source": [
    "rng = np.random.default_rng(42)\n",
    "arr17_1 = rng.integers(1, 6, (2, 3))\n",
    "arr17_2 = rng.integers(1, 6, (3, 2))\n",
    "print(arr17_1@arr17_2)"
   ]
  },
  {
   "cell_type": "markdown",
   "id": "27f9b9ad",
   "metadata": {},
   "source": [
    "## Task 18 (histogram)\n",
    "Generate 200 random integers in range 0–50. Plot their histogram using matplotlib."
   ]
  },
  {
   "cell_type": "code",
   "execution_count": 79,
   "id": "9c6ac8d9",
   "metadata": {},
   "outputs": [
    {
     "data": {
      "image/png": "[encoded data removed]",
      "text/plain": [
       "<Figure size 640x480 with 1 Axes>"
      ]
     },
     "metadata": {},
     "output_type": "display_data"
    }
   ],
   "source": [
    "import matplotlib.pyplot as plt\n",
    "\n",
    "rng = np.random.default_rng(42)\n",
    "arr18 = rng.integers(0, 51, 200)\n",
    "bins = np.arange(-0.5, 51.5, 10)\n",
    "\n",
    "plt.hist(arr18, bins=bins, edgecolor=\"black\")\n",
    "plt.title(\"Hist of 200 randoms from 0 to 50\")\n",
    "plt.xlabel(\"Value\")\n",
    "plt.ylabel(\"Frequency\")\n",
    "\n",
    "plt.show()"
   ]
  },
  {
   "cell_type": "markdown",
   "id": "5e23003d",
   "metadata": {},
   "source": [
    "## Task 19 (linspace)\n",
    "Create 100 points evenly spaced between -π and π. Compute their cosine values."
   ]
  },
  {
   "cell_type": "code",
   "execution_count": 92,
   "id": "7967b7d1",
   "metadata": {},
   "outputs": [
    {
     "name": "stdout",
     "output_type": "stream",
     "text": [
      "[-1.         -0.99798668 -0.99195481 -0.9819287  -0.9679487  -0.95007112\n",
      " -0.92836793 -0.90292654 -0.87384938 -0.84125353 -0.80527026 -0.76604444\n",
      " -0.72373404 -0.67850941 -0.63055267 -0.58005691 -0.52722547 -0.47227107\n",
      " -0.41541501 -0.35688622 -0.29692038 -0.23575894 -0.17364818 -0.1108382\n",
      " -0.04758192  0.01586596  0.07924996  0.14231484  0.20480667  0.26647381\n",
      "  0.32706796  0.38634513  0.44406661  0.5         0.55392006  0.60560969\n",
      "  0.65486073  0.70147489  0.74526445  0.78605309  0.82367658  0.85798341\n",
      "  0.88883545  0.91610846  0.93969262  0.95949297  0.97542979  0.98743889\n",
      "  0.99547192  0.99949654  0.99949654  0.99547192  0.98743889  0.97542979\n",
      "  0.95949297  0.93969262  0.91610846  0.88883545  0.85798341  0.82367658\n",
      "  0.78605309  0.74526445  0.70147489  0.65486073  0.60560969  0.55392006\n",
      "  0.5         0.44406661  0.38634513  0.32706796  0.26647381  0.20480667\n",
      "  0.14231484  0.07924996  0.01586596 -0.04758192 -0.1108382  -0.17364818\n",
      " -0.23575894 -0.29692038 -0.35688622 -0.41541501 -0.47227107 -0.52722547\n",
      " -0.58005691 -0.63055267 -0.67850941 -0.72373404 -0.76604444 -0.80527026\n",
      " -0.84125353 -0.87384938 -0.90292654 -0.92836793 -0.95007112 -0.9679487\n",
      " -0.9819287  -0.99195481 -0.99798668 -1.        ]\n",
      "0.031733259127169955\n"
     ]
    }
   ],
   "source": [
    "import math\n",
    "arr19 = np.linspace(-math.pi, math.pi, 100, dtype=float)\n",
    "print(np.cos(arr19))\n",
    "print(arr19[50])"
   ]
  },
  {
   "cell_type": "markdown",
   "id": "ead3c2da",
   "metadata": {},
   "source": [
    "## Task 20 (reshape + sum)\n",
    "Create an array from 1 to 49. Reshape it into a 7x7 matrix. Find the sum of the elements above the main diagonal."
   ]
  },
  {
   "cell_type": "code",
   "execution_count": 93,
   "id": "7a619e94",
   "metadata": {},
   "outputs": [
    {
     "name": "stdout",
     "output_type": "stream",
     "text": [
      "357\n"
     ]
    }
   ],
   "source": [
    "arr20 = np.arange(1, 50).reshape(7, 7)\n",
    "print((np.triu(arr20, k=1)).sum())"
   ]
  },
  {
   "cell_type": "code",
   "execution_count": null,
   "id": "f0ce705d-b336-49fe-bdad-53f02754739a",
   "metadata": {},
   "outputs": [],
   "source": []
  }
 ],
 "metadata": {
  "kernelspec": {
   "display_name": "Python 3 (ipykernel)",
   "language": "python",
   "name": "python3"
  },
  "language_info": {
   "codemirror_mode": {
    "name": "ipython",
    "version": 3
   },
   "file_extension": ".py",
   "mimetype": "text/x-python",
   "name": "python",
   "nbconvert_exporter": "python",
   "pygments_lexer": "ipython3",
   "version": "3.13.7"
  }
 },
 "nbformat": 4,
 "nbformat_minor": 5
}
