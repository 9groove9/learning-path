{
 "cells": [
  {
   "cell_type": "markdown",
   "id": "56817ff1-9001-4b9c-93f7-9ee5bc80f86d",
   "metadata": {},
   "source": [
    "# 🐼 Pandas Tasks 2\n",
    "\n",
    "## Task"
   ]
  },
  {
   "cell_type": "markdown",
   "id": "b36046d4-d47a-4788-9456-1e8d88fec17c",
   "metadata": {},
   "source": [
    "### Step 1. Load CSV\n",
    "Load the file `sales.csv` into a DataFrame."
   ]
  },
  {
   "cell_type": "code",
   "execution_count": 1,
   "id": "2a6fdce9-fd8e-4a26-acb6-a0462ec3420f",
   "metadata": {},
   "outputs": [
    {
     "data": {
      "text/html": [
       "<div>\n",
       "<style scoped>\n",
       "    .dataframe tbody tr th:only-of-type {\n",
       "        vertical-align: middle;\n",
       "    }\n",
       "\n",
       "    .dataframe tbody tr th {\n",
       "        vertical-align: top;\n",
       "    }\n",
       "\n",
       "    .dataframe thead th {\n",
       "        text-align: right;\n",
       "    }\n",
       "</style>\n",
       "<table border=\"1\" class=\"dataframe\">\n",
       "  <thead>\n",
       "    <tr style=\"text-align: right;\">\n",
       "      <th></th>\n",
       "      <th>region</th>\n",
       "      <th>product</th>\n",
       "      <th>quantity</th>\n",
       "      <th>price</th>\n",
       "      <th>revenue</th>\n",
       "    </tr>\n",
       "    <tr>\n",
       "      <th>date</th>\n",
       "      <th></th>\n",
       "      <th></th>\n",
       "      <th></th>\n",
       "      <th></th>\n",
       "      <th></th>\n",
       "    </tr>\n",
       "  </thead>\n",
       "  <tbody>\n",
       "    <tr>\n",
       "      <th>2023-02-08</th>\n",
       "      <td>East</td>\n",
       "      <td>Product D</td>\n",
       "      <td>3</td>\n",
       "      <td>64.33</td>\n",
       "      <td>193.0</td>\n",
       "    </tr>\n",
       "    <tr>\n",
       "      <th>2023-02-21</th>\n",
       "      <td>East</td>\n",
       "      <td>Product B</td>\n",
       "      <td>11</td>\n",
       "      <td>26.36</td>\n",
       "      <td>290.0</td>\n",
       "    </tr>\n",
       "    <tr>\n",
       "      <th>2023-01-29</th>\n",
       "      <td>West</td>\n",
       "      <td>Product A</td>\n",
       "      <td>11</td>\n",
       "      <td>18.55</td>\n",
       "      <td>204.0</td>\n",
       "    </tr>\n",
       "    <tr>\n",
       "      <th>2023-01-15</th>\n",
       "      <td>South</td>\n",
       "      <td>Product D</td>\n",
       "      <td>18</td>\n",
       "      <td>20.06</td>\n",
       "      <td>361.0</td>\n",
       "    </tr>\n",
       "    <tr>\n",
       "      <th>2023-02-12</th>\n",
       "      <td>South</td>\n",
       "      <td>Product E</td>\n",
       "      <td>15</td>\n",
       "      <td>13.60</td>\n",
       "      <td>204.0</td>\n",
       "    </tr>\n",
       "    <tr>\n",
       "      <th>...</th>\n",
       "      <td>...</td>\n",
       "      <td>...</td>\n",
       "      <td>...</td>\n",
       "      <td>...</td>\n",
       "      <td>...</td>\n",
       "    </tr>\n",
       "    <tr>\n",
       "      <th>2023-02-12</th>\n",
       "      <td>South</td>\n",
       "      <td>Product E</td>\n",
       "      <td>16</td>\n",
       "      <td>7.62</td>\n",
       "      <td>122.0</td>\n",
       "    </tr>\n",
       "    <tr>\n",
       "      <th>2023-01-29</th>\n",
       "      <td>East</td>\n",
       "      <td>Product B</td>\n",
       "      <td>8</td>\n",
       "      <td>18.62</td>\n",
       "      <td>149.0</td>\n",
       "    </tr>\n",
       "    <tr>\n",
       "      <th>2023-02-05</th>\n",
       "      <td>South</td>\n",
       "      <td>Product B</td>\n",
       "      <td>4</td>\n",
       "      <td>14.00</td>\n",
       "      <td>56.0</td>\n",
       "    </tr>\n",
       "    <tr>\n",
       "      <th>2023-01-13</th>\n",
       "      <td>North</td>\n",
       "      <td>Product B</td>\n",
       "      <td>8</td>\n",
       "      <td>1.25</td>\n",
       "      <td>10.0</td>\n",
       "    </tr>\n",
       "    <tr>\n",
       "      <th>2023-02-01</th>\n",
       "      <td>Central</td>\n",
       "      <td>Product E</td>\n",
       "      <td>4</td>\n",
       "      <td>24.75</td>\n",
       "      <td>99.0</td>\n",
       "    </tr>\n",
       "  </tbody>\n",
       "</table>\n",
       "<p>200 rows × 5 columns</p>\n",
       "</div>"
      ],
      "text/plain": [
       "             region    product  quantity  price  revenue\n",
       "date                                                    \n",
       "2023-02-08     East  Product D         3  64.33    193.0\n",
       "2023-02-21     East  Product B        11  26.36    290.0\n",
       "2023-01-29     West  Product A        11  18.55    204.0\n",
       "2023-01-15    South  Product D        18  20.06    361.0\n",
       "2023-02-12    South  Product E        15  13.60    204.0\n",
       "...             ...        ...       ...    ...      ...\n",
       "2023-02-12    South  Product E        16   7.62    122.0\n",
       "2023-01-29     East  Product B         8  18.62    149.0\n",
       "2023-02-05    South  Product B         4  14.00     56.0\n",
       "2023-01-13    North  Product B         8   1.25     10.0\n",
       "2023-02-01  Central  Product E         4  24.75     99.0\n",
       "\n",
       "[200 rows x 5 columns]"
      ]
     },
     "execution_count": 1,
     "metadata": {},
     "output_type": "execute_result"
    }
   ],
   "source": [
    "import pandas as pd\n",
    "\n",
    "df = pd.read_csv('csv/sales.csv',index_col=\"date\")\n",
    "df"
   ]
  },
  {
   "cell_type": "markdown",
   "id": "24c626cd",
   "metadata": {},
   "source": [
    "### Step 2. Average Revenue\n",
    "Print the average `Revenue`."
   ]
  },
  {
   "cell_type": "code",
   "execution_count": 2,
   "id": "383eae4f",
   "metadata": {},
   "outputs": [
    {
     "name": "stdout",
     "output_type": "stream",
     "text": [
      "222.0753768844221\n"
     ]
    }
   ],
   "source": [
    "print(df['revenue'].mean())"
   ]
  },
  {
   "cell_type": "markdown",
   "id": "334c052c",
   "metadata": {},
   "source": [
    "### Step 3. Min and Max Revenue\n",
    "Find the minimum and maximum values of the `Revenue` column."
   ]
  },
  {
   "cell_type": "code",
   "execution_count": 3,
   "id": "29fed3e7",
   "metadata": {},
   "outputs": [
    {
     "name": "stdout",
     "output_type": "stream",
     "text": [
      "2023-01-27 2023-02-05\n"
     ]
    }
   ],
   "source": [
    "print(df['revenue'].idxmax(), df['revenue'].idxmin())"
   ]
  },
  {
   "cell_type": "markdown",
   "id": "2ef33175",
   "metadata": {},
   "source": [
    "### Step 4. New column Revenue_with_tax\n",
    "Add a new column `Revenue_with_tax` that includes 20% tax."
   ]
  },
  {
   "cell_type": "code",
   "execution_count": 4,
   "id": "f6f61389",
   "metadata": {},
   "outputs": [
    {
     "data": {
      "text/html": [
       "<div>\n",
       "<style scoped>\n",
       "    .dataframe tbody tr th:only-of-type {\n",
       "        vertical-align: middle;\n",
       "    }\n",
       "\n",
       "    .dataframe tbody tr th {\n",
       "        vertical-align: top;\n",
       "    }\n",
       "\n",
       "    .dataframe thead th {\n",
       "        text-align: right;\n",
       "    }\n",
       "</style>\n",
       "<table border=\"1\" class=\"dataframe\">\n",
       "  <thead>\n",
       "    <tr style=\"text-align: right;\">\n",
       "      <th></th>\n",
       "      <th>region</th>\n",
       "      <th>product</th>\n",
       "      <th>quantity</th>\n",
       "      <th>price</th>\n",
       "      <th>revenue</th>\n",
       "      <th>revenue_with_tax</th>\n",
       "    </tr>\n",
       "    <tr>\n",
       "      <th>date</th>\n",
       "      <th></th>\n",
       "      <th></th>\n",
       "      <th></th>\n",
       "      <th></th>\n",
       "      <th></th>\n",
       "      <th></th>\n",
       "    </tr>\n",
       "  </thead>\n",
       "  <tbody>\n",
       "    <tr>\n",
       "      <th>2023-02-08</th>\n",
       "      <td>East</td>\n",
       "      <td>Product D</td>\n",
       "      <td>3</td>\n",
       "      <td>64.33</td>\n",
       "      <td>193.0</td>\n",
       "      <td>231.6</td>\n",
       "    </tr>\n",
       "    <tr>\n",
       "      <th>2023-02-21</th>\n",
       "      <td>East</td>\n",
       "      <td>Product B</td>\n",
       "      <td>11</td>\n",
       "      <td>26.36</td>\n",
       "      <td>290.0</td>\n",
       "      <td>348.0</td>\n",
       "    </tr>\n",
       "    <tr>\n",
       "      <th>2023-01-29</th>\n",
       "      <td>West</td>\n",
       "      <td>Product A</td>\n",
       "      <td>11</td>\n",
       "      <td>18.55</td>\n",
       "      <td>204.0</td>\n",
       "      <td>244.8</td>\n",
       "    </tr>\n",
       "    <tr>\n",
       "      <th>2023-01-15</th>\n",
       "      <td>South</td>\n",
       "      <td>Product D</td>\n",
       "      <td>18</td>\n",
       "      <td>20.06</td>\n",
       "      <td>361.0</td>\n",
       "      <td>433.2</td>\n",
       "    </tr>\n",
       "    <tr>\n",
       "      <th>2023-02-12</th>\n",
       "      <td>South</td>\n",
       "      <td>Product E</td>\n",
       "      <td>15</td>\n",
       "      <td>13.60</td>\n",
       "      <td>204.0</td>\n",
       "      <td>244.8</td>\n",
       "    </tr>\n",
       "    <tr>\n",
       "      <th>...</th>\n",
       "      <td>...</td>\n",
       "      <td>...</td>\n",
       "      <td>...</td>\n",
       "      <td>...</td>\n",
       "      <td>...</td>\n",
       "      <td>...</td>\n",
       "    </tr>\n",
       "    <tr>\n",
       "      <th>2023-02-12</th>\n",
       "      <td>South</td>\n",
       "      <td>Product E</td>\n",
       "      <td>16</td>\n",
       "      <td>7.62</td>\n",
       "      <td>122.0</td>\n",
       "      <td>146.4</td>\n",
       "    </tr>\n",
       "    <tr>\n",
       "      <th>2023-01-29</th>\n",
       "      <td>East</td>\n",
       "      <td>Product B</td>\n",
       "      <td>8</td>\n",
       "      <td>18.62</td>\n",
       "      <td>149.0</td>\n",
       "      <td>178.8</td>\n",
       "    </tr>\n",
       "    <tr>\n",
       "      <th>2023-02-05</th>\n",
       "      <td>South</td>\n",
       "      <td>Product B</td>\n",
       "      <td>4</td>\n",
       "      <td>14.00</td>\n",
       "      <td>56.0</td>\n",
       "      <td>67.2</td>\n",
       "    </tr>\n",
       "    <tr>\n",
       "      <th>2023-01-13</th>\n",
       "      <td>North</td>\n",
       "      <td>Product B</td>\n",
       "      <td>8</td>\n",
       "      <td>1.25</td>\n",
       "      <td>10.0</td>\n",
       "      <td>12.0</td>\n",
       "    </tr>\n",
       "    <tr>\n",
       "      <th>2023-02-01</th>\n",
       "      <td>Central</td>\n",
       "      <td>Product E</td>\n",
       "      <td>4</td>\n",
       "      <td>24.75</td>\n",
       "      <td>99.0</td>\n",
       "      <td>118.8</td>\n",
       "    </tr>\n",
       "  </tbody>\n",
       "</table>\n",
       "<p>200 rows × 6 columns</p>\n",
       "</div>"
      ],
      "text/plain": [
       "             region    product  quantity  price  revenue  revenue_with_tax\n",
       "date                                                                      \n",
       "2023-02-08     East  Product D         3  64.33    193.0             231.6\n",
       "2023-02-21     East  Product B        11  26.36    290.0             348.0\n",
       "2023-01-29     West  Product A        11  18.55    204.0             244.8\n",
       "2023-01-15    South  Product D        18  20.06    361.0             433.2\n",
       "2023-02-12    South  Product E        15  13.60    204.0             244.8\n",
       "...             ...        ...       ...    ...      ...               ...\n",
       "2023-02-12    South  Product E        16   7.62    122.0             146.4\n",
       "2023-01-29     East  Product B         8  18.62    149.0             178.8\n",
       "2023-02-05    South  Product B         4  14.00     56.0              67.2\n",
       "2023-01-13    North  Product B         8   1.25     10.0              12.0\n",
       "2023-02-01  Central  Product E         4  24.75     99.0             118.8\n",
       "\n",
       "[200 rows x 6 columns]"
      ]
     },
     "execution_count": 4,
     "metadata": {},
     "output_type": "execute_result"
    }
   ],
   "source": [
    "df['revenue_with_tax'] = df['revenue'] * 1.20\n",
    "df"
   ]
  },
  {
   "cell_type": "markdown",
   "id": "4a8444d8",
   "metadata": {},
   "source": [
    "### Step 5. Filter products\n",
    "Print only rows where `Revenue_with_tax > 500`."
   ]
  },
  {
   "cell_type": "code",
   "execution_count": 5,
   "id": "77cfef83",
   "metadata": {},
   "outputs": [
    {
     "name": "stdout",
     "output_type": "stream",
     "text": [
      "             region    product  quantity  price  revenue  revenue_with_tax\n",
      "date                                                                      \n",
      "2023-02-08     East  Product D         3  64.33    193.0             231.6\n",
      "2023-02-21     East  Product B        11  26.36    290.0             348.0\n",
      "2023-01-29     West  Product A        11  18.55    204.0             244.8\n",
      "2023-01-15    South  Product D        18  20.06    361.0             433.2\n",
      "2023-02-12    South  Product E        15  13.60    204.0             244.8\n",
      "...             ...        ...       ...    ...      ...               ...\n",
      "2023-01-15    South  Product E        11   2.64     29.0              34.8\n",
      "2023-02-12    South  Product E        16   7.62    122.0             146.4\n",
      "2023-01-29     East  Product B         8  18.62    149.0             178.8\n",
      "2023-02-05    South  Product B         4  14.00     56.0              67.2\n",
      "2023-02-01  Central  Product E         4  24.75     99.0             118.8\n",
      "\n",
      "[189 rows x 6 columns]\n"
     ]
    }
   ],
   "source": [
    "print(df.loc[df['revenue_with_tax']>20])"
   ]
  },
  {
   "cell_type": "markdown",
   "id": "5a33bde0",
   "metadata": {},
   "source": [
    "### ⭐ Optional (Portfolio)\n",
    "Create a function `analyze_sales(filename)` that:\n",
    "- takes the CSV filename;\n",
    "- returns a dictionary with average, minimum, and maximum revenue."
   ]
  },
  {
   "cell_type": "code",
   "execution_count": 6,
   "id": "ec95df30",
   "metadata": {},
   "outputs": [
    {
     "name": "stdout",
     "output_type": "stream",
     "text": [
      "{'Average revenue:': np.float64(222.0753768844221), 'Minimum revenue:': np.float64(-50.0), 'Maximum revenue:': np.float64(495.0)}\n"
     ]
    }
   ],
   "source": [
    "def analyze_sales(filename: str)->dict:\n",
    "    df = pd.read_csv(filename)\n",
    "    return {\n",
    "        \"Average revenue:\": df['revenue'].mean(),\n",
    "        \"Minimum revenue:\": df['revenue'].min(),\n",
    "        \"Maximum revenue:\": df['revenue'].max()\n",
    "    }\n",
    "print(analyze_sales('csv/sales.csv'))"
   ]
  },
  {
   "cell_type": "code",
   "execution_count": null,
   "id": "8aefde66-3255-4910-b032-d8b762ffaf38",
   "metadata": {},
   "outputs": [],
   "source": []
  }
 ],
 "metadata": {
  "kernelspec": {
   "display_name": "Python 3 (ipykernel)",
   "language": "python",
   "name": "python3"
  },
  "language_info": {
   "codemirror_mode": {
    "name": "ipython",
    "version": 3
   },
   "file_extension": ".py",
   "mimetype": "text/x-python",
   "name": "python",
   "nbconvert_exporter": "python",
   "pygments_lexer": "ipython3",
   "version": "3.13.7"
  }
 },
 "nbformat": 4,
 "nbformat_minor": 5
}
