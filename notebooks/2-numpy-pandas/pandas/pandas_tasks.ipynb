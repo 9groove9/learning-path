{
 "cells": [
  {
   "cell_type": "markdown",
   "id": "fdd4743e",
   "metadata": {},
   "source": [
    "# Data Analysis Exercises\n",
    "\n",
    "This notebook contains tasks for practicing **pandas** basics.\n",
    "Fill in the empty code cells with your own solutions."
   ]
  },
  {
   "cell_type": "markdown",
   "id": "be32b984",
   "metadata": {},
   "source": [
    "## Task 1: Series with city names and population\n",
    "- Create a `Series` with 5 cities and their population.\n",
    "- Print all values.\n",
    "- Find the city with the largest population."
   ]
  },
  {
   "cell_type": "code",
   "execution_count": 1,
   "id": "85e80ada",
   "metadata": {},
   "outputs": [
    {
     "name": "stdout",
     "output_type": "stream",
     "text": [
      "London     9,840,740\n",
      "Munich     1,456,039\n",
      "Warsaw     1,800,230\n",
      "Paris     11,346,800\n",
      "Madrid     6,810,530\n",
      "dtype: object\n",
      "Paris\n"
     ]
    }
   ],
   "source": [
    "import pandas as pd\n",
    "\n",
    "data = {\"London\": 9_840_740,\"Munich\": 1_456_039, \"Warsaw\": 1_800_230, \"Paris\": 11_346_800,\"Madrid\": 6_810_530}\n",
    "cities_population = pd.Series(data)\n",
    "print(cities_population.apply(lambda x: f\"{x:,}\"))\n",
    "print(cities_population.idxmax())"
   ]
  },
  {
   "cell_type": "markdown",
   "id": "244d87cc",
   "metadata": {},
   "source": [
    "## Task 2: DataFrame with products\n",
    "- Create a `DataFrame` with 5 products: name, price, quantity.\n",
    "- Add a column **Total** = price × quantity.\n",
    "- Calculate the total sum of all products."
   ]
  },
  {
   "cell_type": "code",
   "execution_count": 2,
   "id": "b1df81c0",
   "metadata": {},
   "outputs": [
    {
     "name": "stdout",
     "output_type": "stream",
     "text": [
      "175.2\n"
     ]
    },
    {
     "data": {
      "text/html": [
       "<div>\n",
       "<style scoped>\n",
       "    .dataframe tbody tr th:only-of-type {\n",
       "        vertical-align: middle;\n",
       "    }\n",
       "\n",
       "    .dataframe tbody tr th {\n",
       "        vertical-align: top;\n",
       "    }\n",
       "\n",
       "    .dataframe thead th {\n",
       "        text-align: right;\n",
       "    }\n",
       "</style>\n",
       "<table border=\"1\" class=\"dataframe\">\n",
       "  <thead>\n",
       "    <tr style=\"text-align: right;\">\n",
       "      <th></th>\n",
       "      <th>price</th>\n",
       "      <th>quantity</th>\n",
       "      <th>Total</th>\n",
       "    </tr>\n",
       "  </thead>\n",
       "  <tbody>\n",
       "    <tr>\n",
       "      <th>Apple</th>\n",
       "      <td>1.1</td>\n",
       "      <td>10</td>\n",
       "      <td>11.0</td>\n",
       "    </tr>\n",
       "    <tr>\n",
       "      <th>Cucumber</th>\n",
       "      <td>2.3</td>\n",
       "      <td>15</td>\n",
       "      <td>34.5</td>\n",
       "    </tr>\n",
       "    <tr>\n",
       "      <th>Tomato</th>\n",
       "      <td>3.2</td>\n",
       "      <td>13</td>\n",
       "      <td>41.6</td>\n",
       "    </tr>\n",
       "    <tr>\n",
       "      <th>Potato</th>\n",
       "      <td>0.8</td>\n",
       "      <td>23</td>\n",
       "      <td>18.4</td>\n",
       "    </tr>\n",
       "    <tr>\n",
       "      <th>Garlic</th>\n",
       "      <td>4.1</td>\n",
       "      <td>17</td>\n",
       "      <td>69.7</td>\n",
       "    </tr>\n",
       "  </tbody>\n",
       "</table>\n",
       "</div>"
      ],
      "text/plain": [
       "          price  quantity  Total\n",
       "Apple       1.1        10   11.0\n",
       "Cucumber    2.3        15   34.5\n",
       "Tomato      3.2        13   41.6\n",
       "Potato      0.8        23   18.4\n",
       "Garlic      4.1        17   69.7"
      ]
     },
     "execution_count": 2,
     "metadata": {},
     "output_type": "execute_result"
    }
   ],
   "source": [
    "data2 = {\n",
    "    \"Apple\": {\"price\": 1.1, \"quantity\": 10},\n",
    "    \"Cucumber\": {\"price\": 2.3, \"quantity\": 15},\n",
    "    \"Tomato\": {\"price\": 3.2, \"quantity\": 13},\n",
    "    \"Potato\": {\"price\": 0.8, \"quantity\": 23},\n",
    "    \"Garlic\": {\"price\": 4.1, \"quantity\": 17},\n",
    "}\n",
    "df = pd.DataFrame.from_dict(data2, orient=\"index\")\n",
    "df[\"Total\"] = df[\"price\"] * df[\"quantity\"]\n",
    "print(df[\"Total\"].sum())\n",
    "df"
   ]
  },
  {
   "cell_type": "markdown",
   "id": "b979701e",
   "metadata": {},
   "source": [
    "## Task 3: Working with CSV\n",
    "- Load the file `sales.csv`.\n",
    "- Show the first 5 rows.\n",
    "- Calculate the average revenue (`Revenue`)."
   ]
  },
  {
   "cell_type": "code",
   "execution_count": 4,
   "id": "a6a70e46",
   "metadata": {},
   "outputs": [
    {
     "name": "stdout",
     "output_type": "stream",
     "text": [
      "222.08\n"
     ]
    }
   ],
   "source": [
    "df = pd.read_csv(\"csv/sales.csv\")\n",
    "df.head(5)\n",
    "print(f\"{df[\"revenue\"].mean():.2f}\")"
   ]
  },
  {
   "cell_type": "markdown",
   "id": "24f2ba22",
   "metadata": {},
   "source": [
    "## Task 4 (Optional for Portfolio): Function `analyze_dataframe(df)`\n",
    "- Write a function that returns a dictionary with:\n",
    "  - number of rows,\n",
    "  - number of columns,\n",
    "  - mean values of numeric columns.\n",
    "- Use it to analyze `sales.csv`."
   ]
  },
  {
   "cell_type": "code",
   "execution_count": 5,
   "id": "7e87b119",
   "metadata": {},
   "outputs": [
    {
     "name": "stdout",
     "output_type": "stream",
     "text": [
      "{'Number of rows:': 200, 'Number of columns:': 5, 'Mean value of numeric columns:': quantity     10.025000\n",
      "price        42.821106\n",
      "revenue     222.075377\n",
      "dtype: float64}\n"
     ]
    },
    {
     "data": {
      "text/html": [
       "<div>\n",
       "<style scoped>\n",
       "    .dataframe tbody tr th:only-of-type {\n",
       "        vertical-align: middle;\n",
       "    }\n",
       "\n",
       "    .dataframe tbody tr th {\n",
       "        vertical-align: top;\n",
       "    }\n",
       "\n",
       "    .dataframe thead th {\n",
       "        text-align: right;\n",
       "    }\n",
       "</style>\n",
       "<table border=\"1\" class=\"dataframe\">\n",
       "  <thead>\n",
       "    <tr style=\"text-align: right;\">\n",
       "      <th></th>\n",
       "      <th>region</th>\n",
       "      <th>product</th>\n",
       "      <th>quantity</th>\n",
       "      <th>price</th>\n",
       "      <th>revenue</th>\n",
       "    </tr>\n",
       "    <tr>\n",
       "      <th>date</th>\n",
       "      <th></th>\n",
       "      <th></th>\n",
       "      <th></th>\n",
       "      <th></th>\n",
       "      <th></th>\n",
       "    </tr>\n",
       "  </thead>\n",
       "  <tbody>\n",
       "    <tr>\n",
       "      <th>2023-02-08</th>\n",
       "      <td>East</td>\n",
       "      <td>Product D</td>\n",
       "      <td>3</td>\n",
       "      <td>64.33</td>\n",
       "      <td>193.0</td>\n",
       "    </tr>\n",
       "    <tr>\n",
       "      <th>2023-02-21</th>\n",
       "      <td>East</td>\n",
       "      <td>Product B</td>\n",
       "      <td>11</td>\n",
       "      <td>26.36</td>\n",
       "      <td>290.0</td>\n",
       "    </tr>\n",
       "    <tr>\n",
       "      <th>2023-01-29</th>\n",
       "      <td>West</td>\n",
       "      <td>Product A</td>\n",
       "      <td>11</td>\n",
       "      <td>18.55</td>\n",
       "      <td>204.0</td>\n",
       "    </tr>\n",
       "    <tr>\n",
       "      <th>2023-01-15</th>\n",
       "      <td>South</td>\n",
       "      <td>Product D</td>\n",
       "      <td>18</td>\n",
       "      <td>20.06</td>\n",
       "      <td>361.0</td>\n",
       "    </tr>\n",
       "    <tr>\n",
       "      <th>2023-02-12</th>\n",
       "      <td>South</td>\n",
       "      <td>Product E</td>\n",
       "      <td>15</td>\n",
       "      <td>13.60</td>\n",
       "      <td>204.0</td>\n",
       "    </tr>\n",
       "    <tr>\n",
       "      <th>...</th>\n",
       "      <td>...</td>\n",
       "      <td>...</td>\n",
       "      <td>...</td>\n",
       "      <td>...</td>\n",
       "      <td>...</td>\n",
       "    </tr>\n",
       "    <tr>\n",
       "      <th>2023-02-12</th>\n",
       "      <td>South</td>\n",
       "      <td>Product E</td>\n",
       "      <td>16</td>\n",
       "      <td>7.62</td>\n",
       "      <td>122.0</td>\n",
       "    </tr>\n",
       "    <tr>\n",
       "      <th>2023-01-29</th>\n",
       "      <td>East</td>\n",
       "      <td>Product B</td>\n",
       "      <td>8</td>\n",
       "      <td>18.62</td>\n",
       "      <td>149.0</td>\n",
       "    </tr>\n",
       "    <tr>\n",
       "      <th>2023-02-05</th>\n",
       "      <td>South</td>\n",
       "      <td>Product B</td>\n",
       "      <td>4</td>\n",
       "      <td>14.00</td>\n",
       "      <td>56.0</td>\n",
       "    </tr>\n",
       "    <tr>\n",
       "      <th>2023-01-13</th>\n",
       "      <td>North</td>\n",
       "      <td>Product B</td>\n",
       "      <td>8</td>\n",
       "      <td>1.25</td>\n",
       "      <td>10.0</td>\n",
       "    </tr>\n",
       "    <tr>\n",
       "      <th>2023-02-01</th>\n",
       "      <td>Central</td>\n",
       "      <td>Product E</td>\n",
       "      <td>4</td>\n",
       "      <td>24.75</td>\n",
       "      <td>99.0</td>\n",
       "    </tr>\n",
       "  </tbody>\n",
       "</table>\n",
       "<p>200 rows × 5 columns</p>\n",
       "</div>"
      ],
      "text/plain": [
       "             region    product  quantity  price  revenue\n",
       "date                                                    \n",
       "2023-02-08     East  Product D         3  64.33    193.0\n",
       "2023-02-21     East  Product B        11  26.36    290.0\n",
       "2023-01-29     West  Product A        11  18.55    204.0\n",
       "2023-01-15    South  Product D        18  20.06    361.0\n",
       "2023-02-12    South  Product E        15  13.60    204.0\n",
       "...             ...        ...       ...    ...      ...\n",
       "2023-02-12    South  Product E        16   7.62    122.0\n",
       "2023-01-29     East  Product B         8  18.62    149.0\n",
       "2023-02-05    South  Product B         4  14.00     56.0\n",
       "2023-01-13    North  Product B         8   1.25     10.0\n",
       "2023-02-01  Central  Product E         4  24.75     99.0\n",
       "\n",
       "[200 rows x 5 columns]"
      ]
     },
     "execution_count": 5,
     "metadata": {},
     "output_type": "execute_result"
    }
   ],
   "source": [
    "from pandas import DataFrame\n",
    "\n",
    "df = pd.read_csv(\"csv/sales.csv\", index_col=\"date\")\n",
    "\n",
    "def analyze_dataframe(df: DataFrame)->dict:\n",
    "    return {\n",
    "        \"Number of rows:\":                 df.shape[0],\n",
    "        \"Number of columns:\":              df.shape[1],\n",
    "        \"Mean value of numeric columns:\":  df.mean(numeric_only=True)\n",
    "    }\n",
    "print(analyze_dataframe(df))\n",
    "df"
   ]
  },
  {
   "cell_type": "code",
   "execution_count": null,
   "id": "ad319c82-6bec-4fd1-84fc-745ec0b30ba3",
   "metadata": {},
   "outputs": [],
   "source": []
  }
 ],
 "metadata": {
  "kernelspec": {
   "display_name": "Python 3 (ipykernel)",
   "language": "python",
   "name": "python3"
  },
  "language_info": {
   "codemirror_mode": {
    "name": "ipython",
    "version": 3
   },
   "file_extension": ".py",
   "mimetype": "text/x-python",
   "name": "python",
   "nbconvert_exporter": "python",
   "pygments_lexer": "ipython3",
   "version": "3.13.7"
  }
 },
 "nbformat": 4,
 "nbformat_minor": 5
}
