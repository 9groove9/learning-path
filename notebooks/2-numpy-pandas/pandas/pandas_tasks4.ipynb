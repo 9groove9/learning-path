{
 "cells": [
  {
   "cell_type": "code",
   "execution_count": 15,
   "id": "ab53aadc-16aa-4776-8dce-ecb2795c639a",
   "metadata": {},
   "outputs": [
    {
     "name": "stdout",
     "output_type": "stream",
     "text": [
      "Report saved to report13.csv\n",
      "  region  revenue      report_type     category product_name\n",
      "0   West      345      best region          N/A          N/A\n",
      "1    N/A      760    best category  Electronics          N/A\n",
      "2    N/A      390  best 3 products          N/A       Laptop\n",
      "3    N/A      280  best 3 products          N/A     Backpack\n",
      "4    N/A      230  best 3 products          N/A       Tablet\n"
     ]
    }
   ],
   "source": [
    "import pandas as pd\n",
    "\n",
    "\n",
    "def generate_report(sales_file: str, products_file: str, regions_file: str, n: int = 3) -> pd.DataFrame:\n",
    "    \"\"\"\n",
    "    Generate a sales report with best region, best category, and top N products.\n",
    "\n",
    "    Args:\n",
    "        sales_file (str): Path to sales CSV with columns [date, product_id, revenue].\n",
    "        products_file (str): Path to products CSV with columns [product_id, product_name, category].\n",
    "        regions_file (str): Path to regions CSV with columns [date, region].\n",
    "        n (int): Number of top products to include.\n",
    "\n",
    "    Returns:\n",
    "        pd.DataFrame: Final report with summary rows.\n",
    "    \"\"\"\n",
    "    # Load data\n",
    "    sales = pd.read_csv(sales_file)\n",
    "    products = pd.read_csv(products_file)\n",
    "    regions = pd.read_csv(regions_file)\n",
    "\n",
    "    # Merge\n",
    "    merged = sales.merge(products, on=\"product_id\", how=\"left\")\n",
    "    full_data = merged.merge(regions, on=\"date\", how=\"left\")\n",
    "\n",
    "    # Best region\n",
    "    best_region = (\n",
    "        full_data.groupby(\"region\")[\"revenue\"]\n",
    "        .sum()\n",
    "        .nlargest(1)\n",
    "        .reset_index()\n",
    "    )\n",
    "    best_region[\"report_type\"] = \"best region\"\n",
    "\n",
    "    # Best category\n",
    "    best_category = (\n",
    "        full_data.groupby(\"category\")[\"revenue\"]\n",
    "        .sum()\n",
    "        .nlargest(1)\n",
    "        .reset_index()\n",
    "    )\n",
    "    best_category[\"report_type\"] = \"best category\"\n",
    "\n",
    "    # Top N products\n",
    "    top_products = (\n",
    "        full_data.groupby(\"product_name\")[\"revenue\"]\n",
    "        .sum()\n",
    "        .nlargest(n)\n",
    "        .reset_index()\n",
    "    )\n",
    "    top_products[\"report_type\"] = f\"best {n} products\"\n",
    "\n",
    "    # Combine\n",
    "    report = pd.concat([best_region, best_category, top_products], ignore_index=True)\n",
    "\n",
    "    # Replace NaN with placeholder for clarity\n",
    "    report = report.fillna(\"N/A\")\n",
    "\n",
    "    # Save\n",
    "    report.to_csv(\"report13.csv\", index=False)\n",
    "    print(\"Report saved to report13.csv\")\n",
    "\n",
    "    return report\n",
    "\n",
    "\n",
    "# Demo\n",
    "report_df = generate_report(\"sales13.csv\", \"products13.csv\", \"regions13.csv\", n=3)\n",
    "print(report_df)\n"
   ]
  },
  {
   "cell_type": "code",
   "execution_count": null,
   "id": "38fc25b7-0cae-417f-bc71-0395634dc4d5",
   "metadata": {},
   "outputs": [],
   "source": []
  }
 ],
 "metadata": {
  "kernelspec": {
   "display_name": "Python 3 (ipykernel)",
   "language": "python",
   "name": "python3"
  },
  "language_info": {
   "codemirror_mode": {
    "name": "ipython",
    "version": 3
   },
   "file_extension": ".py",
   "mimetype": "text/x-python",
   "name": "python",
   "nbconvert_exporter": "python",
   "pygments_lexer": "ipython3",
   "version": "3.13.7"
  }
 },
 "nbformat": 4,
 "nbformat_minor": 5
}
