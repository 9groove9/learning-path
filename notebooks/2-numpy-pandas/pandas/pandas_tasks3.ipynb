{
 "cells": [
  {
   "cell_type": "markdown",
   "id": "89b59fbf",
   "metadata": {},
   "source": [
    "# Sales Data Analysis\n",
    "\n",
    "This notebook contains tasks for analyzing sales data. Fill in the code cells with your own solutions."
   ]
  },
  {
   "cell_type": "markdown",
   "id": "338a0d03",
   "metadata": {},
   "source": [
    "## Task 1: Load Data\n",
    "- Load `sales.csv` into a DataFrame.\n",
    "- Display the first 5 rows."
   ]
  },
  {
   "cell_type": "code",
   "execution_count": 1,
   "id": "b2afb3f2",
   "metadata": {},
   "outputs": [
    {
     "data": {
      "text/html": [
       "<div>\n",
       "<style scoped>\n",
       "    .dataframe tbody tr th:only-of-type {\n",
       "        vertical-align: middle;\n",
       "    }\n",
       "\n",
       "    .dataframe tbody tr th {\n",
       "        vertical-align: top;\n",
       "    }\n",
       "\n",
       "    .dataframe thead th {\n",
       "        text-align: right;\n",
       "    }\n",
       "</style>\n",
       "<table border=\"1\" class=\"dataframe\">\n",
       "  <thead>\n",
       "    <tr style=\"text-align: right;\">\n",
       "      <th></th>\n",
       "      <th>date</th>\n",
       "      <th>region</th>\n",
       "      <th>product</th>\n",
       "      <th>quantity</th>\n",
       "      <th>price</th>\n",
       "      <th>revenue</th>\n",
       "    </tr>\n",
       "  </thead>\n",
       "  <tbody>\n",
       "    <tr>\n",
       "      <th>0</th>\n",
       "      <td>2023-02-08</td>\n",
       "      <td>East</td>\n",
       "      <td>Product D</td>\n",
       "      <td>3</td>\n",
       "      <td>64.33</td>\n",
       "      <td>193.0</td>\n",
       "    </tr>\n",
       "    <tr>\n",
       "      <th>1</th>\n",
       "      <td>2023-02-21</td>\n",
       "      <td>East</td>\n",
       "      <td>Product B</td>\n",
       "      <td>11</td>\n",
       "      <td>26.36</td>\n",
       "      <td>290.0</td>\n",
       "    </tr>\n",
       "    <tr>\n",
       "      <th>2</th>\n",
       "      <td>2023-01-29</td>\n",
       "      <td>West</td>\n",
       "      <td>Product A</td>\n",
       "      <td>11</td>\n",
       "      <td>18.55</td>\n",
       "      <td>204.0</td>\n",
       "    </tr>\n",
       "    <tr>\n",
       "      <th>3</th>\n",
       "      <td>2023-01-15</td>\n",
       "      <td>South</td>\n",
       "      <td>Product D</td>\n",
       "      <td>18</td>\n",
       "      <td>20.06</td>\n",
       "      <td>361.0</td>\n",
       "    </tr>\n",
       "    <tr>\n",
       "      <th>4</th>\n",
       "      <td>2023-02-12</td>\n",
       "      <td>South</td>\n",
       "      <td>Product E</td>\n",
       "      <td>15</td>\n",
       "      <td>13.60</td>\n",
       "      <td>204.0</td>\n",
       "    </tr>\n",
       "  </tbody>\n",
       "</table>\n",
       "</div>"
      ],
      "text/plain": [
       "         date region    product  quantity  price  revenue\n",
       "0  2023-02-08   East  Product D         3  64.33    193.0\n",
       "1  2023-02-21   East  Product B        11  26.36    290.0\n",
       "2  2023-01-29   West  Product A        11  18.55    204.0\n",
       "3  2023-01-15  South  Product D        18  20.06    361.0\n",
       "4  2023-02-12  South  Product E        15  13.60    204.0"
      ]
     },
     "execution_count": 1,
     "metadata": {},
     "output_type": "execute_result"
    }
   ],
   "source": [
    "import pandas as pd\n",
    "\n",
    "df = pd.read_csv('csv/sales.csv')\n",
    "df.head()"
   ]
  },
  {
   "cell_type": "markdown",
   "id": "1d9d2c0c",
   "metadata": {},
   "source": [
    "## Task 2: Total Revenue per Product\n",
    "- Group by product and calculate total revenue."
   ]
  },
  {
   "cell_type": "code",
   "execution_count": 2,
   "id": "51db8040",
   "metadata": {},
   "outputs": [
    {
     "data": {
      "text/plain": [
       "product\n",
       "Product A     9250.0\n",
       "Product B     8749.0\n",
       "Product C     6487.0\n",
       "Product D     9128.0\n",
       "Product E    10579.0\n",
       "Name: revenue, dtype: float64"
      ]
     },
     "execution_count": 2,
     "metadata": {},
     "output_type": "execute_result"
    }
   ],
   "source": [
    "df.groupby('product')['revenue'].sum()"
   ]
  },
  {
   "cell_type": "markdown",
   "id": "77bf2044",
   "metadata": {},
   "source": [
    "## Task 3: Average Daily Revenue\n",
    "- Calculate the mean revenue per day."
   ]
  },
  {
   "cell_type": "code",
   "execution_count": 3,
   "id": "e15bb02e",
   "metadata": {},
   "outputs": [
    {
     "data": {
      "text/plain": [
       "date\n",
       "2023-01-01    146.750000\n",
       "2023-01-02    304.500000\n",
       "2023-01-03    237.000000\n",
       "2023-01-04    303.750000\n",
       "2023-01-05    251.500000\n",
       "2023-01-06    236.000000\n",
       "2023-01-07    196.750000\n",
       "2023-01-08    368.400000\n",
       "2023-01-09    219.600000\n",
       "2023-01-10    450.000000\n",
       "2023-01-11    307.000000\n",
       "2023-01-12    207.000000\n",
       "2023-01-13    205.500000\n",
       "2023-01-14    204.000000\n",
       "2023-01-15    235.714286\n",
       "2023-01-16    234.000000\n",
       "2023-01-17    395.000000\n",
       "2023-01-18    317.333333\n",
       "2023-01-19     70.000000\n",
       "2023-01-20    395.000000\n",
       "2023-01-21    146.500000\n",
       "2023-01-22    193.000000\n",
       "2023-01-23    194.666667\n",
       "2023-01-24    213.142857\n",
       "2023-01-25    193.000000\n",
       "2023-01-26    220.000000\n",
       "2023-01-27    266.000000\n",
       "2023-01-28    203.333333\n",
       "2023-01-29    214.750000\n",
       "2023-01-30    184.500000\n",
       "2023-01-31     95.000000\n",
       "2023-02-01    292.666667\n",
       "2023-02-02    281.333333\n",
       "2023-02-03    203.500000\n",
       "2023-02-04    220.000000\n",
       "2023-02-05    133.750000\n",
       "2023-02-06    331.500000\n",
       "2023-02-07     21.000000\n",
       "2023-02-08    180.571429\n",
       "2023-02-09    108.000000\n",
       "2023-02-10    277.000000\n",
       "2023-02-11    196.000000\n",
       "2023-02-12    176.666667\n",
       "2023-02-13    217.142857\n",
       "2023-02-14    168.750000\n",
       "2023-02-16    178.000000\n",
       "2023-02-17    322.000000\n",
       "2023-02-18    300.000000\n",
       "2023-02-19    197.500000\n",
       "2023-02-20    176.000000\n",
       "2023-02-21    259.333333\n",
       "2023-02-22    167.500000\n",
       "2023-02-23    431.000000\n",
       "2023-02-24    172.333333\n",
       "2023-02-26    128.000000\n",
       "2023-02-27    308.000000\n",
       "2023-02-28    251.000000\n",
       "2023-03-01    140.777778\n",
       "Name: revenue, dtype: float64"
      ]
     },
     "execution_count": 3,
     "metadata": {},
     "output_type": "execute_result"
    }
   ],
   "source": [
    "df.groupby('date')['revenue'].mean()"
   ]
  },
  {
   "cell_type": "markdown",
   "id": "c5b99eba",
   "metadata": {},
   "source": [
    "## Task 4: Multiple Aggregations\n",
    "- Perform `sum`, `mean`, `max`, and `count` aggregations."
   ]
  },
  {
   "cell_type": "code",
   "execution_count": 4,
   "id": "22593d80",
   "metadata": {},
   "outputs": [
    {
     "data": {
      "text/html": [
       "<div>\n",
       "<style scoped>\n",
       "    .dataframe tbody tr th:only-of-type {\n",
       "        vertical-align: middle;\n",
       "    }\n",
       "\n",
       "    .dataframe tbody tr th {\n",
       "        vertical-align: top;\n",
       "    }\n",
       "\n",
       "    .dataframe thead th {\n",
       "        text-align: right;\n",
       "    }\n",
       "</style>\n",
       "<table border=\"1\" class=\"dataframe\">\n",
       "  <thead>\n",
       "    <tr style=\"text-align: right;\">\n",
       "      <th></th>\n",
       "      <th>sum</th>\n",
       "      <th>mean</th>\n",
       "      <th>max</th>\n",
       "      <th>count</th>\n",
       "    </tr>\n",
       "    <tr>\n",
       "      <th>region</th>\n",
       "      <th></th>\n",
       "      <th></th>\n",
       "      <th></th>\n",
       "      <th></th>\n",
       "    </tr>\n",
       "  </thead>\n",
       "  <tbody>\n",
       "    <tr>\n",
       "      <th>Central</th>\n",
       "      <td>6673.0</td>\n",
       "      <td>256.653846</td>\n",
       "      <td>495.0</td>\n",
       "      <td>26</td>\n",
       "    </tr>\n",
       "    <tr>\n",
       "      <th>East</th>\n",
       "      <td>10547.0</td>\n",
       "      <td>234.377778</td>\n",
       "      <td>483.0</td>\n",
       "      <td>45</td>\n",
       "    </tr>\n",
       "    <tr>\n",
       "      <th>North</th>\n",
       "      <td>10573.0</td>\n",
       "      <td>199.490566</td>\n",
       "      <td>483.0</td>\n",
       "      <td>53</td>\n",
       "    </tr>\n",
       "    <tr>\n",
       "      <th>South</th>\n",
       "      <td>6797.0</td>\n",
       "      <td>205.969697</td>\n",
       "      <td>450.0</td>\n",
       "      <td>33</td>\n",
       "    </tr>\n",
       "    <tr>\n",
       "      <th>West</th>\n",
       "      <td>9603.0</td>\n",
       "      <td>228.642857</td>\n",
       "      <td>494.0</td>\n",
       "      <td>42</td>\n",
       "    </tr>\n",
       "  </tbody>\n",
       "</table>\n",
       "</div>"
      ],
      "text/plain": [
       "             sum        mean    max  count\n",
       "region                                    \n",
       "Central   6673.0  256.653846  495.0     26\n",
       "East     10547.0  234.377778  483.0     45\n",
       "North    10573.0  199.490566  483.0     53\n",
       "South     6797.0  205.969697  450.0     33\n",
       "West      9603.0  228.642857  494.0     42"
      ]
     },
     "execution_count": 4,
     "metadata": {},
     "output_type": "execute_result"
    }
   ],
   "source": [
    "df.groupby('region')['revenue'].agg(['sum', 'mean', 'max', 'count'])"
   ]
  },
  {
   "cell_type": "markdown",
   "id": "827f9626",
   "metadata": {},
   "source": [
    "## Task 5: Sort Products by Revenue\n",
    "- Sort products in descending order of total revenue."
   ]
  },
  {
   "cell_type": "code",
   "execution_count": 5,
   "id": "c9ad0c16",
   "metadata": {},
   "outputs": [
    {
     "data": {
      "text/plain": [
       "product\n",
       "Product E    10579.0\n",
       "Product A     9250.0\n",
       "Product D     9128.0\n",
       "Product B     8749.0\n",
       "Product C     6487.0\n",
       "Name: revenue, dtype: float64"
      ]
     },
     "execution_count": 5,
     "metadata": {},
     "output_type": "execute_result"
    }
   ],
   "source": [
    "df.groupby('product')['revenue'].sum().sort_values(ascending=False)"
   ]
  },
  {
   "cell_type": "markdown",
   "id": "83e722ae",
   "metadata": {},
   "source": [
    "## (Optional) Task 6: Portfolio Function\n",
    "- Create a function `sales_report(filename)` that:\n",
    "  - Returns a DataFrame with revenue per product.\n",
    "  - Saves the result to `sales_report.csv`."
   ]
  },
  {
   "cell_type": "code",
   "execution_count": 7,
   "id": "6b7f3bcd",
   "metadata": {},
   "outputs": [],
   "source": [
    "from pandas import DataFrame\n",
    "def sales_report(filename: str)->DataFrame:\n",
    "    df = pd.read_csv(filename)\n",
    "    return df.groupby('product')['revenue'].sum().reset_index()\n",
    "sales_report('csv/sales.csv').to_csv('csv/sales_report.csv')"
   ]
  },
  {
   "cell_type": "code",
   "execution_count": null,
   "id": "bd5e1796-ecd9-489b-b91d-8d2ab110d5a5",
   "metadata": {},
   "outputs": [],
   "source": []
  }
 ],
 "metadata": {
  "kernelspec": {
   "display_name": "Python 3 (ipykernel)",
   "language": "python",
   "name": "python3"
  },
  "language_info": {
   "codemirror_mode": {
    "name": "ipython",
    "version": 3
   },
   "file_extension": ".py",
   "mimetype": "text/x-python",
   "name": "python",
   "nbconvert_exporter": "python",
   "pygments_lexer": "ipython3",
   "version": "3.13.7"
  }
 },
 "nbformat": 4,
 "nbformat_minor": 5
}
