{
 "cells": [
  {
   "cell_type": "markdown",
   "id": "01ec400b",
   "metadata": {},
   "source": [
    "# Pandas Practice Notebook 3: Advanced & Real-World Techniques\n",
    "\n",
    "This notebook focuses on more **advanced and real-world pandas tasks**.\n",
    "Topics: MultiIndex, reshape, apply/lambda, rolling windows, and integration with files.\n",
    "These are often used in professional data analysis workflows."
   ]
  },
  {
   "cell_type": "markdown",
   "id": "580ccc37",
   "metadata": {},
   "source": [
    "## Section 1: MultiIndex\n",
    "1. Create a `DataFrame` with sales data for 2 regions (East, West) and 2 products (A, B).\n",
    "   Use a MultiIndex (Region, Product).\n",
    "2. Select sales for West region only.\n",
    "3. Select sales for product A across all regions."
   ]
  },
  {
   "cell_type": "code",
   "execution_count": 1,
   "id": "31d6d4e5",
   "metadata": {},
   "outputs": [
    {
     "data": {
      "text/html": [
       "<div>\n",
       "<style scoped>\n",
       "    .dataframe tbody tr th:only-of-type {\n",
       "        vertical-align: middle;\n",
       "    }\n",
       "\n",
       "    .dataframe tbody tr th {\n",
       "        vertical-align: top;\n",
       "    }\n",
       "\n",
       "    .dataframe thead th {\n",
       "        text-align: right;\n",
       "    }\n",
       "</style>\n",
       "<table border=\"1\" class=\"dataframe\">\n",
       "  <thead>\n",
       "    <tr style=\"text-align: right;\">\n",
       "      <th></th>\n",
       "      <th>revenue</th>\n",
       "    </tr>\n",
       "    <tr>\n",
       "      <th>region</th>\n",
       "      <th></th>\n",
       "    </tr>\n",
       "  </thead>\n",
       "  <tbody>\n",
       "    <tr>\n",
       "      <th>Central</th>\n",
       "      <td>2040.0</td>\n",
       "    </tr>\n",
       "    <tr>\n",
       "      <th>East</th>\n",
       "      <td>1325.0</td>\n",
       "    </tr>\n",
       "    <tr>\n",
       "      <th>North</th>\n",
       "      <td>2525.0</td>\n",
       "    </tr>\n",
       "    <tr>\n",
       "      <th>South</th>\n",
       "      <td>1396.0</td>\n",
       "    </tr>\n",
       "    <tr>\n",
       "      <th>West</th>\n",
       "      <td>1964.0</td>\n",
       "    </tr>\n",
       "  </tbody>\n",
       "</table>\n",
       "</div>"
      ],
      "text/plain": [
       "         revenue\n",
       "region          \n",
       "Central   2040.0\n",
       "East      1325.0\n",
       "North     2525.0\n",
       "South     1396.0\n",
       "West      1964.0"
      ]
     },
     "execution_count": 1,
     "metadata": {},
     "output_type": "execute_result"
    }
   ],
   "source": [
    "import pandas as pd\n",
    "\n",
    "df = pd.read_csv('csv/sales.csv')\n",
    "df = df.groupby(['region', 'product'])['revenue'].sum().to_frame()\n",
    "df.loc['West']\n",
    "df.xs('Product A', level='product')"
   ]
  },
  {
   "cell_type": "markdown",
   "id": "ebba99ab",
   "metadata": {},
   "source": [
    "## Section 2: Reshape (melt, stack, unstack)\n",
    "4. Create a `DataFrame` with monthly sales of 3 products.\n",
    "5. Reshape it using `melt` so that you have columns: Month, Product, Sales.\n",
    "6. Use `pivot_table` to go back to wide format.\n",
    "7. Practice with `stack` and `unstack`."
   ]
  },
  {
   "cell_type": "code",
   "execution_count": 2,
   "id": "6c9c32e9",
   "metadata": {},
   "outputs": [
    {
     "data": {
      "text/html": [
       "<div>\n",
       "<style scoped>\n",
       "    .dataframe tbody tr th:only-of-type {\n",
       "        vertical-align: middle;\n",
       "    }\n",
       "\n",
       "    .dataframe tbody tr th {\n",
       "        vertical-align: top;\n",
       "    }\n",
       "\n",
       "    .dataframe thead tr th {\n",
       "        text-align: left;\n",
       "    }\n",
       "\n",
       "    .dataframe thead tr:last-of-type th {\n",
       "        text-align: right;\n",
       "    }\n",
       "</style>\n",
       "<table border=\"1\" class=\"dataframe\">\n",
       "  <thead>\n",
       "    <tr>\n",
       "      <th>metric</th>\n",
       "      <th colspan=\"3\" halign=\"left\">profit</th>\n",
       "      <th colspan=\"3\" halign=\"left\">sales</th>\n",
       "    </tr>\n",
       "    <tr>\n",
       "      <th>product</th>\n",
       "      <th>A</th>\n",
       "      <th>B</th>\n",
       "      <th>C</th>\n",
       "      <th>A</th>\n",
       "      <th>B</th>\n",
       "      <th>C</th>\n",
       "    </tr>\n",
       "    <tr>\n",
       "      <th>month</th>\n",
       "      <th></th>\n",
       "      <th></th>\n",
       "      <th></th>\n",
       "      <th></th>\n",
       "      <th></th>\n",
       "      <th></th>\n",
       "    </tr>\n",
       "  </thead>\n",
       "  <tbody>\n",
       "    <tr>\n",
       "      <th>2025-01</th>\n",
       "      <td>400.0</td>\n",
       "      <td>250.0</td>\n",
       "      <td>600.0</td>\n",
       "      <td>1200.0</td>\n",
       "      <td>800.0</td>\n",
       "      <td>1500.0</td>\n",
       "    </tr>\n",
       "    <tr>\n",
       "      <th>2025-02</th>\n",
       "      <td>300.0</td>\n",
       "      <td>420.0</td>\n",
       "      <td>650.0</td>\n",
       "      <td>950.0</td>\n",
       "      <td>1230.0</td>\n",
       "      <td>1600.0</td>\n",
       "    </tr>\n",
       "    <tr>\n",
       "      <th>2025-03</th>\n",
       "      <td>350.0</td>\n",
       "      <td>310.0</td>\n",
       "      <td>700.0</td>\n",
       "      <td>1100.0</td>\n",
       "      <td>990.0</td>\n",
       "      <td>1700.0</td>\n",
       "    </tr>\n",
       "  </tbody>\n",
       "</table>\n",
       "</div>"
      ],
      "text/plain": [
       "metric  profit                 sales                \n",
       "product      A      B      C       A       B       C\n",
       "month                                               \n",
       "2025-01  400.0  250.0  600.0  1200.0   800.0  1500.0\n",
       "2025-02  300.0  420.0  650.0   950.0  1230.0  1600.0\n",
       "2025-03  350.0  310.0  700.0  1100.0   990.0  1700.0"
      ]
     },
     "execution_count": 2,
     "metadata": {},
     "output_type": "execute_result"
    }
   ],
   "source": [
    "import pandas as pd\n",
    "\n",
    "data = {\n",
    "    \"month\": [\"2025-01\", \"2025-02\", \"2025-03\"],\n",
    "    \"Product_A_sales\": [1200, 950, 1100],\n",
    "    \"Product_A_profit\": [400, 300, 350],\n",
    "    \"Product_B_sales\": [800, 1230, 990],\n",
    "    \"Product_B_profit\": [250, 420, 310],\n",
    "    \"Product_C_sales\": [1500, 1600, 1700],\n",
    "    \"Product_C_profit\": [600, 650, 700],\n",
    "}\n",
    "df = pd.DataFrame(data)\n",
    "\n",
    "df_melted = df.melt(\n",
    "    id_vars=\"month\",\n",
    "    var_name=\"product_metric\",\n",
    "    value_name=\"value\"\n",
    ")\n",
    "df_melted[[\"prefix\", \"product\", \"metric\"]] = df_melted[\"product_metric\"].str.split(\"_\", expand=True)\n",
    "\n",
    "df_melted = df_melted.drop(columns=[\"product_metric\", \"prefix\"])\n",
    "\n",
    "df_melted\n",
    "pvt = pd.pivot_table(\n",
    "    df_melted,\n",
    "    values = 'value',\n",
    "    index = ['month','product'],\n",
    "    columns = ['metric'],\n",
    "    fill_value=0\n",
    ")\n",
    "pvt.stack()\n",
    "pvt.unstack().unstack().unstack().unstack().unstack().unstack().unstack()"
   ]
  },
  {
   "cell_type": "markdown",
   "id": "208cfefd",
   "metadata": {},
   "source": [
    "## Section 3: Apply & Lambda\n",
    "8. Create a `DataFrame` with 5 employees: name, base_salary, bonus.\n",
    "9. Create a new column `total_salary` = base_salary + bonus using `apply`.\n",
    "10. Create another column `taxed_salary` = total_salary * 0.8 using `lambda`."
   ]
  },
  {
   "cell_type": "code",
   "execution_count": 3,
   "id": "0265bb98",
   "metadata": {},
   "outputs": [],
   "source": [
    "data = {\n",
    "    \"name\": [\"Alice\", \"Bob\", \"Charlie\", \"Diana\", \"Ethan\"],\n",
    "    \"base_salary\": [50000, 60000, 55000, 70000, 65000],\n",
    "    \"bonus\": [5000, 7000, 6000, 8000, 7500]\n",
    "}\n",
    "df = pd.DataFrame(data)\n",
    "df['total_salary'] = df.apply(lambda x: x['base_salary'] + x['bonus'], axis=1)\n",
    "df['taxed_salary'] = df.apply(lambda x: x['total_salary'] * 0.8, axis=1)"
   ]
  },
  {
   "cell_type": "markdown",
   "id": "b03856eb",
   "metadata": {},
   "source": [
    "## Section 4: Rolling & Expanding\n",
    "11. Create a time series of daily stock prices (30 days).\n",
    "12. Calculate 7-day rolling mean.\n",
    "13. Calculate cumulative sum using `expanding`."
   ]
  },
  {
   "cell_type": "code",
   "execution_count": 4,
   "id": "d68b7213",
   "metadata": {},
   "outputs": [
    {
     "data": {
      "text/plain": [
       "2025-03-01     100.30\n",
       "2025-03-02     199.56\n",
       "2025-03-03     299.58\n",
       "2025-03-04     400.54\n",
       "2025-03-05     499.54\n",
       "2025-03-06     597.24\n",
       "2025-03-07     695.07\n",
       "2025-03-08     792.58\n",
       "2025-03-09     890.08\n",
       "2025-03-10     986.72\n",
       "2025-03-11    1084.24\n",
       "2025-03-12    1182.54\n",
       "2025-03-13    1280.91\n",
       "2025-03-14    1380.40\n",
       "2025-03-15    1480.36\n",
       "2025-03-16    1579.46\n",
       "2025-03-17    1678.93\n",
       "2025-03-18    1777.44\n",
       "2025-03-19    1876.83\n",
       "2025-03-20    1976.17\n",
       "2025-03-21    2075.33\n",
       "2025-03-22    2173.81\n",
       "2025-03-23    2273.51\n",
       "2025-03-24    2373.05\n",
       "2025-03-25    2472.17\n",
       "2025-03-26    2570.93\n",
       "2025-03-27    2670.23\n",
       "2025-03-28    2769.89\n",
       "2025-03-29    2869.96\n",
       "2025-03-30    2970.46\n",
       "Freq: D, dtype: float64"
      ]
     },
     "execution_count": 4,
     "metadata": {},
     "output_type": "execute_result"
    }
   ],
   "source": [
    "import numpy as np\n",
    "\n",
    "dates = pd.date_range(start='2025-03-1', periods=30, freq='D')\n",
    "rng = np.round(100 + np.random.default_rng(42).normal(loc=0,scale=1,size=30).cumsum(), 2)\n",
    "time_series = pd.Series(rng, index=dates)\n",
    "rolling_7day = time_series.rolling(window=7, min_periods=1).mean()\n",
    "cum_sum = time_series.expanding().sum()\n",
    "cum_sum"
   ]
  },
  {
   "cell_type": "markdown",
   "id": "0c1afeb3",
   "metadata": {},
   "source": [
    "## Section 5: Integration with Files\n",
    "14. Load `sales.csv` and `products.csv`.\n",
    "15. Merge them on `ProductID`.\n",
    "16. Save the merged DataFrame into `report.csv`."
   ]
  },
  {
   "cell_type": "code",
   "execution_count": 7,
   "id": "55069b59",
   "metadata": {},
   "outputs": [],
   "source": [
    "sales = pd.read_csv('csv/sales1.csv')\n",
    "products = pd.read_csv('csv/products.csv')\n",
    "merged = pd.merge(sales, products, on='ProductID', how='left')\n",
    "merged.to_csv('report.csv')"
   ]
  },
  {
   "cell_type": "markdown",
   "id": "869c423e",
   "metadata": {},
   "source": [
    "## Section 6: Portfolio Challenge\n",
    "17. Write a function `advanced_report(df)` that returns:\n",
    "- top-5 products by revenue\n",
    "- monthly revenue trend (grouped by month)\n",
    "- rolling 3-month average revenue\n",
    "18. Apply it to `sales.csv`."
   ]
  },
  {
   "cell_type": "code",
   "execution_count": 6,
   "id": "68b483f2",
   "metadata": {},
   "outputs": [
    {
     "data": {
      "text/plain": [
       "{'Top 5 products by revenue': product\n",
       " Product E    10579.0\n",
       " Product A     9250.0\n",
       " Product D     9128.0\n",
       " Product B     8749.0\n",
       " Product C     6487.0\n",
       " Name: revenue, dtype: float64,\n",
       " 'Monthly revenue trend': date\n",
       " 2023-01-01    23786.0\n",
       " 2023-02-01    19140.0\n",
       " 2023-03-01     1267.0\n",
       " Freq: MS, Name: revenue, dtype: float64,\n",
       " 'Rolling 3-month average revenue': date\n",
       " 2023-01-01    23786.0\n",
       " 2023-02-01    21463.0\n",
       " 2023-03-01    14731.0\n",
       " Freq: MS, Name: revenue, dtype: float64}"
      ]
     },
     "execution_count": 6,
     "metadata": {},
     "output_type": "execute_result"
    }
   ],
   "source": [
    "def advanced_report(filename: str)->dict:\n",
    "    df = pd.read_csv(filename)\n",
    "    if not pd.api.types.is_datetime64_any_dtype(df['date']):\n",
    "        df['date'] = pd.to_datetime(df['date'])\n",
    "    top5 = (\n",
    "        df.groupby('product')['revenue']\n",
    "        .sum()\n",
    "        .nlargest(5)\n",
    "    )\n",
    "    \n",
    "    monthly_trend = (\n",
    "        df.groupby(df['date'].dt.to_period('M'))['revenue']\n",
    "          .sum()\n",
    "          .to_timestamp()\n",
    "    )\n",
    "\n",
    "    rolling_avg = monthly_trend.rolling(window=3, min_periods=1).mean()\n",
    "    return {\n",
    "        \"Top 5 products by revenue\": top5,\n",
    "        \"Monthly revenue trend\": monthly_trend,\n",
    "        \"Rolling 3-month average revenue\": rolling_avg\n",
    "    }\n",
    "advanced_report('csv/sales.csv')"
   ]
  },
  {
   "cell_type": "code",
   "execution_count": null,
   "id": "14bbbbf3-b7aa-417c-b9cb-37fbf9d74ce8",
   "metadata": {},
   "outputs": [],
   "source": []
  }
 ],
 "metadata": {
  "kernelspec": {
   "display_name": "Python 3 (ipykernel)",
   "language": "python",
   "name": "python3"
  },
  "language_info": {
   "codemirror_mode": {
    "name": "ipython",
    "version": 3
   },
   "file_extension": ".py",
   "mimetype": "text/x-python",
   "name": "python",
   "nbconvert_exporter": "python",
   "pygments_lexer": "ipython3",
   "version": "3.13.7"
  }
 },
 "nbformat": 4,
 "nbformat_minor": 5
}
