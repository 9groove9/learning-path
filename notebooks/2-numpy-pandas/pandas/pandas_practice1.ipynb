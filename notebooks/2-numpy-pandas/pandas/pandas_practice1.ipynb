{
 "cells": [
  {
   "cell_type": "markdown",
   "id": "59e7f77b",
   "metadata": {},
   "source": [
    "# Pandas Practice Notebook\n",
    "\n",
    "This notebook contains a variety of **pandas exercises**.\n",
    "Solve them step by step — write your own code in the empty cells.\n",
    "The tasks range from beginner to portfolio level."
   ]
  },
  {
   "cell_type": "markdown",
   "id": "20577d64",
   "metadata": {},
   "source": [
    "## Section 1: Series Basics\n",
    "1. Create a `Series` of 6 random numbers. Print the mean, min, and max.\n",
    "2. Create a `Series` of 7 weekdays. Select only the weekend days.\n",
    "3. Create a `Series` with student names as index and their grades as values. Find the best student."
   ]
  },
  {
   "cell_type": "code",
   "execution_count": 9,
   "id": "3dc7a8dc",
   "metadata": {},
   "outputs": [
    {
     "name": "stdout",
     "output_type": "stream",
     "text": [
      "5.833333333333333 1 9\n",
      "5    Saturday\n",
      "6      Sunday\n",
      "dtype: object\n",
      "Harry\n"
     ]
    }
   ],
   "source": [
    "import numpy as np\n",
    "import pandas as pd\n",
    "\n",
    "rng = np.random.default_rng(42)\n",
    "s = pd.Series(rng.integers(1, 11, 6))\n",
    "print(s.mean(), s.min(), s.max())\n",
    "\n",
    "weekdays = pd.Series(['Monday', 'Tuesday', 'Wednesday', 'Thursday', 'Friday', 'Saturday', 'Sunday'])\n",
    "print(weekdays[-2:])\n",
    "\n",
    "students = pd.Series([43, 54, 65, 87, 97, 94, 77], index=['Tom', 'Lary', 'Carol', 'Sonya', 'Harry', 'Octavian', 'Peter'])\n",
    "print(students.idxmax())"
   ]
  },
  {
   "cell_type": "markdown",
   "id": "7f3f0892",
   "metadata": {},
   "source": [
    "## Section 2: DataFrame Creation & Operations\n",
    "4. Create a `DataFrame` with 5 employees: name, department, salary. Increase salary by 10% for IT department.\n",
    "5. Create a `DataFrame` with 6 countries: name, population, area. Add a new column `density` = population / area. Sort by density (descending).\n",
    "6. Create a `DataFrame` with 5 books: title, author, pages, price. Find the average price per page."
   ]
  },
  {
   "cell_type": "code",
   "execution_count": 10,
   "id": "6dd5a63e",
   "metadata": {},
   "outputs": [
    {
     "name": "stdout",
     "output_type": "stream",
     "text": [
      "0.08868924448937003\n"
     ]
    }
   ],
   "source": [
    "employees_data = {\n",
    "    'name': ['Tom', 'Lary', 'Carol', 'Sonya', 'Harry'],\n",
    "    'department': ['IT', 'HR', 'DS', 'ML', 'Finance'],\n",
    "    'salary': [2000, 1500, 2200, 2300, 1900]\n",
    "}\n",
    "employees_df = pd.DataFrame(employees_data)\n",
    "employees_df.loc[employees_df['department'] == 'IT', 'salary'] *= 1.1\n",
    "\n",
    "countries_data = {\n",
    "    \"name\": [\"Ukraine\", \"Poland\", \"Germany\", \"France\", \"Italy\", \"Spain\"],\n",
    "    \"population\": [37_000_000, 38_000_000, 83_000_000, 65_000_000, 59_000_000, 47_000_000],\n",
    "    \"area\": [603_548, 312_696, 357_386, 551_695, 301_340, 505_990]  # у км²\n",
    "}\n",
    "countries_df = pd.DataFrame(countries_data)\n",
    "countries_df['density'] = countries_df['population'] / countries_df['area']\n",
    "countries_df.sort_values(by='density', ascending=False)\n",
    "\n",
    "books_data = {\n",
    "    \"title\": [\n",
    "        \"The Pragmatic Programmer\",\n",
    "        \"Clean Code\",\n",
    "        \"Introduction to Algorithms\",\n",
    "        \"Python Crash Course\",\n",
    "        \"Deep Learning with Python\"\n",
    "    ],\n",
    "    \"author\": [\n",
    "        \"Andrew Hunt\",\n",
    "        \"Robert C. Martin\",\n",
    "        \"Thomas H. Cormen\",\n",
    "        \"Eric Matthes\",\n",
    "        \"François Chollet\"\n",
    "    ],\n",
    "    \"pages\": [352, 464, 1312, 544, 384],\n",
    "    \"price\": [42.50, 37.99, 89.99, 29.95, 45.00]\n",
    "}\n",
    "books_df = pd.DataFrame(books_data)\n",
    "average_price_per_page = (books_df['price'] / books_df['pages']).mean()\n",
    "print(average_price_per_page)"
   ]
  },
  {
   "cell_type": "markdown",
   "id": "3905344d",
   "metadata": {},
   "source": [
    "## Section 3: Importing & Cleaning Data\n",
    "7. Load `sales.csv`. Show first 10 rows. Check for missing values.\n",
    "8. Fill missing values in column `Revenue` with the column mean.\n",
    "9. Rename all columns to lowercase."
   ]
  },
  {
   "cell_type": "code",
   "execution_count": 11,
   "id": "77087ef6",
   "metadata": {},
   "outputs": [],
   "source": [
    "df = pd.read_csv('csv/sales.csv', index_col='date')\n",
    "df.head(10)\n",
    "df.isnull().sum()\n",
    "mean_revenue = df['revenue'].mean()\n",
    "df['revenue'] = df['revenue'].fillna(mean_revenue)\n",
    "df.columns = df.columns.str.lower()"
   ]
  },
  {
   "cell_type": "markdown",
   "id": "4e0261e6",
   "metadata": {},
   "source": [
    "## Section 4: GroupBy & Aggregation\n",
    "10. Group sales by `Product` and calculate total revenue per product.\n",
    "11. Group sales by `Region` and find average revenue per region.\n",
    "12. Find the top-3 products with the highest total revenue."
   ]
  },
  {
   "cell_type": "code",
   "execution_count": 12,
   "id": "b2df6d2b",
   "metadata": {},
   "outputs": [
    {
     "name": "stdout",
     "output_type": "stream",
     "text": [
      "product\n",
      "Product A     9250.0\n",
      "Product B     8749.0\n",
      "Product C     6487.0\n",
      "Product D     9128.0\n",
      "Product E    10579.0\n",
      "Name: revenue, dtype: float64\n",
      "region\n",
      "Central    256.653846\n",
      "East       234.377778\n",
      "North      199.490566\n",
      "South      205.969697\n",
      "West       228.642857\n",
      "Name: revenue, dtype: float64\n"
     ]
    },
    {
     "data": {
      "text/html": [
       "<div>\n",
       "<style scoped>\n",
       "    .dataframe tbody tr th:only-of-type {\n",
       "        vertical-align: middle;\n",
       "    }\n",
       "\n",
       "    .dataframe tbody tr th {\n",
       "        vertical-align: top;\n",
       "    }\n",
       "\n",
       "    .dataframe thead th {\n",
       "        text-align: right;\n",
       "    }\n",
       "</style>\n",
       "<table border=\"1\" class=\"dataframe\">\n",
       "  <thead>\n",
       "    <tr style=\"text-align: right;\">\n",
       "      <th></th>\n",
       "      <th>date</th>\n",
       "      <th>region</th>\n",
       "      <th>product</th>\n",
       "      <th>quantity</th>\n",
       "      <th>price</th>\n",
       "      <th>revenue</th>\n",
       "    </tr>\n",
       "  </thead>\n",
       "  <tbody>\n",
       "    <tr>\n",
       "      <th>0</th>\n",
       "      <td>2023-02-08</td>\n",
       "      <td>East</td>\n",
       "      <td>Product D</td>\n",
       "      <td>3</td>\n",
       "      <td>64.33</td>\n",
       "      <td>193.0</td>\n",
       "    </tr>\n",
       "    <tr>\n",
       "      <th>1</th>\n",
       "      <td>2023-02-21</td>\n",
       "      <td>East</td>\n",
       "      <td>Product B</td>\n",
       "      <td>11</td>\n",
       "      <td>26.36</td>\n",
       "      <td>290.0</td>\n",
       "    </tr>\n",
       "    <tr>\n",
       "      <th>2</th>\n",
       "      <td>2023-01-29</td>\n",
       "      <td>West</td>\n",
       "      <td>Product A</td>\n",
       "      <td>11</td>\n",
       "      <td>18.55</td>\n",
       "      <td>204.0</td>\n",
       "    </tr>\n",
       "    <tr>\n",
       "      <th>3</th>\n",
       "      <td>2023-01-15</td>\n",
       "      <td>South</td>\n",
       "      <td>Product D</td>\n",
       "      <td>18</td>\n",
       "      <td>20.06</td>\n",
       "      <td>361.0</td>\n",
       "    </tr>\n",
       "    <tr>\n",
       "      <th>4</th>\n",
       "      <td>2023-02-12</td>\n",
       "      <td>South</td>\n",
       "      <td>Product E</td>\n",
       "      <td>15</td>\n",
       "      <td>13.60</td>\n",
       "      <td>204.0</td>\n",
       "    </tr>\n",
       "    <tr>\n",
       "      <th>...</th>\n",
       "      <td>...</td>\n",
       "      <td>...</td>\n",
       "      <td>...</td>\n",
       "      <td>...</td>\n",
       "      <td>...</td>\n",
       "      <td>...</td>\n",
       "    </tr>\n",
       "    <tr>\n",
       "      <th>195</th>\n",
       "      <td>2023-02-12</td>\n",
       "      <td>South</td>\n",
       "      <td>Product E</td>\n",
       "      <td>16</td>\n",
       "      <td>7.62</td>\n",
       "      <td>122.0</td>\n",
       "    </tr>\n",
       "    <tr>\n",
       "      <th>196</th>\n",
       "      <td>2023-01-29</td>\n",
       "      <td>East</td>\n",
       "      <td>Product B</td>\n",
       "      <td>8</td>\n",
       "      <td>18.62</td>\n",
       "      <td>149.0</td>\n",
       "    </tr>\n",
       "    <tr>\n",
       "      <th>197</th>\n",
       "      <td>2023-02-05</td>\n",
       "      <td>South</td>\n",
       "      <td>Product B</td>\n",
       "      <td>4</td>\n",
       "      <td>14.00</td>\n",
       "      <td>56.0</td>\n",
       "    </tr>\n",
       "    <tr>\n",
       "      <th>198</th>\n",
       "      <td>2023-01-13</td>\n",
       "      <td>North</td>\n",
       "      <td>Product B</td>\n",
       "      <td>8</td>\n",
       "      <td>1.25</td>\n",
       "      <td>10.0</td>\n",
       "    </tr>\n",
       "    <tr>\n",
       "      <th>199</th>\n",
       "      <td>2023-02-01</td>\n",
       "      <td>Central</td>\n",
       "      <td>Product E</td>\n",
       "      <td>4</td>\n",
       "      <td>24.75</td>\n",
       "      <td>99.0</td>\n",
       "    </tr>\n",
       "  </tbody>\n",
       "</table>\n",
       "<p>200 rows × 6 columns</p>\n",
       "</div>"
      ],
      "text/plain": [
       "           date   region    product  quantity  price  revenue\n",
       "0    2023-02-08     East  Product D         3  64.33    193.0\n",
       "1    2023-02-21     East  Product B        11  26.36    290.0\n",
       "2    2023-01-29     West  Product A        11  18.55    204.0\n",
       "3    2023-01-15    South  Product D        18  20.06    361.0\n",
       "4    2023-02-12    South  Product E        15  13.60    204.0\n",
       "..          ...      ...        ...       ...    ...      ...\n",
       "195  2023-02-12    South  Product E        16   7.62    122.0\n",
       "196  2023-01-29     East  Product B         8  18.62    149.0\n",
       "197  2023-02-05    South  Product B         4  14.00     56.0\n",
       "198  2023-01-13    North  Product B         8   1.25     10.0\n",
       "199  2023-02-01  Central  Product E         4  24.75     99.0\n",
       "\n",
       "[200 rows x 6 columns]"
      ]
     },
     "execution_count": 12,
     "metadata": {},
     "output_type": "execute_result"
    }
   ],
   "source": [
    "df = pd.read_csv('csv/sales.csv')\n",
    "total_revenue_by_product = df.groupby('product')['revenue'].sum()\n",
    "print(total_revenue_by_product)\n",
    "print(df.groupby('region')['revenue'].mean())\n",
    "total_revenue_by_product.nlargest(3)\n",
    "df"
   ]
  },
  {
   "cell_type": "markdown",
   "id": "46a8cf1d",
   "metadata": {},
   "source": [
    "## Section 5: Filtering & Selection\n",
    "13. From `sales.csv`, select only rows where `Revenue` > 1000.\n",
    "14. Select rows where `Quantity` is between 10 and 20.\n",
    "15. Select only `Product` and `Revenue` columns."
   ]
  },
  {
   "cell_type": "code",
   "execution_count": 13,
   "id": "7145892f",
   "metadata": {},
   "outputs": [
    {
     "data": {
      "text/html": [
       "<div>\n",
       "<style scoped>\n",
       "    .dataframe tbody tr th:only-of-type {\n",
       "        vertical-align: middle;\n",
       "    }\n",
       "\n",
       "    .dataframe tbody tr th {\n",
       "        vertical-align: top;\n",
       "    }\n",
       "\n",
       "    .dataframe thead th {\n",
       "        text-align: right;\n",
       "    }\n",
       "</style>\n",
       "<table border=\"1\" class=\"dataframe\">\n",
       "  <thead>\n",
       "    <tr style=\"text-align: right;\">\n",
       "      <th></th>\n",
       "      <th>product</th>\n",
       "      <th>revenue</th>\n",
       "    </tr>\n",
       "  </thead>\n",
       "  <tbody>\n",
       "    <tr>\n",
       "      <th>0</th>\n",
       "      <td>Product D</td>\n",
       "      <td>193.0</td>\n",
       "    </tr>\n",
       "    <tr>\n",
       "      <th>1</th>\n",
       "      <td>Product B</td>\n",
       "      <td>290.0</td>\n",
       "    </tr>\n",
       "    <tr>\n",
       "      <th>2</th>\n",
       "      <td>Product A</td>\n",
       "      <td>204.0</td>\n",
       "    </tr>\n",
       "    <tr>\n",
       "      <th>3</th>\n",
       "      <td>Product D</td>\n",
       "      <td>361.0</td>\n",
       "    </tr>\n",
       "    <tr>\n",
       "      <th>4</th>\n",
       "      <td>Product E</td>\n",
       "      <td>204.0</td>\n",
       "    </tr>\n",
       "    <tr>\n",
       "      <th>...</th>\n",
       "      <td>...</td>\n",
       "      <td>...</td>\n",
       "    </tr>\n",
       "    <tr>\n",
       "      <th>195</th>\n",
       "      <td>Product E</td>\n",
       "      <td>122.0</td>\n",
       "    </tr>\n",
       "    <tr>\n",
       "      <th>196</th>\n",
       "      <td>Product B</td>\n",
       "      <td>149.0</td>\n",
       "    </tr>\n",
       "    <tr>\n",
       "      <th>197</th>\n",
       "      <td>Product B</td>\n",
       "      <td>56.0</td>\n",
       "    </tr>\n",
       "    <tr>\n",
       "      <th>198</th>\n",
       "      <td>Product B</td>\n",
       "      <td>10.0</td>\n",
       "    </tr>\n",
       "    <tr>\n",
       "      <th>199</th>\n",
       "      <td>Product E</td>\n",
       "      <td>99.0</td>\n",
       "    </tr>\n",
       "  </tbody>\n",
       "</table>\n",
       "<p>200 rows × 2 columns</p>\n",
       "</div>"
      ],
      "text/plain": [
       "       product  revenue\n",
       "0    Product D    193.0\n",
       "1    Product B    290.0\n",
       "2    Product A    204.0\n",
       "3    Product D    361.0\n",
       "4    Product E    204.0\n",
       "..         ...      ...\n",
       "195  Product E    122.0\n",
       "196  Product B    149.0\n",
       "197  Product B     56.0\n",
       "198  Product B     10.0\n",
       "199  Product E     99.0\n",
       "\n",
       "[200 rows x 2 columns]"
      ]
     },
     "execution_count": 13,
     "metadata": {},
     "output_type": "execute_result"
    }
   ],
   "source": [
    "df = pd.read_csv('csv/sales.csv')\n",
    "df[df['revenue']>20]\n",
    "df[df['quantity'].between(11,19)]\n",
    "df[['product', 'revenue']]"
   ]
  },
  {
   "cell_type": "markdown",
   "id": "07f89d95",
   "metadata": {},
   "source": [
    "## Section 6: Realistic Case\n",
    "16. Load `sales.csv`. Create a new column `Total` = `Quantity` × `Price`. Find the overall total revenue.\n",
    "17. Create a pivot table: show average revenue per `Region` and `Product`.\n",
    "18. Plot a bar chart of total revenue by region (using pandas `.plot`)."
   ]
  },
  {
   "cell_type": "code",
   "execution_count": 14,
   "id": "29eb882c",
   "metadata": {},
   "outputs": [
    {
     "data": {
      "text/plain": [
       "<Axes: xlabel='region'>"
      ]
     },
     "execution_count": 14,
     "metadata": {},
     "output_type": "execute_result"
    },
    {
     "data": {
      "image/png": "[encoded data removed]",
      "text/plain": [
       "<Figure size 640x480 with 1 Axes>"
      ]
     },
     "metadata": {},
     "output_type": "display_data"
    }
   ],
   "source": [
    "df = pd.read_csv('csv/sales.csv')\n",
    "df['total'] = df['quantity'] * df['price']\n",
    "df = df.drop(columns='revenue')\n",
    "df.pivot_table(values='total', index='region', columns='product', aggfunc='mean')\n",
    "df.groupby('region')['total'].sum().plot.bar()"
   ]
  },
  {
   "cell_type": "markdown",
   "id": "964bb287",
   "metadata": {},
   "source": [
    "## Section 7: Portfolio-Level Task\n",
    "19. Write a function `analyze_dataframe(df)` that returns:\n",
    "- shape (rows, columns)\n",
    "- number of missing values\n",
    "- mean of all numeric columns\n",
    "20. Apply this function to your dataset."
   ]
  },
  {
   "cell_type": "code",
   "execution_count": 15,
   "id": "bab496f1",
   "metadata": {},
   "outputs": [
    {
     "data": {
      "text/plain": [
       "{'Shape rows and columns': '200 rows and 6 columns',\n",
       " 'Number of missing values': np.int64(2),\n",
       " 'Mean of all numeric columns': quantity     10.025000\n",
       " price        42.821106\n",
       " revenue     222.075377\n",
       " dtype: float64}"
      ]
     },
     "execution_count": 15,
     "metadata": {},
     "output_type": "execute_result"
    }
   ],
   "source": [
    "from pandas import DataFrame\n",
    "\n",
    "df = pd.read_csv('csv/sales.csv')\n",
    "def analyze_dataframe(df: DataFrame)->dict:\n",
    "    return {\n",
    "        'Shape rows and columns': f'{df.shape[0]} rows and {df.shape[1]} columns',\n",
    "        'Number of missing values': df.isnull().sum().sum(),\n",
    "        'Mean of all numeric columns': df.mean(numeric_only=True)\n",
    "    }\n",
    "analyze_dataframe(df)"
   ]
  },
  {
   "cell_type": "code",
   "execution_count": null,
   "id": "509b126f-f195-4bd7-9b2e-9c00b6b0950e",
   "metadata": {},
   "outputs": [],
   "source": []
  }
 ],
 "metadata": {
  "kernelspec": {
   "display_name": "Python 3 (ipykernel)",
   "language": "python",
   "name": "python3"
  },
  "language_info": {
   "codemirror_mode": {
    "name": "ipython",
    "version": 3
   },
   "file_extension": ".py",
   "mimetype": "text/x-python",
   "name": "python",
   "nbconvert_exporter": "python",
   "pygments_lexer": "ipython3",
   "version": "3.13.7"
  }
 },
 "nbformat": 4,
 "nbformat_minor": 5
}
