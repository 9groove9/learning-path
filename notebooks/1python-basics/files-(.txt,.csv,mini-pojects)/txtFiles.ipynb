{
 "cells": [
  {
   "cell_type": "code",
   "execution_count": 18,
   "id": "8e36580b-a0e1-4969-92c8-47ab5407c5b8",
   "metadata": {},
   "outputs": [],
   "source": [
    "with open(\"example.txt\", \"w\") as f:\n",
    "    f.write(\"Hello world\\n\")\n",
    "    f.write(\"This is the first line\\n\")"
   ]
  },
  {
   "cell_type": "code",
   "execution_count": 19,
   "id": "a985df9c-b198-44aa-a07b-9caa6df02720",
   "metadata": {},
   "outputs": [],
   "source": [
    "with open(\"example.txt\", \"a\") as f:\n",
    "    f.write(\"And that is second\\n\")"
   ]
  },
  {
   "cell_type": "code",
   "execution_count": 23,
   "id": "b900d1f1-0771-48c6-806e-33a879eee81c",
   "metadata": {},
   "outputs": [
    {
     "name": "stdout",
     "output_type": "stream",
     "text": [
      "['Hello world\\n', 'This is the first line\\n', 'And that is second\\n', 'Third line\\n']\n"
     ]
    }
   ],
   "source": [
    "with open(\"example.txt\", \"r\") as f:\n",
    "    file = f.readlines()\n",
    "    print(file)"
   ]
  },
  {
   "cell_type": "code",
   "execution_count": 21,
   "id": "5f5f2f94-0899-416e-93e7-76821a5c42d8",
   "metadata": {},
   "outputs": [],
   "source": [
    "with open(\"example.txt\", \"a\") as f:\n",
    "    f.writelines(\"Third line\\n\")"
   ]
  },
  {
   "cell_type": "code",
   "execution_count": 24,
   "id": "cf04633f-6103-420f-9404-ad63177b2824",
   "metadata": {},
   "outputs": [
    {
     "name": "stdout",
     "output_type": "stream",
     "text": [
      "Hello world\n",
      "\n",
      "This is the first line\n",
      "\n",
      "And that is second\n",
      "\n",
      "Third line\n",
      "\n"
     ]
    }
   ],
   "source": [
    "with open(\"example.txt\", \"r\") as f:\n",
    "    for line in f:\n",
    "        print(line)"
   ]
  },
  {
   "cell_type": "code",
   "execution_count": null,
   "id": "7ce2a072-dafa-4636-9ce6-b33ea55854a3",
   "metadata": {},
   "outputs": [],
   "source": []
  }
 ],
 "metadata": {
  "kernelspec": {
   "display_name": "Python 3 (ipykernel)",
   "language": "python",
   "name": "python3"
  },
  "language_info": {
   "codemirror_mode": {
    "name": "ipython",
    "version": 3
   },
   "file_extension": ".py",
   "mimetype": "text/x-python",
   "name": "python",
   "nbconvert_exporter": "python",
   "pygments_lexer": "ipython3",
   "version": "3.13.7"
  }
 },
 "nbformat": 4,
 "nbformat_minor": 5
}
