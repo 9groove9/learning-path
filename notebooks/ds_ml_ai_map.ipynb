{
 "cells": [
  {
   "cell_type": "markdown",
   "id": "d1b929a3",
   "metadata": {},
   "source": [
    "# 📘 Навчальна мапа: Data Science + ML + AI (v2.0)\n",
    "Цей ноутбук містить повну roadmap з блоками, цілями та портфоліо."
   ]
  },
  {
   "cell_type": "markdown",
   "id": "19a73b8b",
   "metadata": {},
   "source": [
    "## 🔹 Блок 1: Python Basics + OOP\n",
    "**Ціль:** Закріпити базовий Python.\n",
    "- Типи даних, функції, цикли, умови\n",
    "- ООП: класи, наслідування, методи\n",
    "- Робота з файлами (txt, csv)\n",
    "\n",
    "📌 **Portfolio:** калькулятор, список покупок, expense tracker"
   ]
  },
  {
   "cell_type": "markdown",
   "id": "5aa71c84",
   "metadata": {},
   "source": [
    "## 🔹 Блок 2: NumPy + Pandas\n",
    "**Ціль:** Вивчити масиви, Series та DataFrame.\n",
    "- NumPy: масиви, статистика, random\n",
    "- Pandas: Series, DataFrame, groupby\n",
    "- Робота з реальними CSV\n",
    "\n",
    "📌 **Portfolio:** аналіз продажів (CSV), сенсорні дані"
   ]
  },
  {
   "cell_type": "markdown",
   "id": "27e69b9f",
   "metadata": {},
   "source": [
    "## 🔹 Блок 3: SQL / NoSQL\n",
    "**Ціль:** Вміти отримувати дані з баз.\n",
    "- SQL: SELECT, JOIN, GROUP BY, HAVING\n",
    "- Практика: SQLite → Pandas\n",
    "- Опціонально: MongoDB\n",
    "\n",
    "📌 **Portfolio:** Аналіз даних клієнтів з бази"
   ]
  },
  {
   "cell_type": "markdown",
   "id": "d7260db3",
   "metadata": {},
   "source": [
    "## 🔹 Блок 4: Visualization\n",
    "**Ціль:** Вміти будувати графіки.\n",
    "- Matplotlib: лінійні, bar, scatter\n",
    "- Seaborn: heatmap, scatterplot, boxplot\n",
    "\n",
    "📌 **Portfolio:** інтерактивні графіки продажів, KPI"
   ]
  },
  {
   "cell_type": "markdown",
   "id": "f95b211b",
   "metadata": {},
   "source": [
    "## 🔹 Блок 5: Basic ML (Scikit-Learn)\n",
    "**Ціль:** Освоїти базові моделі.\n",
    "- Лінійна та логістична регресія\n",
    "- Метрики: MSE, RMSE, Accuracy\n",
    "- Train/test split, cross-validation\n",
    "\n",
    "📌 **Portfolio:** Sales Forecasting, Customer Churn Prediction"
   ]
  },
  {
   "cell_type": "markdown",
   "id": "15a91729",
   "metadata": {},
   "source": [
    "## 🔹 Блок 6: Business Cases\n",
    "**Ціль:** Виконати реальні бізнес-задачі.\n",
    "- Прогноз попиту (time series)\n",
    "- Сегментація клієнтів (кластеризація)\n",
    "- Аналіз KPI\n",
    "\n",
    "📌 **Portfolio:** бізнес-ноутбуки"
   ]
  },
  {
   "cell_type": "markdown",
   "id": "1120cfdd",
   "metadata": {},
   "source": [
    "## 🔹 Блок 7: API / REST інтеграції\n",
    "**Ціль:** Отримувати дані з веб.\n",
    "- HTTP-запити GET, POST\n",
    "- JSON → Pandas → аналіз\n",
    "\n",
    "📌 **Portfolio:** Financial Data Report from API"
   ]
  },
  {
   "cell_type": "markdown",
   "id": "ed5286d1",
   "metadata": {},
   "source": [
    "## 🔹 Блок 8: Google Sheets / gspread\n",
    "**Ціль:** Автоматизувати Google Sheets.\n",
    "- Зчитування / запис\n",
    "- Побудова графіків у Sheets\n",
    "\n",
    "📌 **Portfolio:** Auto-updated Google Sheets Report"
   ]
  },
  {
   "cell_type": "markdown",
   "id": "b19f831a",
   "metadata": {},
   "source": [
    "## 🔹 Блок 9: Freelance Skills\n",
    "**Ціль:** Готуватись до роботи з клієнтами.\n",
    "- Автоматизація: Excel / CSV → PDF\n",
    "- API інтеграції\n",
    "- Dashboards\n",
    "\n",
    "📌 **Portfolio:** реальні фриланс-задачі"
   ]
  },
  {
   "cell_type": "markdown",
   "id": "32b35d3a",
   "metadata": {},
   "source": [
    "## 🔹 Блок 10: Git + Linux\n",
    "**Ціль:** Версіонування і робота в терміналі.\n",
    "- Git: clone, commit, push, branch\n",
    "- Linux: ls, cd, pwd, mkdir, chmod, cron\n",
    "\n",
    "📌 **Portfolio:** GitHub з усіма проектами"
   ]
  },
  {
   "cell_type": "markdown",
   "id": "403bfb91",
   "metadata": {},
   "source": [
    "## 🔹 Блок 11: AI Integration\n",
    "**Ціль:** Використати AI API.\n",
    "- ChatGPT API\n",
    "- HuggingFace models\n",
    "- Автоматизовані звіти\n",
    "\n",
    "📌 **Portfolio:** AI Text Analyzer, Auto-report Generator"
   ]
  },
  {
   "cell_type": "markdown",
   "id": "bce2e89e",
   "metadata": {},
   "source": [
    "## 🔹 Блок 12: Telegram Bots\n",
    "**Ціль:** Створити інтерактивних ботів.\n",
    "- python-telegram-bot\n",
    "- Інтеграція з AI/LLM\n",
    "\n",
    "📌 **Portfolio:** Bot із прогнозами та AI-звітом"
   ]
  },
  {
   "cell_type": "markdown",
   "id": "daa667b3",
   "metadata": {},
   "source": [
    "## 🔹 Блок 13: Deep Learning\n",
    "**Ціль:** Освоїти нейромережі.\n",
    "- MLP, CNN, RNN, NLP\n",
    "- PyTorch, TensorFlow\n",
    "\n",
    "📌 **Portfolio:** Image Classifier, Sentiment Analyzer"
   ]
  },
  {
   "cell_type": "markdown",
   "id": "0faf19e4",
   "metadata": {},
   "source": [
    "## 🔹 Блок 14: Final Projects\n",
    "**Ціль:** Поєднати все в одному пайплайні.\n",
    "- Full pipeline: Python → SQL → Pandas → ML/LLM → API → Bot/Sheets → PDF\n",
    "\n",
    "📌 **Portfolio:** AI Assistant for Analytics, Sales Dashboard"
   ]
  }
 ],
 "metadata": {
  "kernelspec": {
   "display_name": "Python 3 (ipykernel)",
   "language": "python",
   "name": "python3"
  },
  "language_info": {
   "codemirror_mode": {
    "name": "ipython",
    "version": 3
   },
   "file_extension": ".py",
   "mimetype": "text/x-python",
   "name": "python",
   "nbconvert_exporter": "python",
   "pygments_lexer": "ipython3",
   "version": "3.13.7"
  }
 },
 "nbformat": 4,
 "nbformat_minor": 5
}
