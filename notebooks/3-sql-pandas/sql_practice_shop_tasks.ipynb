{
 "cells": [
  {
   "cell_type": "markdown",
   "id": "dbdc3943",
   "metadata": {},
   "source": [
    "# SQL Practice: Shop (Products & Sales)\n",
    "This notebook contains SQL + Python (SQLite + pandas) practice tasks.\n",
    "Follow the instructions in each task and write your code in the empty code cells.\n"
   ]
  },
  {
   "cell_type": "markdown",
   "id": "5bae19ea",
   "metadata": {},
   "source": [
    "## Beginner"
   ]
  },
  {
   "cell_type": "markdown",
   "id": "7e53b095",
   "metadata": {},
   "source": [
    "# 📝 Task 1 — Create a SQLite database `shop.db`\n",
    "### Instructions:\n",
    "1. Create a new SQLite database called **`shop.db`**.  \n",
    "2. Create a table `products (id, name, category, price)`.  \n",
    "3. Create a table `sales (id, product_id, revenue, date)`.  \n",
    "4. Insert at least 5 demo products and 5 demo sales.  \n",
    "5. Select all rows from both tables to verify data."
   ]
  },
  {
   "cell_type": "code",
   "execution_count": 7,
   "id": "57b4c833",
   "metadata": {},
   "outputs": [
    {
     "name": "stdout",
     "output_type": "stream",
     "text": [
      "All products:\n",
      "   id        name     category   price\n",
      "0   1      Laptop  Electronics  1200.0\n",
      "1   2       Phone  Electronics   800.0\n",
      "2   3      Tablet  Electronics   500.0\n",
      "3   4  Headphones  Accessories   150.0\n",
      "4   5    Backpack      Fashion    70.0\n",
      "5   6       Shoes      Fashion    90.0\n",
      "6   7        Desk    Furniture   200.0\n",
      "7   8       Chair    Furniture   120.0\n",
      "8   9     Monitor  Electronics   300.0\n",
      "9  10    Keyboard  Accessories    45.0\n",
      "All sales:\n",
      "   id  product_id  revenue        date\n",
      "0   1           1   2400.0  2025-09-01\n",
      "1   2           2   1600.0  2025-09-01\n",
      "2   3           3   1000.0  2025-09-02\n",
      "3   4           5    140.0  2025-09-02\n",
      "4   5           4    450.0  2025-09-03\n",
      "5   6           6    180.0  2025-09-03\n",
      "6   7           9    600.0  2025-09-04\n",
      "7   8          10    135.0  2025-09-04\n",
      "8   9           7    400.0  2025-09-05\n",
      "9  10           8    240.0  2025-09-05\n"
     ]
    }
   ],
   "source": [
    "import sqlite3\n",
    "import pandas as pd\n",
    "conn = sqlite3.connect('db/shop.db')\n",
    "cursor = conn.cursor()\n",
    "\n",
    "cursor.execute(\"\"\"\n",
    "    CREATE TABLE IF NOT EXISTS products (\n",
    "        id INTEGER PRIMARY KEY,\n",
    "        name TEXT,\n",
    "        category TEXT,\n",
    "        price REAL\n",
    "    ); \n",
    "\"\"\")\n",
    "cursor.execute(\"\"\"\n",
    "    CREATE TABLE IF NOT EXISTS sales (\n",
    "        id INTEGER PRIMARY KEY,\n",
    "        product_id INT,\n",
    "        revenue REAL,\n",
    "        date TEXT,\n",
    "        FOREIGN KEY(product_id) REFERENCES products(id)\n",
    "    );\n",
    "\"\"\")\n",
    "products_data = [\n",
    "    (1, \"Laptop\",   \"Electronics\", 1200.00),\n",
    "    (2, \"Phone\",    \"Electronics\", 800.00),\n",
    "    (3, \"Tablet\",   \"Electronics\", 500.00),\n",
    "    (4, \"Headphones\", \"Accessories\", 150.00),\n",
    "    (5, \"Backpack\", \"Fashion\", 70.00),\n",
    "    (6, \"Shoes\",    \"Fashion\", 90.00),\n",
    "    (7, \"Desk\",     \"Furniture\", 200.00),\n",
    "    (8, \"Chair\",    \"Furniture\", 120.00),\n",
    "    (9, \"Monitor\",  \"Electronics\", 300.00),\n",
    "    (10, \"Keyboard\", \"Accessories\", 45.00),\n",
    "]\n",
    "sales_data = [\n",
    "    (1, 1, 2400.00, \"2025-09-01\"),  # 2 laptops\n",
    "    (2, 2, 1600.00, \"2025-09-01\"),  # 2 phones\n",
    "    (3, 3, 1000.00, \"2025-09-02\"),  # 2 tablets\n",
    "    (4, 5, 140.00,  \"2025-09-02\"),  # 2 backpacks\n",
    "    (5, 4, 450.00,  \"2025-09-03\"),  # 3 headphones\n",
    "    (6, 6, 180.00,  \"2025-09-03\"),  # 2 shoes\n",
    "    (7, 9, 600.00,  \"2025-09-04\"),  # 2 monitors\n",
    "    (8, 10, 135.00, \"2025-09-04\"),  # 3 keyboards\n",
    "    (9, 7, 400.00,  \"2025-09-05\"),  # 2 desks\n",
    "    (10, 8, 240.00, \"2025-09-05\"),  # 2 chairs\n",
    "]\n",
    "cursor.executemany(\n",
    "    \"INSERT OR IGNORE INTO products VALUES (?, ?, ?, ?);\",\n",
    "    products_data\n",
    ")\n",
    "cursor.executemany(\n",
    "    \"INSERT OR IGNORE INTO sales VALUES (?, ?, ?, ?);\",\n",
    "    sales_data\n",
    ")\n",
    "conn.commit()\n",
    "\n",
    "print(\"All products:\")\n",
    "print(pd.read_sql(\"SELECT * FROM products;\", conn))\n",
    "print(\"All sales:\")\n",
    "print(pd.read_sql(\"SELECT * FROM sales;\", conn))\n",
    "conn.close()"
   ]
  },
  {
   "cell_type": "markdown",
   "id": "da67b46d",
   "metadata": {},
   "source": [
    "# 📝 Task 2 — Load data into pandas\n",
    "### Instructions:\n",
    "1. Write a query `SELECT * FROM products`.  \n",
    "2. Load it into a pandas DataFrame.  \n",
    "3. Print the DataFrame."
   ]
  },
  {
   "cell_type": "code",
   "execution_count": 12,
   "id": "c3d8c68c",
   "metadata": {},
   "outputs": [
    {
     "name": "stdout",
     "output_type": "stream",
     "text": [
      "All products:\n",
      "   id        name     category   price\n",
      "0   1      Laptop  Electronics  1200.0\n",
      "1   2       Phone  Electronics   800.0\n",
      "2   3      Tablet  Electronics   500.0\n",
      "3   4  Headphones  Accessories   150.0\n",
      "4   5    Backpack      Fashion    70.0\n",
      "5   6       Shoes      Fashion    90.0\n",
      "6   7        Desk    Furniture   200.0\n",
      "7   8       Chair    Furniture   120.0\n",
      "8   9     Monitor  Electronics   300.0\n",
      "9  10    Keyboard  Accessories    45.0\n"
     ]
    }
   ],
   "source": [
    "import sqlite3\n",
    "import pandas as pd\n",
    "\n",
    "conn = sqlite3.connect('db/shop.db')\n",
    "query = \"SELECT * FROM products;\"\n",
    "print(\"All products:\")\n",
    "print(pd.read_sql(query, conn))\n",
    "conn.close()"
   ]
  },
  {
   "cell_type": "markdown",
   "id": "6da9a009",
   "metadata": {},
   "source": [
    "## Intermediate"
   ]
  },
  {
   "cell_type": "markdown",
   "id": "64e2a327",
   "metadata": {},
   "source": [
    "# 📝 Task 3 — JOIN products and sales\n",
    "### Instructions:\n",
    "1. Write a JOIN query to show `product_name`, `category`, `revenue`, `date`.  \n",
    "2. Load the results into pandas.  \n",
    "3. Display the DataFrame."
   ]
  },
  {
   "cell_type": "code",
   "execution_count": 17,
   "id": "a5f6edbf",
   "metadata": {},
   "outputs": [
    {
     "name": "stdout",
     "output_type": "stream",
     "text": [
      "[('products',), ('sales',)]\n",
      "[(0, 'id', 'INTEGER', 0, None, 1), (1, 'name', 'TEXT', 0, None, 0), (2, 'category', 'TEXT', 0, None, 0), (3, 'price', 'REAL', 0, None, 0)]\n",
      "[(0, 'id', 'INTEGER', 0, None, 1), (1, 'product_id', 'INT', 0, None, 0), (2, 'revenue', 'REAL', 0, None, 0), (3, 'date', 'TEXT', 0, None, 0)]\n",
      "         name     category  revenue        date\n",
      "0      Laptop  Electronics   2400.0  2025-09-01\n",
      "1       Phone  Electronics   1600.0  2025-09-01\n",
      "2      Tablet  Electronics   1000.0  2025-09-02\n",
      "3    Backpack      Fashion    140.0  2025-09-02\n",
      "4  Headphones  Accessories    450.0  2025-09-03\n",
      "5       Shoes      Fashion    180.0  2025-09-03\n",
      "6     Monitor  Electronics    600.0  2025-09-04\n",
      "7    Keyboard  Accessories    135.0  2025-09-04\n",
      "8        Desk    Furniture    400.0  2025-09-05\n",
      "9       Chair    Furniture    240.0  2025-09-05\n"
     ]
    }
   ],
   "source": [
    "import sqlite3\n",
    "import pandas as pd\n",
    "\n",
    "conn = sqlite3.connect('db/shop.db')\n",
    "cursor = conn.cursor()\n",
    "cursor.execute(\"SELECT name FROM sqlite_master WHERE type='table';\")\n",
    "print(cursor.fetchall())\n",
    "cursor.execute(\"PRAGMA table_info(products);\")\n",
    "print(cursor.fetchall())\n",
    "cursor.execute(\"PRAGMA table_info(sales);\")\n",
    "print(cursor.fetchall())\n",
    "query = \"\"\"SELECT p.name, p.category, s.revenue, s.date\n",
    "           FROM products p\n",
    "           JOIN sales s ON p.id = s.product_id;\n",
    "        \"\"\"\n",
    "print(pd.read_sql(query, conn))\n",
    "conn.close()"
   ]
  },
  {
   "cell_type": "markdown",
   "id": "84d9a666",
   "metadata": {},
   "source": [
    "# 📝 Task 4 — Revenue by category\n",
    "### Instructions:\n",
    "1. Use GROUP BY to calculate total revenue per category.  \n",
    "2. Show only categories with revenue > 5000 (HAVING).  \n",
    "3. Load the results into pandas."
   ]
  },
  {
   "cell_type": "code",
   "execution_count": 28,
   "id": "6660bfb6",
   "metadata": {},
   "outputs": [
    {
     "name": "stdout",
     "output_type": "stream",
     "text": [
      "[('products',), ('sales',)]\n",
      "[(0, 'id', 'INTEGER', 0, None, 1), (1, 'name', 'TEXT', 0, None, 0), (2, 'category', 'TEXT', 0, None, 0), (3, 'price', 'REAL', 0, None, 0)]\n",
      "[(0, 'id', 'INTEGER', 0, None, 1), (1, 'product_id', 'INT', 0, None, 0), (2, 'revenue', 'REAL', 0, None, 0), (3, 'date', 'TEXT', 0, None, 0)]\n",
      "      category  total_revenue\n",
      "0  Accessories          585.0\n",
      "1  Electronics         5600.0\n",
      "2      Fashion          320.0\n",
      "3    Furniture          640.0\n"
     ]
    }
   ],
   "source": [
    "import sqlite3\n",
    "import pandas as pd\n",
    "\n",
    "conn = sqlite3.connect('db/shop.db')\n",
    "cursor = conn.cursor()\n",
    "\n",
    "cursor.execute(\"SELECT name FROM sqlite_master WHERE type='table';\")\n",
    "print(cursor.fetchall())\n",
    "cursor.execute(\"PRAGMA table_info(products)\")\n",
    "print(cursor.fetchall())\n",
    "cursor.execute(\"PRAGMA table_info(sales)\")\n",
    "print(cursor.fetchall())\n",
    "\n",
    "query = \"\"\"\n",
    "    SELECT p.category, SUM(s.revenue) AS total_revenue\n",
    "    FROM products p\n",
    "    JOIN sales s ON p.id = s.product_id\n",
    "    GROUP BY p.category\n",
    "    HAVING SUM(s.revenue) > 5000;\n",
    "\"\"\"\n",
    "print(pd.read_sql(query, conn))\n",
    "conn.close()"
   ]
  },
  {
   "cell_type": "markdown",
   "id": "42bbc3ff",
   "metadata": {},
   "source": [
    "## Advanced"
   ]
  },
  {
   "cell_type": "markdown",
   "id": "25ea66d8",
   "metadata": {},
   "source": [
    "# 📝 Task 5 — CTE for product revenue\n",
    "### Instructions:\n",
    "1. Create a CTE to calculate total revenue per product.  \n",
    "2. Select only products with revenue > 5000."
   ]
  },
  {
   "cell_type": "code",
   "execution_count": 25,
   "id": "5f2b6f0f",
   "metadata": {},
   "outputs": [
    {
     "name": "stdout",
     "output_type": "stream",
     "text": [
      "   id  product_id  revenue        date\n",
      "0   1           1   2400.0  2025-09-01\n",
      "1   2           2   1600.0  2025-09-01\n",
      "2   3           3   1000.0  2025-09-02\n",
      "3   4           5    140.0  2025-09-02\n",
      "4   5           4    450.0  2025-09-03\n",
      "5   6           6    180.0  2025-09-03\n",
      "6   7           9    600.0  2025-09-04\n",
      "7   8          10    135.0  2025-09-04\n",
      "8   9           7    400.0  2025-09-05\n",
      "9  10           8    240.0  2025-09-05\n",
      "         name  total_revenue\n",
      "0  Headphones          450.0\n",
      "1      Laptop         2400.0\n",
      "2     Monitor          600.0\n",
      "3       Phone         1600.0\n",
      "4      Tablet         1000.0\n"
     ]
    }
   ],
   "source": [
    "import sqlite3\n",
    "import pandas as pd\n",
    "\n",
    "conn = sqlite3.connect('db/shop.db')\n",
    "print(pd.read_sql(\"SELECT * FROM sales;\", conn))\n",
    "# print(pd.read_sql(\"SELECT * FROM products;\", conn))\n",
    "query = \"\"\"\n",
    "    WITH product_revenue AS (\n",
    "        SELECT p.name, SUM(s.revenue) AS total_revenue\n",
    "        FROM sales s\n",
    "        INNER JOIN products p ON p.id = s.product_id\n",
    "        GROUP BY p.name\n",
    "    )\n",
    "    SELECT * FROM product_revenue WHERE total_revenue > 400;\n",
    "\"\"\"\n",
    "print(pd.read_sql(query, conn))\n",
    "conn.close()"
   ]
  },
  {
   "cell_type": "markdown",
   "id": "72b76782",
   "metadata": {},
   "source": [
    "# 📝 Task 6 — Subquery for above-average revenue\n",
    "### Instructions:\n",
    "1. Use a subquery to select all products with revenue above the average."
   ]
  },
  {
   "cell_type": "code",
   "execution_count": 26,
   "id": "b7cb50a4",
   "metadata": {},
   "outputs": [
    {
     "name": "stdout",
     "output_type": "stream",
     "text": [
      "     name  revenue\n",
      "0  Laptop   2400.0\n",
      "1   Phone   1600.0\n",
      "2  Tablet   1000.0\n"
     ]
    }
   ],
   "source": [
    "import sqlite3\n",
    "import pandas as pd\n",
    "\n",
    "conn = sqlite3.connect('db/shop.db')\n",
    "query = \"\"\"\n",
    "    SELECT p.name, s.revenue\n",
    "    FROM sales s\n",
    "    INNER JOIN products p ON p.id = s.product_id\n",
    "    WHERE s.revenue > (\n",
    "        SELECT AVG(revenue) FROM sales\n",
    "    )\n",
    "\"\"\"\n",
    "print(pd.read_sql(query, conn))\n",
    "conn.close()"
   ]
  },
  {
   "cell_type": "markdown",
   "id": "3e5af8f9",
   "metadata": {},
   "source": [
    "# 📝 Task 7 — Index and Window function\n",
    "### Instructions:\n",
    "1. Create an index on `product_id` in `sales`.  \n",
    "2. Use RANK() to find the top-3 products in each category."
   ]
  },
  {
   "cell_type": "code",
   "execution_count": 28,
   "id": "68180d4e",
   "metadata": {},
   "outputs": [
    {
     "name": "stdout",
     "output_type": "stream",
     "text": [
      "      category        name  total_revenue  rnk\n",
      "0  Accessories  Headphones          450.0    1\n",
      "1  Accessories    Keyboard          135.0    2\n",
      "2  Electronics      Laptop         2400.0    1\n",
      "3  Electronics       Phone         1600.0    2\n",
      "4  Electronics      Tablet         1000.0    3\n",
      "5      Fashion       Shoes          180.0    1\n",
      "6      Fashion    Backpack          140.0    2\n",
      "7    Furniture        Desk          400.0    1\n",
      "8    Furniture       Chair          240.0    2\n"
     ]
    }
   ],
   "source": [
    "import sqlite3\n",
    "import pandas as pd\n",
    "\n",
    "conn = sqlite3.connect(\"db/shop.db\")\n",
    "cursor = conn.cursor()\n",
    "\n",
    "cursor.execute(\"\"\"\n",
    "    CREATE INDEX IF NOT EXISTS idx_sales_product_id \n",
    "    ON sales(product_id);\n",
    "\"\"\")\n",
    "query = \"\"\"\n",
    "WITH product_revenue AS (\n",
    "    SELECT \n",
    "        p.category,\n",
    "        p.name,\n",
    "        SUM(s.revenue) AS total_revenue\n",
    "    FROM sales s\n",
    "    JOIN products p ON p.id = s.product_id\n",
    "    GROUP BY p.category, p.name\n",
    "),\n",
    "ranked AS (\n",
    "    SELECT \n",
    "        category,\n",
    "        name,\n",
    "        total_revenue,\n",
    "        RANK() OVER (\n",
    "            PARTITION BY category \n",
    "            ORDER BY total_revenue DESC\n",
    "        ) AS rnk\n",
    "    FROM product_revenue\n",
    ")\n",
    "SELECT *\n",
    "FROM ranked\n",
    "WHERE rnk <= 3;\n",
    "\"\"\"\n",
    "df = pd.read_sql(query, conn)\n",
    "print(df)\n",
    "\n",
    "conn.close()"
   ]
  },
  {
   "cell_type": "code",
   "execution_count": null,
   "id": "fad3f4be-6437-487d-b63b-8810347cb85b",
   "metadata": {},
   "outputs": [],
   "source": []
  }
 ],
 "metadata": {
  "kernelspec": {
   "display_name": "Python 3 (ipykernel)",
   "language": "python",
   "name": "python3"
  },
  "language_info": {
   "codemirror_mode": {
    "name": "ipython",
    "version": 3
   },
   "file_extension": ".py",
   "mimetype": "text/x-python",
   "name": "python",
   "nbconvert_exporter": "python",
   "pygments_lexer": "ipython3",
   "version": "3.13.7"
  }
 },
 "nbformat": 4,
 "nbformat_minor": 5
}
