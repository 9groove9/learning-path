{
 "cells": [
  {
   "cell_type": "markdown",
   "id": "d3e64d27",
   "metadata": {},
   "source": [
    "# SQL Practice: Library (Books & Borrowings)\n",
    "This notebook contains SQL + Python (SQLite + pandas) practice tasks.\n",
    "Follow the instructions in each task and write your code in the empty code cells.\n"
   ]
  },
  {
   "cell_type": "markdown",
   "id": "7d16bb15",
   "metadata": {},
   "source": [
    "## Beginner"
   ]
  },
  {
   "cell_type": "markdown",
   "id": "eabb25b1",
   "metadata": {},
   "source": [
    "# 📝 Task 1 — Create a SQLite database `library.db`\n",
    "### Instructions:\n",
    "1. Create a new SQLite database called **`library.db`**.  \n",
    "2. Create a table `books (id, title, author, price)`.  \n",
    "3. Insert at least 5 books.  \n",
    "4. Select all rows to verify data."
   ]
  },
  {
   "cell_type": "code",
   "execution_count": 1,
   "id": "98371eec",
   "metadata": {},
   "outputs": [
    {
     "name": "stdout",
     "output_type": "stream",
     "text": [
      "   id                   title               author  price\n",
      "0   1                    1984        George Orwell   9.99\n",
      "1   2         Brave New World        Aldous Huxley  12.50\n",
      "2   3          Fahrenheit 451         Ray Bradbury   8.75\n",
      "3   4   To Kill a Mockingbird           Harper Lee  10.20\n",
      "4   5        The Great Gatsby  F. Scott Fitzgerald   7.80\n",
      "5   6               Moby Dick      Herman Melville  11.00\n",
      "6   7     Pride and Prejudice          Jane Austen   6.50\n",
      "7   8  The Catcher in the Rye        J.D. Salinger   9.40\n",
      "8   9             Animal Farm        George Orwell   5.99\n",
      "9  10              The Hobbit       J.R.R. Tolkien  14.30\n"
     ]
    }
   ],
   "source": [
    "import sqlite3\n",
    "import pandas as pd\n",
    "\n",
    "books_data = [\n",
    "    (1, \"1984\", \"George Orwell\", 9.99),\n",
    "    (2, \"Brave New World\", \"Aldous Huxley\", 12.50),\n",
    "    (3, \"Fahrenheit 451\", \"Ray Bradbury\", 8.75),\n",
    "    (4, \"To Kill a Mockingbird\", \"Harper Lee\", 10.20),\n",
    "    (5, \"The Great Gatsby\", \"F. Scott Fitzgerald\", 7.80),\n",
    "    (6, \"Moby Dick\", \"Herman Melville\", 11.00),\n",
    "    (7, \"Pride and Prejudice\", \"Jane Austen\", 6.50),\n",
    "    (8, \"The Catcher in the Rye\", \"J.D. Salinger\", 9.40),\n",
    "    (9, \"Animal Farm\", \"George Orwell\", 5.99),\n",
    "    (10, \"The Hobbit\", \"J.R.R. Tolkien\", 14.30)\n",
    "]\n",
    "\n",
    "conn = sqlite3.connect('db/library.db')\n",
    "cursor = conn.cursor()\n",
    "\n",
    "cursor.execute(\"\"\"\n",
    "    CREATE TABLE IF NOT EXISTS books\n",
    "    (\n",
    "        id INTEGER PRIMARY KEY,\n",
    "        title TEXT,\n",
    "        author TEXT,\n",
    "        price REAL\n",
    "    )\n",
    "\"\"\")\n",
    "cursor.executemany(\n",
    "    \"INSERT OR IGNORE INTO books VALUES (?, ?, ?, ?);\",\n",
    "    books_data\n",
    ")\n",
    "conn.commit()\n",
    "\n",
    "df = pd.read_sql(\"SELECT * FROM books\", conn)\n",
    "print(df)\n",
    "\n",
    "conn.close()"
   ]
  },
  {
   "cell_type": "markdown",
   "id": "a5af5fe0",
   "metadata": {},
   "source": [
    "# 📝 Task 2 — Load data into pandas\n",
    "### Instructions:\n",
    "1. Write a query `SELECT * FROM books`.  \n",
    "2. Load it into a pandas DataFrame.  \n",
    "3. Print the DataFrame."
   ]
  },
  {
   "cell_type": "code",
   "execution_count": 3,
   "id": "9e67ffab",
   "metadata": {},
   "outputs": [
    {
     "name": "stdout",
     "output_type": "stream",
     "text": [
      "   id                   title               author  price\n",
      "0   1                    1984        George Orwell   9.99\n",
      "1   2         Brave New World        Aldous Huxley  12.50\n",
      "2   3          Fahrenheit 451         Ray Bradbury   8.75\n",
      "3   4   To Kill a Mockingbird           Harper Lee  10.20\n",
      "4   5        The Great Gatsby  F. Scott Fitzgerald   7.80\n",
      "5   6               Moby Dick      Herman Melville  11.00\n",
      "6   7     Pride and Prejudice          Jane Austen   6.50\n",
      "7   8  The Catcher in the Rye        J.D. Salinger   9.40\n",
      "8   9             Animal Farm        George Orwell   5.99\n",
      "9  10              The Hobbit       J.R.R. Tolkien  14.30\n"
     ]
    }
   ],
   "source": [
    "import sqlite3\n",
    "import pandas as pd\n",
    "\n",
    "conn = sqlite3.connect('db/library.db')\n",
    "\n",
    "df = pd.read_sql(\"SELECT * FROM books\", conn)\n",
    "print(df)\n",
    "\n",
    "conn.close()"
   ]
  },
  {
   "cell_type": "markdown",
   "id": "5cf51ecd",
   "metadata": {},
   "source": [
    "## Intermediate"
   ]
  },
  {
   "cell_type": "markdown",
   "id": "0e3f5b07",
   "metadata": {},
   "source": [
    "# 📝 Task 3 — Create borrowings table\n",
    "### Instructions:\n",
    "1. Create a table `borrowings (id, book_id, borrow_date)`.  \n",
    "2. Insert demo records.  \n",
    "3. JOIN `books` and `borrowings` to show `title` and `borrow_date`.  \n",
    "4. Load into pandas."
   ]
  },
  {
   "cell_type": "code",
   "execution_count": 18,
   "id": "ba09f984",
   "metadata": {},
   "outputs": [
    {
     "name": "stdout",
     "output_type": "stream",
     "text": [
      "                     title borrow_date\n",
      "0                     1984  2025-01-10\n",
      "1                     1984  2025-01-15\n",
      "2                     1984  2025-02-01\n",
      "3              Animal Farm  2025-02-05\n",
      "4              Animal Farm  2025-02-12\n",
      "5          Brave New World  2025-02-20\n",
      "6          Brave New World  2025-02-28\n",
      "7           Fahrenheit 451  2025-03-01\n",
      "8           Fahrenheit 451  2025-03-10\n",
      "9           Fahrenheit 451  2025-03-20\n",
      "10   To Kill a Mockingbird  2025-03-12\n",
      "11   To Kill a Mockingbird  2025-03-15\n",
      "12        The Great Gatsby  2025-03-18\n",
      "13               Moby Dick  2025-03-22\n",
      "14               Moby Dick  2025-03-25\n",
      "15     Pride and Prejudice  2025-03-28\n",
      "16     Pride and Prejudice  2025-03-30\n",
      "17     Pride and Prejudice  2025-04-01\n",
      "18  The Catcher in the Rye  2025-04-02\n",
      "19  The Catcher in the Rye  2025-04-05\n",
      "20              The Hobbit  2025-04-08\n",
      "21              The Hobbit  2025-04-12\n",
      "22              The Hobbit  2025-04-15\n",
      "23              The Hobbit  2025-04-18\n"
     ]
    }
   ],
   "source": [
    "import sqlite3\n",
    "import pandas as pd\n",
    "\n",
    "borrowings_data = [\n",
    "    # George Orwell\n",
    "    (1, 1, \"2025-01-10\"),  # 1984\n",
    "    (2, 1, \"2025-01-15\"),\n",
    "    (3, 1, \"2025-02-01\"),\n",
    "    (4, 9, \"2025-02-05\"),  # Animal Farm\n",
    "    (5, 9, \"2025-02-12\"),\n",
    "\n",
    "    # Aldous Huxley\n",
    "    (6, 2, \"2025-02-20\"),  # Brave New World\n",
    "    (7, 2, \"2025-02-28\"),\n",
    "\n",
    "    # Ray Bradbury\n",
    "    (8, 3, \"2025-03-01\"),  # Fahrenheit 451\n",
    "    (9, 3, \"2025-03-10\"),\n",
    "    (10, 3, \"2025-03-20\"),\n",
    "\n",
    "    # Harper Lee\n",
    "    (11, 4, \"2025-03-12\"),  # To Kill a Mockingbird\n",
    "    (12, 4, \"2025-03-15\"),\n",
    "\n",
    "    # F. Scott Fitzgerald\n",
    "    (13, 5, \"2025-03-18\"),  # The Great Gatsby\n",
    "\n",
    "    # Herman Melville\n",
    "    (14, 6, \"2025-03-22\"),  # Moby Dick\n",
    "    (15, 6, \"2025-03-25\"),\n",
    "\n",
    "    # Jane Austen\n",
    "    (16, 7, \"2025-03-28\"),  # Pride and Prejudice\n",
    "    (17, 7, \"2025-03-30\"),\n",
    "    (18, 7, \"2025-04-01\"),\n",
    "\n",
    "    # J.D. Salinger\n",
    "    (19, 8, \"2025-04-02\"),  # The Catcher in the Rye\n",
    "    (20, 8, \"2025-04-05\"),\n",
    "\n",
    "    # J.R.R. Tolkien\n",
    "    (21, 10, \"2025-04-08\"), # The Hobbit\n",
    "    (22, 10, \"2025-04-12\"),\n",
    "    (23, 10, \"2025-04-15\"),\n",
    "    (24, 10, \"2025-04-18\")\n",
    "]\n",
    "\n",
    "\n",
    "conn = sqlite3.connect('db/library.db')\n",
    "cursor = conn.cursor()\n",
    "\n",
    "cursor.execute(\"\"\"\n",
    "    CREATE TABLE IF NOT EXISTS borrowings\n",
    "    (\n",
    "        id INTEGER PRIMARY KEY,\n",
    "        book_id INTEGER,\n",
    "        borrow_date TEXT,\n",
    "        CONSTRAINT fk_book_id FOREIGN KEY (book_id)\n",
    "        REFERENCES books(id)\n",
    "    )\n",
    "\"\"\")\n",
    "cursor.executemany(\n",
    "    \"INSERT OR REPLACE INTO borrowings VALUES (?, ?, ?);\",\n",
    "    borrowings_data\n",
    ")\n",
    "conn.commit()\n",
    "\n",
    "query = \"\"\"\n",
    "    SELECT boo.title, b.borrow_date\n",
    "    FROM borrowings b\n",
    "    INNER JOIN books boo ON b.book_id = boo.id \n",
    "\"\"\"\n",
    "df = pd.read_sql(query, conn)\n",
    "print(df)\n",
    "conn.close()"
   ]
  },
  {
   "cell_type": "markdown",
   "id": "e0f7f84f",
   "metadata": {},
   "source": [
    "# 📝 Task 4 — Borrowings per author\n",
    "### Instructions:\n",
    "1. Use GROUP BY to count borrowings per author.  \n",
    "2. Show only authors with > 3 borrowings."
   ]
  },
  {
   "cell_type": "code",
   "execution_count": 19,
   "id": "e532f94c",
   "metadata": {},
   "outputs": [
    {
     "name": "stdout",
     "output_type": "stream",
     "text": [
      "           author  borrowed_books\n",
      "0   George Orwell               5\n",
      "1  J.R.R. Tolkien               4\n"
     ]
    }
   ],
   "source": [
    "import sqlite3\n",
    "import pandas as pd\n",
    "\n",
    "conn = sqlite3.connect('db/library.db')\n",
    "\n",
    "query = \"\"\"\n",
    "    SELECT boo.author, COUNT(boo.author) AS borrowed_books\n",
    "    FROM books boo\n",
    "    INNER JOIN borrowings b ON b.book_id = boo.id\n",
    "    GROUP BY boo.author \n",
    "    HAVING borrowed_books > 3\n",
    "    ORDER BY borrowed_books DESC\n",
    "\"\"\"\n",
    "\n",
    "df = pd.read_sql(query, conn)\n",
    "print(df)\n",
    "conn.close()"
   ]
  },
  {
   "cell_type": "markdown",
   "id": "59e98af7",
   "metadata": {},
   "source": [
    "## Advanced"
   ]
  },
  {
   "cell_type": "markdown",
   "id": "f98a6159",
   "metadata": {},
   "source": [
    "# 📝 Task 5 — CTE for book popularity\n",
    "### Instructions:\n",
    "1. Create a CTE to calculate borrowings per book.  \n",
    "2. Select only books with more than 2 borrowings."
   ]
  },
  {
   "cell_type": "code",
   "execution_count": 20,
   "id": "329dddb1",
   "metadata": {},
   "outputs": [
    {
     "name": "stdout",
     "output_type": "stream",
     "text": [
      "                 title  book_borrowed\n",
      "0                 1984              3\n",
      "1       Fahrenheit 451              3\n",
      "2  Pride and Prejudice              3\n",
      "3           The Hobbit              4\n"
     ]
    }
   ],
   "source": [
    "import sqlite3\n",
    "import pandas as pd\n",
    "\n",
    "conn = sqlite3.connect('db/library.db')\n",
    "\n",
    "query = \"\"\"\n",
    "    WITH borrowings_per_book AS\n",
    "    (\n",
    "        SELECT boo.title, COUNT(boo.title) AS book_borrowed\n",
    "        FROM books boo\n",
    "        INNER JOIN borrowings b ON b.book_id = boo.id\n",
    "        GROUP BY boo.title\n",
    "    )\n",
    "    SELECT * FROM borrowings_per_book WHERE book_borrowed > 2\n",
    "\"\"\"\n",
    "df = pd.read_sql(query, conn)\n",
    "print(df)\n",
    "conn.close()"
   ]
  },
  {
   "cell_type": "markdown",
   "id": "a3a772cf",
   "metadata": {},
   "source": [
    "# 📝 Task 6 — Subquery above average\n",
    "### Instructions:\n",
    "1. Use a subquery to find books with borrowings above the average."
   ]
  },
  {
   "cell_type": "code",
   "execution_count": 21,
   "id": "c9f35d67",
   "metadata": {},
   "outputs": [
    {
     "name": "stdout",
     "output_type": "stream",
     "text": [
      "           author                title  books_borrowed\n",
      "0   George Orwell                 1984               3\n",
      "1    Ray Bradbury       Fahrenheit 451               3\n",
      "2     Jane Austen  Pride and Prejudice               3\n",
      "3  J.R.R. Tolkien           The Hobbit               4\n"
     ]
    }
   ],
   "source": [
    "import sqlite3\n",
    "import pandas as pd\n",
    "\n",
    "conn = sqlite3.connect('db/library.db')\n",
    "\n",
    "query = \"\"\"\n",
    "    WITH books_avg AS\n",
    "    (\n",
    "        SELECT boo.author, boo.title, COUNT(boo.title) as books_borrowed\n",
    "        FROM books boo\n",
    "        INNER JOIN borrowings b ON b.book_id = boo.id\n",
    "        GROUP BY boo.title\n",
    "    )\n",
    "    SELECT * FROM books_avg \n",
    "    WHERE books_borrowed > (SELECT AVG(books_borrowed) FROM books_avg)\n",
    "\"\"\"\n",
    "df = pd.read_sql(query, conn)\n",
    "print(df)\n",
    "conn.close()"
   ]
  },
  {
   "cell_type": "markdown",
   "id": "f1865ced",
   "metadata": {},
   "source": [
    "# 📝 Task 7 — Index and RANK\n",
    "### Instructions:\n",
    "1. Create an index on `book_id` in `borrowings`.  \n",
    "2. Use RANK() to find the top-3 books per author."
   ]
  },
  {
   "cell_type": "code",
   "execution_count": 27,
   "id": "39a47b2c",
   "metadata": {},
   "outputs": [
    {
     "name": "stdout",
     "output_type": "stream",
     "text": [
      "                author                   title  books_borrowed  rnk\n",
      "0        Aldous Huxley         Brave New World               2    1\n",
      "1  F. Scott Fitzgerald        The Great Gatsby               1    1\n",
      "2        George Orwell                    1984               3    1\n",
      "3        George Orwell             Animal Farm               2    2\n",
      "4           Harper Lee   To Kill a Mockingbird               2    1\n",
      "5      Herman Melville               Moby Dick               2    1\n",
      "6        J.D. Salinger  The Catcher in the Rye               2    1\n",
      "7       J.R.R. Tolkien              The Hobbit               4    1\n",
      "8          Jane Austen     Pride and Prejudice               3    1\n",
      "9         Ray Bradbury          Fahrenheit 451               3    1\n"
     ]
    }
   ],
   "source": [
    "import sqlite3\n",
    "import pandas as pd\n",
    "\n",
    "conn = sqlite3.connect('db/library.db')\n",
    "cursor = conn.cursor()\n",
    "cursor.execute(\n",
    "    \"CREATE INDEX IF NOT EXISTS idx_books_id ON borrowings(book_id)\"\n",
    ")\n",
    "query = \"\"\"\n",
    "    WITH books_per_author AS\n",
    "    (\n",
    "        SELECT boo.author, boo.title, COUNT(boo.title) AS books_borrowed\n",
    "        FROM books boo\n",
    "        INNER JOIN borrowings b ON b.book_id = boo.id\n",
    "        GROUP BY boo.author, boo.title\n",
    "    ),\n",
    "    ranked AS\n",
    "    (\n",
    "        SELECT author, title, books_borrowed,\n",
    "        RANK() OVER\n",
    "        (\n",
    "            PARTITION BY author ORDER BY books_borrowed DESC\n",
    "        ) \n",
    "        AS rnk FROM books_per_author\n",
    "    )\n",
    "    SELECT * FROM ranked;\n",
    "\"\"\"\n",
    "df = pd.read_sql(query, conn)\n",
    "print(df)\n",
    "conn.close()"
   ]
  },
  {
   "cell_type": "code",
   "execution_count": null,
   "id": "7864af24-40e9-4384-962d-1661a378e821",
   "metadata": {},
   "outputs": [],
   "source": []
  }
 ],
 "metadata": {
  "kernelspec": {
   "display_name": "Python 3 (ipykernel)",
   "language": "python",
   "name": "python3"
  },
  "language_info": {
   "codemirror_mode": {
    "name": "ipython",
    "version": 3
   },
   "file_extension": ".py",
   "mimetype": "text/x-python",
   "name": "python",
   "nbconvert_exporter": "python",
   "pygments_lexer": "ipython3",
   "version": "3.13.7"
  }
 },
 "nbformat": 4,
 "nbformat_minor": 5
}
