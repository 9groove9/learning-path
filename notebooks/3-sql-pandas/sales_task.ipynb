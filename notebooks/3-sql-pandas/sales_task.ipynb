{
 "cells": [
  {
   "cell_type": "markdown",
   "id": "59d6192e",
   "metadata": {},
   "source": [
    "# 📝 Task 3 — Sales14 Analysis\n",
    "\n",
    "Instructions:\n",
    "- Create a SQLite database `sales14.db` (tables: sales, products, regions).\n",
    "- Write SQL queries:\n",
    "  1. All sales with revenue > 50.\n",
    "  2. Total revenue per product.\n",
    "  3. Total revenue by categories (JOIN with products).\n",
    "  4. Revenue by dates and regions.\n",
    "- Use `pd.read_sql` for queries.\n",
    "- Pandas analysis: find top-3 products by revenue."
   ]
  },
  {
   "cell_type": "code",
   "execution_count": 51,
   "id": "4d8c35ac",
   "metadata": {},
   "outputs": [
    {
     "name": "stdout",
     "output_type": "stream",
     "text": [
      "  product_name  total_revenue\n",
      "0       Laptop          205.0\n",
      "1        Phone           90.0\n",
      "3       Tablet           75.0\n"
     ]
    }
   ],
   "source": [
    "import sqlite3\n",
    "import pandas as pd\n",
    "\n",
    "conn = sqlite3.connect('db/sales.db')\n",
    "sales_over50 = \"SELECT * FROM sales WHERE revenue > 50\"\n",
    "total_product_revenue = \"\"\"\n",
    "    SELECT p.product_name, SUM(s.revenue) AS total_revenue\n",
    "    FROM sales s\n",
    "    INNER JOIN products p ON s.product_id = p.product_id\n",
    "    GROUP BY p.product_id\n",
    "\"\"\"\n",
    "total_category_revenue = \"\"\"\n",
    "    SELECT p.category, SUM(s.revenue) AS total_revenue\n",
    "    FROM sales s\n",
    "    INNER JOIN products p ON s.product_id = p.product_id\n",
    "    GROUP BY p.category\n",
    "\"\"\"\n",
    "dateregions_revenue = \"\"\"\n",
    "    SELECT r.date, r.region, SUM(s.revenue) AS total_revenue\n",
    "    FROM sales s\n",
    "    INNER JOIN regions r ON s.date = r.date\n",
    "    GROUP BY r.date, r.region\n",
    "\"\"\"\n",
    "df = pd.read_sql(total_product_revenue, conn)\n",
    "print(df.nlargest(3, 'total_revenue'))\n",
    "conn.close()"
   ]
  },
  {
   "cell_type": "code",
   "execution_count": null,
   "id": "2bbfa9be-5558-497e-bb93-ad8bbf2693d5",
   "metadata": {},
   "outputs": [],
   "source": []
  }
 ],
 "metadata": {
  "kernelspec": {
   "display_name": "Python 3 (ipykernel)",
   "language": "python",
   "name": "python3"
  },
  "language_info": {
   "codemirror_mode": {
    "name": "ipython",
    "version": 3
   },
   "file_extension": ".py",
   "mimetype": "text/x-python",
   "name": "python",
   "nbconvert_exporter": "python",
   "pygments_lexer": "ipython3",
   "version": "3.13.7"
  }
 },
 "nbformat": 4,
 "nbformat_minor": 5
}
