{
 "cells": [
  {
   "cell_type": "markdown",
   "id": "633dd5d8",
   "metadata": {},
   "source": [
    "# 📝 Task 15 — SQL Reporting\n",
    "\n",
    "Instructions:\n",
    "- Write SQL queries:\n",
    "  1. Categories with total revenue > 120 (using HAVING).\n",
    "  2. Products with revenue above average (using subquery).\n",
    "  3. Region with the highest revenue (GROUP BY + Pandas .nlargest).\n",
    "- Save result to `sql_report15.csv`.\n",
    "- (Optional) Combine results of several SQL queries using `pd.concat`.\n"
   ]
  },
  {
   "cell_type": "code",
   "execution_count": 28,
   "id": "0867cf3a",
   "metadata": {},
   "outputs": [
    {
     "name": "stdout",
     "output_type": "stream",
     "text": [
      "         date  product_id  revenue\n",
      "0  2025-09-01         101     50.0\n",
      "1  2025-09-01         102     30.0\n",
      "2  2025-09-02         101     90.0\n",
      "3  2025-09-02         103     40.0\n",
      "4  2025-09-03         102     60.0\n",
      "5  2025-09-03         104     75.0\n",
      "6  2025-09-04         105     20.0\n",
      "7  2025-09-04         101     65.0\n",
      "   product_id product_name     category\n",
      "0         101       Laptop  Electronics\n",
      "1         102        Phone  Electronics\n",
      "2         103     Backpack      Fashion\n",
      "3         104       Tablet  Electronics\n",
      "4         105   Headphones  Accessories\n",
      "         date region\n",
      "0  2025-09-01  North\n",
      "1  2025-09-01   East\n",
      "2  2025-09-02   West\n",
      "3  2025-09-02  North\n",
      "4  2025-09-03  South\n",
      "5  2025-09-03   East\n",
      "6  2025-09-04   West\n",
      "7  2025-09-04  South\n"
     ]
    }
   ],
   "source": [
    "import sqlite3\n",
    "import pandas as pd\n",
    "\n",
    "conn = sqlite3.connect('db/sales.db')\n",
    "print(pd.read_sql(\"SELECT * FROM sales\", conn))\n",
    "print(pd.read_sql(\"SELECT * FROM products\", conn))\n",
    "print(pd.read_sql(\"SELECT * FROM regions\", conn))\n",
    "cat_with_tot_rev_over120 = \"\"\"\n",
    "    SELECT p.category, SUM(s.revenue) AS total_revenue\n",
    "    FROM products p\n",
    "    INNER JOIN sales s ON s.product_id = p.product_id\n",
    "    GROUP BY p.category\n",
    "    HAVING total_revenue > 120\n",
    "\"\"\"\n",
    "products_lessthen_avg = \"\"\"\n",
    "    SELECT p.product_name, s.revenue\n",
    "    FROM products p\n",
    "    INNER JOIN sales s ON p.product_id = s.product_id\n",
    "    WHERE s.revenue > (SELECT AVG(revenue) FROM sales)\n",
    "\"\"\"\n",
    "regions_revenue = \"\"\"\n",
    "   SELECT r.region, SUM(s.revenue) total_revenue\n",
    "   FROM sales s\n",
    "   INNER JOIN regions r ON r.date = s.date\n",
    "   GROUP BY r.region\n",
    "\"\"\"\n",
    "df1 = pd.read_sql(cat_with_tot_rev_over120, conn)\n",
    "df2 = pd.read_sql(products_lessthen_avg, conn)\n",
    "df3 = pd.read_sql(regions_revenue, conn)\n",
    "df3 = df3.nlargest(1, 'total_revenue')\n",
    "df1['source'] = 'categories'\n",
    "df2['source'] = 'products'\n",
    "df3['source'] = 'regions'\n",
    "report = pd.concat([df1, df2, df3], ignore_index=True).fillna(\"N/A\")\n",
    "report.to_csv('csv/sales_report.csv', index=False)\n",
    "conn.close()"
   ]
  },
  {
   "cell_type": "code",
   "execution_count": null,
   "id": "ade360de-71b2-41ff-a5ca-0d8d493ba383",
   "metadata": {},
   "outputs": [],
   "source": []
  }
 ],
 "metadata": {
  "kernelspec": {
   "display_name": "Python 3 (ipykernel)",
   "language": "python",
   "name": "python3"
  },
  "language_info": {
   "codemirror_mode": {
    "name": "ipython",
    "version": 3
   },
   "file_extension": ".py",
   "mimetype": "text/x-python",
   "name": "python",
   "nbconvert_exporter": "python",
   "pygments_lexer": "ipython3",
   "version": "3.13.7"
  }
 },
 "nbformat": 4,
 "nbformat_minor": 5
}
