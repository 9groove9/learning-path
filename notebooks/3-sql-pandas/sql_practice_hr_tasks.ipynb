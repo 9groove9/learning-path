{
 "cells": [
  {
   "cell_type": "markdown",
   "id": "2a2de60f",
   "metadata": {},
   "source": [
    "# SQL Practice: HR System (Employees & Salaries)\n",
    "This notebook contains SQL + Python (SQLite + pandas) practice tasks.\n",
    "Follow the instructions in each task and write your code in the empty code cells.\n"
   ]
  },
  {
   "cell_type": "markdown",
   "id": "183f20e9",
   "metadata": {},
   "source": [
    "## Beginner"
   ]
  },
  {
   "cell_type": "markdown",
   "id": "42f0b8b4",
   "metadata": {},
   "source": [
    "# 📝 Task 1 — Create a SQLite database `hr.db`\n",
    "### Instructions:\n",
    "1. Create a new SQLite database called **`hr.db`**.  \n",
    "2. Create a table `employees (id, name, department, base_salary)`.  \n",
    "3. Insert at least 5 employees.  \n",
    "4. Select all rows to verify data."
   ]
  },
  {
   "cell_type": "code",
   "execution_count": 13,
   "id": "d2dae18d",
   "metadata": {},
   "outputs": [
    {
     "name": "stdout",
     "output_type": "stream",
     "text": [
      "   id     name department  base_salary\n",
      "0   1    Alice         HR       4000.0\n",
      "1   2      Bob         HR       4200.0\n",
      "2   3  Charlie         IT       5500.0\n",
      "3   4    Diana         IT       6000.0\n",
      "4   5    Ethan         IT       5800.0\n",
      "5   6    Fiona    Finance       5000.0\n",
      "6   7   George    Finance       5200.0\n",
      "7   8   Hannah  Marketing       4500.0\n",
      "8   9     Ivan  Marketing       4700.0\n",
      "9  10    Julia      Sales       4800.0\n"
     ]
    }
   ],
   "source": [
    "import sqlite3\n",
    "import pandas as pd\n",
    "\n",
    "employees_data = [\n",
    "    (1, \"Alice\",   \"HR\",          4000),\n",
    "    (2, \"Bob\",     \"HR\",          4200),\n",
    "    (3, \"Charlie\", \"IT\",          5500),\n",
    "    (4, \"Diana\",   \"IT\",          6000),\n",
    "    (5, \"Ethan\",   \"IT\",          5800),\n",
    "    (6, \"Fiona\",   \"Finance\",     5000),\n",
    "    (7, \"George\",  \"Finance\",     5200),\n",
    "    (8, \"Hannah\",  \"Marketing\",   4500),\n",
    "    (9, \"Ivan\",    \"Marketing\",   4700),\n",
    "    (10, \"Julia\",  \"Sales\",       4800),\n",
    "]\n",
    "\n",
    "\n",
    "conn = sqlite3.connect('db/hr.db')\n",
    "cursor = conn.cursor()\n",
    "\n",
    "cursor.execute(\"\"\"\n",
    "    CREATE TABLE IF NOT EXISTS employees\n",
    "    (\n",
    "        id INTEGER PRIMARY KEY,\n",
    "        name TEXT,\n",
    "        department TEXT,\n",
    "        base_salary REAL\n",
    "    );\n",
    "    \n",
    "\"\"\")\n",
    "cursor.executemany(\n",
    "    \"INSERT OR IGNORE INTO employees VALUES (?, ?, ?, ?);\",\n",
    "    employees_data\n",
    ")\n",
    "conn.commit()\n",
    "print(pd.read_sql(\"SELECT * FROM employees\",conn))\n",
    "\n",
    "conn.close()"
   ]
  },
  {
   "cell_type": "markdown",
   "id": "7a05e4cf",
   "metadata": {},
   "source": [
    "# 📝 Task 2 — Load data into pandas\n",
    "### Instructions:\n",
    "1. Write a query `SELECT * FROM employees`.  \n",
    "2. Load it into a pandas DataFrame.  \n",
    "3. Print the DataFrame."
   ]
  },
  {
   "cell_type": "code",
   "execution_count": 14,
   "id": "8948c495",
   "metadata": {},
   "outputs": [
    {
     "name": "stdout",
     "output_type": "stream",
     "text": [
      "   id     name department  base_salary\n",
      "0   1    Alice         HR       4000.0\n",
      "1   2      Bob         HR       4200.0\n",
      "2   3  Charlie         IT       5500.0\n",
      "3   4    Diana         IT       6000.0\n",
      "4   5    Ethan         IT       5800.0\n",
      "5   6    Fiona    Finance       5000.0\n",
      "6   7   George    Finance       5200.0\n",
      "7   8   Hannah  Marketing       4500.0\n",
      "8   9     Ivan  Marketing       4700.0\n",
      "9  10    Julia      Sales       4800.0\n"
     ]
    }
   ],
   "source": [
    "import sqlite3\n",
    "import pandas as pd\n",
    "\n",
    "conn = sqlite3.connect('db/hr.db')\n",
    "print(pd.read_sql(\"SELECT * FROM employees;\", conn))\n",
    "conn.close()"
   ]
  },
  {
   "cell_type": "markdown",
   "id": "3049fcf5",
   "metadata": {},
   "source": [
    "## Intermediate"
   ]
  },
  {
   "cell_type": "markdown",
   "id": "d4538d09",
   "metadata": {},
   "source": [
    "# 📝 Task 3 — Create salaries table\n",
    "### Instructions:\n",
    "1. Create a table `salaries (id, employee_id, bonus, date)`.  \n",
    "2. Insert demo salary records.  \n",
    "3. JOIN `employees` and `salaries` to show `name` and total salary.  \n",
    "4. Load into pandas."
   ]
  },
  {
   "cell_type": "code",
   "execution_count": 16,
   "id": "7be9055a",
   "metadata": {},
   "outputs": [
    {
     "name": "stdout",
     "output_type": "stream",
     "text": [
      "      name  total_salary\n",
      "0    Alice        4500.0\n",
      "1      Bob        4800.0\n",
      "2  Charlie        6300.0\n",
      "3    Diana        7000.0\n",
      "4    Fiona        5700.0\n",
      "5   Hannah        5050.0\n",
      "6    Julia        5450.0\n"
     ]
    }
   ],
   "source": [
    "import sqlite3\n",
    "import pandas as pd\n",
    "\n",
    "salary_data = [\n",
    "    (1, 1, 500.0, \"2025-01-15\"),   # Alice (HR)\n",
    "    (2, 2, 600.0, \"2025-01-15\"),   # Bob (HR)\n",
    "    (3, 3, 800.0, \"2025-02-01\"),   # Charlie (IT)\n",
    "    (4, 4, 1000.0, \"2025-02-01\"),  # Diana (IT)\n",
    "    (5, 6, 700.0, \"2025-03-01\"),   # Fiona (Finance)\n",
    "    (6, 8, 550.0, \"2025-03-15\"),   # Hannah (Marketing)\n",
    "    (7, 10, 650.0, \"2025-03-20\"),  # Julia (Sales)\n",
    "]\n",
    "\n",
    "conn = sqlite3.connect('db/hr.db')\n",
    "cursor = conn.cursor()\n",
    "\n",
    "cursor.execute(\"\"\"\n",
    "    CREATE TABLE IF NOT EXISTS salaries \n",
    "    (\n",
    "        id INTEGER PRIMARY KEY,\n",
    "        employee_id INTEGER,\n",
    "        bonus REAL,\n",
    "        date TEXT,\n",
    "        CONSTRAINT fk_employee FOREIGN KEY(employee_id)\n",
    "        REFERENCES employees(id)\n",
    "    );    \n",
    "\"\"\")\n",
    "cursor.executemany(\n",
    "    \"INSERT OR IGNORE INTO salaries VALUES (?, ?, ?, ?);\",\n",
    "    salary_data\n",
    ")\n",
    "conn.commit()\n",
    "query = \"\"\"\n",
    "    SELECT e.name, e.base_salary+s.bonus AS total_salary\n",
    "    FROM salaries s\n",
    "    INNER JOIN employees e ON s.employee_id = e.id\n",
    "\"\"\"\n",
    "df = pd.read_sql(query, conn)\n",
    "print(df)\n",
    "conn.close()"
   ]
  },
  {
   "cell_type": "markdown",
   "id": "a769fd45",
   "metadata": {},
   "source": [
    "# 📝 Task 4 — Average salary by department\n",
    "### Instructions:\n",
    "1. Use GROUP BY to calculate average salary per department.  \n",
    "2. Show only departments with average salary > 5000."
   ]
  },
  {
   "cell_type": "code",
   "execution_count": 20,
   "id": "0a69adec",
   "metadata": {},
   "outputs": [
    {
     "name": "stdout",
     "output_type": "stream",
     "text": [
      "  department   avg_salary\n",
      "0    Finance  5100.000000\n",
      "1         IT  5766.666667\n"
     ]
    }
   ],
   "source": [
    "import sqlite3\n",
    "import pandas as pd\n",
    "\n",
    "conn = sqlite3.connect('db/hr.db')\n",
    "\n",
    "query = \"\"\"\n",
    "    SELECT department, AVG(base_salary) AS avg_salary\n",
    "    FROM employees\n",
    "    GROUP BY department \n",
    "    HAVING AVG(base_salary) > 5000\n",
    "\"\"\"\n",
    "df = pd.read_sql(query, conn)\n",
    "print(df)\n",
    "conn.close()"
   ]
  },
  {
   "cell_type": "markdown",
   "id": "29035f6e",
   "metadata": {},
   "source": [
    "## Advanced"
   ]
  },
  {
   "cell_type": "markdown",
   "id": "c1fb4d4a",
   "metadata": {},
   "source": [
    "# 📝 Task 5 — CTE for department averages\n",
    "### Instructions:\n",
    "1. Create a CTE to calculate average salary per department.  \n",
    "2. Select only departments with average salary > 5000."
   ]
  },
  {
   "cell_type": "code",
   "execution_count": 22,
   "id": "1732498f",
   "metadata": {},
   "outputs": [
    {
     "name": "stdout",
     "output_type": "stream",
     "text": [
      "  department   avg_salary\n",
      "0    Finance  5100.000000\n",
      "1         IT  5766.666667\n"
     ]
    }
   ],
   "source": [
    "import sqlite3\n",
    "import pandas as pd\n",
    "\n",
    "conn = sqlite3.connect('db/hr.db')\n",
    "\n",
    "query = \"\"\"\n",
    "    WITH dept_avg AS (\n",
    "    SELECT department, AVG(base_salary) AS avg_salary\n",
    "    FROM employees\n",
    "    GROUP BY department \n",
    "    )\n",
    "    SELECT * FROM dept_avg WHERE avg_salary > 5000\n",
    "\"\"\"\n",
    "\n",
    "df = pd.read_sql(query, conn)\n",
    "print(df)\n",
    "conn.close()"
   ]
  },
  {
   "cell_type": "markdown",
   "id": "b043146a",
   "metadata": {},
   "source": [
    "# 📝 Task 6 — Subquery for above-average salaries\n",
    "### Instructions:\n",
    "1. Use a subquery to find employees with total salary above company average."
   ]
  },
  {
   "cell_type": "code",
   "execution_count": 24,
   "id": "cfbba3a1",
   "metadata": {},
   "outputs": [
    {
     "name": "stdout",
     "output_type": "stream",
     "text": [
      "      name  base_salary\n",
      "0  Charlie       5500.0\n",
      "1    Diana       6000.0\n",
      "2    Ethan       5800.0\n",
      "3    Fiona       5000.0\n",
      "4   George       5200.0\n"
     ]
    }
   ],
   "source": [
    "import sqlite3\n",
    "import pandas as pd\n",
    "\n",
    "conn = sqlite3.connect('db/hr.db')\n",
    "\n",
    "query = \"\"\"\n",
    "    SELECT name, base_salary\n",
    "    FROM employees\n",
    "    WHERE base_salary > \n",
    "    (\n",
    "        SELECT AVG(base_salary) FROM employees\n",
    "    )\n",
    "\"\"\"\n",
    "\n",
    "df = pd.read_sql(query, conn)\n",
    "print(df)\n",
    "\n",
    "conn.close()"
   ]
  },
  {
   "cell_type": "markdown",
   "id": "4f0a4b8e",
   "metadata": {},
   "source": [
    "# 📝 Task 7 — Index and RANK\n",
    "### Instructions:\n",
    "1. Create an index on `employee_id` in `salaries`.  \n",
    "2. Use RANK() to find the top-3 employees per department."
   ]
  },
  {
   "cell_type": "code",
   "execution_count": 25,
   "id": "de69f4f9",
   "metadata": {},
   "outputs": [
    {
     "name": "stdout",
     "output_type": "stream",
     "text": [
      "  department     name  base_salary  rnk\n",
      "0    Finance   George       5200.0    1\n",
      "1    Finance    Fiona       5000.0    2\n",
      "2         HR      Bob       4200.0    1\n",
      "3         HR    Alice       4000.0    2\n",
      "4         IT    Diana       6000.0    1\n",
      "5         IT    Ethan       5800.0    2\n",
      "6         IT  Charlie       5500.0    3\n",
      "7  Marketing     Ivan       4700.0    1\n",
      "8  Marketing   Hannah       4500.0    2\n",
      "9      Sales    Julia       4800.0    1\n"
     ]
    }
   ],
   "source": [
    "import sqlite3\n",
    "import pandas as pd\n",
    "\n",
    "conn = sqlite3.connect('db/hr.db')\n",
    "cursor = conn.cursor()\n",
    "cursor.execute(\"\"\"\n",
    "    CREATE INDEX IF NOT EXISTS idx_salaries_employee_id \n",
    "    ON salaries(employee_id)\n",
    "\"\"\")\n",
    "conn.commit()\n",
    "query = \"\"\"\n",
    "WITH ranked AS (\n",
    "    SELECT \n",
    "        department,\n",
    "        name,\n",
    "        base_salary,\n",
    "        RANK() OVER (\n",
    "            PARTITION BY department\n",
    "            ORDER BY base_salary DESC\n",
    "        ) AS rnk\n",
    "    FROM employees\n",
    ")\n",
    "SELECT department, name, base_salary, rnk\n",
    "FROM ranked\n",
    "WHERE rnk <= 3;\n",
    "\"\"\"\n",
    "df = pd.read_sql(query, conn)\n",
    "print(df)\n",
    "\n",
    "conn.close()"
   ]
  },
  {
   "cell_type": "code",
   "execution_count": null,
   "id": "3a6e991d-ace2-435b-b25d-7dd44244fdcd",
   "metadata": {},
   "outputs": [],
   "source": []
  }
 ],
 "metadata": {
  "kernelspec": {
   "display_name": "Python 3 (ipykernel)",
   "language": "python",
   "name": "python3"
  },
  "language_info": {
   "codemirror_mode": {
    "name": "ipython",
    "version": 3
   },
   "file_extension": ".py",
   "mimetype": "text/x-python",
   "name": "python",
   "nbconvert_exporter": "python",
   "pygments_lexer": "ipython3",
   "version": "3.13.7"
  }
 },
 "nbformat": 4,
 "nbformat_minor": 5
}
