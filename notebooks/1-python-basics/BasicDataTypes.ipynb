{
 "cells": [
  {
   "cell_type": "code",
   "execution_count": 46,
   "id": "c7a0ed72-4f59-484f-9bfa-62ccd1578acc",
   "metadata": {},
   "outputs": [
    {
     "name": "stdout",
     "output_type": "stream",
     "text": [
      "True 1 3.14 Bobby [1, 2, 3, 4, 5] (5, 4, 3) {10, 11, 14} {'k1': 'v1', 'k2': 'v2'}\n",
      "4 3 10 v2\n",
      "[1, 2, 3, 4, 5, 6, 7, [8, 9], 10, 11, 12] (5, 4, 3, 2) {16, 10, 11, 14, 15} {'k1': 'v1', 'k2': 'v2', 'k3': 'v3', 'k4': 'v4', 'k5': 'v5'}\n",
      "[] set() {}\n"
     ]
    }
   ],
   "source": [
    "\"\"\"basic data types\"\"\"\n",
    "b = True\n",
    "i = 1\n",
    "f = 3.14\n",
    "string = \"Data Science\"\n",
    "l = [1, 2, 3, 4, 5]\n",
    "t = (5, 4, 3)\n",
    "s = {14, 11, 10}\n",
    "d = {\"k1\":\"v1\", \"k2\":\"v2\"}\n",
    "print(b, i, f, string, l, t, s, d)\n",
    "\n",
    "\"\"\"list,tuple,set, dict, access by index/key, adding and deleting items\"\"\"\n",
    "print(l[3], t[-1], d[\"k2\"]) # access (sets is unordered no access by index)\n",
    "l += [6,7]                 \n",
    "l.append([8,9])                         # appends list [8, 9] to the end of list changes in-place return None\n",
    "l.extend([10, 11])                      # extends list so [...., 10, 11] changes in-place return None \n",
    "l.append(12)                            # appends item to list changes in-place return None\n",
    "new_t = t + (2,)                        # tuples are immutable so to add item create a new one\n",
    "s.add(15)                               # add item to set changes in-place return None\n",
    "s.update({15, 16})                      # add items to set sets can't have duplicates so 15 do not added changes in-place return None\n",
    "d[\"k3\"] = \"v3\"                          # add key/value pair to dict or change key value if key exists\n",
    "d.update({\"k4\": \"v4\", \"k5\":\"v5\"})       # updates dict with key\\value pairs changes in-place return None\n",
    "print(l, new_t, s, d)\n",
    "l.remove(7)                             # remove item or ValueError if not found return None\n",
    "item = l.pop()                          # remove last item or at specified index return that item\n",
    "del l[0]                                # delete item\n",
    "del l[1:3]                              # delete slice of items\n",
    "l.clear()                               # clear a list -> [] retun None\n",
    "                                        # tuples are immutable so you can't remove items from\n",
    "s.remove(16)                            # remove item from set or KeyError if not found return None\n",
    "set_item = s.pop()                      # remove random item from set return that item\n",
    "s.discard(11)                           # remove item from set no error if not found return None\n",
    "s.clear()                               # clear a set -> set() return None\n",
    "key_val = d.pop(\"k5\")                   # remove key/value pair if not found KeyError return value\n",
    "last_val = d.popitem()                  # remove last(Python3.7+)/random(Python<3.7)  key/value pair if dict is empty KeyError return tuple(key,value)\n",
    "del d[\"k3\"]                             # delete key/value pair\n",
    "d.clear()                              # clear a dict -> {} return None\n",
    "print(l,s,d)"
   ]
  },
  {
   "cell_type": "code",
   "execution_count": 47,
   "id": "bd3e55e3-82b9-4272-872e-20feef7a3046",
   "metadata": {},
   "outputs": [
    {
     "name": "stdout",
     "output_type": "stream",
     "text": [
      "D e 12\n"
     ]
    }
   ],
   "source": [
    "string = \"Data Science\"\n",
    "print(string[0], string[-1], len(string))"
   ]
  },
  {
   "cell_type": "code",
   "execution_count": 48,
   "id": "7bf256fb-bef7-456a-bed3-f6fe4c4227bd",
   "metadata": {},
   "outputs": [
    {
     "data": {
      "text/plain": [
       "6"
      ]
     },
     "execution_count": 48,
     "metadata": {},
     "output_type": "execute_result"
    }
   ],
   "source": [
    "def area(a, b):\n",
    "    return a*b\n",
    "def celsius_to_f(c):\n",
    "    return c*9/5+32\n",
    "def bmi(height: int, weight: int) -> float:\n",
    "    bmi = weight/((height/100)**2)\n",
    "    conclusion = \"Underweight\" if bmi < 18.5 else \"Normal\" if bmi <= 24.9 else \"Overweight\" if bmi <= 29.9 else \"Obesity\"\n",
    "    return f\"Your BMI is {bmi:.1f} and it is {conclusion}\"\n",
    "def string_analysis(s):\n",
    "    print(f\"Your string has {len(s)} in it and starts with {s[0]} and ends with {s[-1]}\")"
   ]
  },
  {
   "cell_type": "code",
   "execution_count": null,
   "id": "bff81223-b07a-48df-be54-60f4c2208d9c",
   "metadata": {},
   "outputs": [],
   "source": []
  }
 ],
 "metadata": {
  "kernelspec": {
   "display_name": "Python 3 (ipykernel)",
   "language": "python",
   "name": "python3"
  },
  "language_info": {
   "codemirror_mode": {
    "name": "ipython",
    "version": 3
   },
   "file_extension": ".py",
   "mimetype": "text/x-python",
   "name": "python",
   "nbconvert_exporter": "python",
   "pygments_lexer": "ipython3",
   "version": "3.13.7"
  }
 },
 "nbformat": 4,
 "nbformat_minor": 5
}
