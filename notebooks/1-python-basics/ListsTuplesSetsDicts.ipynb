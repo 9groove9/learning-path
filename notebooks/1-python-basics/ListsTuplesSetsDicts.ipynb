{
 "cells": [
  {
   "cell_type": "code",
   "execution_count": 33,
   "id": "0ad50d3f-435e-4134-95b1-6870b607cf1e",
   "metadata": {},
   "outputs": [
    {
     "name": "stdout",
     "output_type": "stream",
     "text": [
      "[1, 2, 3, 4, 6, 7, 8, 9, 11, 12, 13, 14, 16, 17, 18, 19, 21, 22, 23, 24]\n",
      "(1, 2, 3, 4, 5, 6)\n",
      "{1, 2, 3, 4, 5, 10}\n",
      "[33]\n"
     ]
    }
   ],
   "source": [
    "\"\"\" create a list extend it with nubmers and remove numbers that divisible by 5 \"\"\"\n",
    "lst = list(range(1, 21))\n",
    "lst.extend(range(21,26))\n",
    "lst = [i for i in lst if i % 5 != 0]\n",
    "print(lst)\n",
    "\n",
    "\"\"\" create a tuple and add item via concatenation \"\"\"\n",
    "tpl = (1, 2, 3, 4, 5)\n",
    "tpl += (6,)\n",
    "print(tpl)\n",
    "\"\"\" create and add items to set \"\"\"\n",
    "my_list = [1, 2, 2, 3, 4, 4, 4, 5]\n",
    "my_set = set(my_list)\n",
    "my_set.add(10)\n",
    "my_set.update({11,12})\n",
    "my_set.remove(12)\n",
    "my_set.discard(11)\n",
    "print(my_set)\n",
    "\"\"\" create a dict and change item value via key \"\"\"\n",
    "d = {\n",
    "    \"age\": 32,\n",
    "    \"name\": \"Tony\",\n",
    "    \"city\" : \"Cobham\"\n",
    "}\n",
    "d[\"age\"] = 33\n",
    "print([v for v in d.values() if isinstance(v, (int, float))])\n",
    "\n",
    "\"\"\" Basic Data Manager \"\"\"\n",
    "def data_manager(lst):\n",
    "    if lst:\n",
    "        type_int_float = all(isinstance(item, (int, float)) for item in lst)\n",
    "        type_str = all(isinstance(item, str) for item in lst)\n",
    "        type_dict = all(isinstance(item, dict) for item in lst)\n",
    "        return sum(lst) if type_int_float else \\\n",
    "               sorted(lst) if type_str else \\\n",
    "               lst if type_dict else lst[::-1]\n",
    "    else:\n",
    "        return \"Empty list\""
   ]
  },
  {
   "cell_type": "code",
   "execution_count": null,
   "id": "f691aa23-a033-464f-a72f-e7b6701c0694",
   "metadata": {},
   "outputs": [],
   "source": []
  }
 ],
 "metadata": {
  "kernelspec": {
   "display_name": "Python 3 (ipykernel)",
   "language": "python",
   "name": "python3"
  },
  "language_info": {
   "codemirror_mode": {
    "name": "ipython",
    "version": 3
   },
   "file_extension": ".py",
   "mimetype": "text/x-python",
   "name": "python",
   "nbconvert_exporter": "python",
   "pygments_lexer": "ipython3",
   "version": "3.13.7"
  }
 },
 "nbformat": 4,
 "nbformat_minor": 5
}
