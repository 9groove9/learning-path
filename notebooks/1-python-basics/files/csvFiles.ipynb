{
 "cells": [
  {
   "cell_type": "code",
   "execution_count": 5,
   "id": "6ec66584-7331-45e4-b249-63455c53276d",
   "metadata": {},
   "outputs": [],
   "source": [
    "import csv\n",
    "with open(\"people.csv\", \"w\", newline=\"\") as csvfile:\n",
    "    writer = csv.writer(csvfile)\n",
    "    writer.writerow([\"Name\", \"Age\", \"City\"])\n",
    "    writer.writerow([\"Oleh\", \"30\", \"Kyiv\"])\n",
    "    writer.writerow([\"Anna\", \"25\", \"Lviv\"])"
   ]
  },
  {
   "cell_type": "code",
   "execution_count": 6,
   "id": "db32d507-f906-4488-80d3-0d9b97ede498",
   "metadata": {},
   "outputs": [
    {
     "name": "stdout",
     "output_type": "stream",
     "text": [
      "['Name', 'Age', 'City']\n",
      "['Oleh', '30', 'Kyiv']\n",
      "['Anna', '25', 'Lviv']\n"
     ]
    }
   ],
   "source": [
    "with open(\"people.csv\", \"r\", newline=\"\") as csvfile:\n",
    "    reader = csv.reader(csvfile)\n",
    "    for row in reader:\n",
    "        print(row)"
   ]
  },
  {
   "cell_type": "code",
   "execution_count": 3,
   "id": "b167f42b-1f74-4940-b393-6c1774543755",
   "metadata": {},
   "outputs": [
    {
     "name": "stdout",
     "output_type": "stream",
     "text": [
      "   Name  Age  City\n",
      "0  Oleh   30  Kyiv\n",
      "1  Anna   25  Lviv\n"
     ]
    }
   ],
   "source": [
    "import pandas as pd\n",
    "df = pd.read_csv(\"people.csv\")\n",
    "print(df)"
   ]
  },
  {
   "cell_type": "code",
   "execution_count": null,
   "id": "48646d5b-7e96-4bc4-92c3-8a8c2686c6f7",
   "metadata": {},
   "outputs": [],
   "source": [
    "df.loc[len(df)] = [\"Carol\", 27, \"London\"]\n",
    "df.to_csv(\"people_updated.csv\", index=False)"
   ]
  }
 ],
 "metadata": {
  "kernelspec": {
   "display_name": "Python 3 (ipykernel)",
   "language": "python",
   "name": "python3"
  },
  "language_info": {
   "codemirror_mode": {
    "name": "ipython",
    "version": 3
   },
   "file_extension": ".py",
   "mimetype": "text/x-python",
   "name": "python",
   "nbconvert_exporter": "python",
   "pygments_lexer": "ipython3",
   "version": "3.13.7"
  }
 },
 "nbformat": 4,
 "nbformat_minor": 5
}
