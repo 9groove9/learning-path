{
 "cells": [
  {
   "cell_type": "code",
   "execution_count": 5,
   "id": "c7405df7-5cdb-413e-92ad-72247db446ea",
   "metadata": {},
   "outputs": [
    {
     "name": "stdout",
     "output_type": "stream",
     "text": [
      "positive\n",
      "even\n"
     ]
    }
   ],
   "source": [
    "\"\"\" print positive or negative or zero \"\"\"\n",
    "i = 3\n",
    "print (\"positive\" if i > 0 else \"negative\" if i < 0 else \"zero\")\n",
    "\n",
    "\"\"\" print even or odd \"\"\"\n",
    "x = 4\n",
    "print(\"odd\" if x%2 else \"even\")\n",
    "\n",
    "\"\"\" bmi calc with conclusion \"\"\"\n",
    "def bmi(height: int, weight: int) -> float:\n",
    "    bmi = weight/((height/100)**2)\n",
    "    conclusion = \"Underweight\" if bmi < 18.5 else \"Normal\" if bmi <= 24.9 else \"Overweight\" if bmi <= 29.9 else \"Obesity\"\n",
    "    if height > 0 and weight > 0:\n",
    "        return f\"Your BMI is {bmi:.1f} and it is {conclusion}\"\n",
    "    else:\n",
    "        return \"Please enter correct weight/height\"\n",
    "\n",
    "\"\"\" simple calculator \"\"\"\n",
    "def calculate(a, b, op):\n",
    "    match op:\n",
    "        case \"+\": return a+b\n",
    "        case \"-\": return a-b\n",
    "        case \"*\": return a*b\n",
    "        case \"/\": return a/b if b != 0 else \"ooops, zero division\"\n"
   ]
  }
 ],
 "metadata": {
  "kernelspec": {
   "display_name": "Python 3 (ipykernel)",
   "language": "python",
   "name": "python3"
  },
  "language_info": {
   "codemirror_mode": {
    "name": "ipython",
    "version": 3
   },
   "file_extension": ".py",
   "mimetype": "text/x-python",
   "name": "python",
   "nbconvert_exporter": "python",
   "pygments_lexer": "ipython3",
   "version": "3.13.7"
  }
 },
 "nbformat": 4,
 "nbformat_minor": 5
}
