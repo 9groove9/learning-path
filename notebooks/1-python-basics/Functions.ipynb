{
 "cells": [
  {
   "cell_type": "code",
   "execution_count": 10,
   "id": "2c66b9a9-658e-4efd-ae3e-9ba54241e7e9",
   "metadata": {},
   "outputs": [
    {
     "data": {
      "text/plain": [
       "{'sum': 6,\n",
       " 'prod': 6,\n",
       " 'average': 2.0,\n",
       " 'BMI': 'Your BMI is 25.3 and it is Overweight'}"
      ]
     },
     "execution_count": 10,
     "metadata": {},
     "output_type": "execute_result"
    }
   ],
   "source": [
    "\"\"\" rectangle area \"\"\"\n",
    "def rect_area(a, b):\n",
    "    return a * b if a > 0 and b > 0 else \"Please enter sides\"\n",
    "\n",
    "\"\"\" Celsius to Fahrenheit convertor \"\"\"\n",
    "def celsius_to_f(c):\n",
    "    return c * 9 / 5 + 32\n",
    "\n",
    "\"\"\" bmi calc with conclusion \"\"\"\n",
    "def bmi(height: int, weight: int) -> float:\n",
    "    if height > 0 and weight > 0:\n",
    "        bmi = weight/((height/100)**2)\n",
    "        conclusion = \"Underweight\" if bmi < 18.5 else \"Normal\" if bmi <= 24.9 else \"Overweight\" if bmi <= 29.9 else \"Obesity\"\n",
    "        return f\"Your BMI is {bmi:.1f} and it is {conclusion}\"\n",
    "    else:\n",
    "        return \"Please enter correct weight/height\"\n",
    "\n",
    "\"\"\" sum of even numbers \"\"\"\n",
    "def even_sum(lst):\n",
    "    return sum(i for i in l if i % 2 == 0)\n",
    "\n",
    "\"\"\" check if string is polindrome \"\"\"\n",
    "def is_palindrome(s):\n",
    "    return s == s[::-1]\n",
    "\n",
    "\"\"\" Mini Calculator & Analyzer \"\"\"\n",
    "def mini_analyzer(*args, height=0, weight=0):\n",
    "    from math import prod\n",
    "    if args:\n",
    "        total = sum(args)\n",
    "        average = total / len(args)\n",
    "        return {\n",
    "            \"sum\": total,\n",
    "            \"prod\": prod(args),\n",
    "            \"average\": average,\n",
    "            \"BMI\": bmi(height, weight)\n",
    "        }\n",
    "mini_analyzer(1,2,3, height=171, weight=74)"
   ]
  },
  {
   "cell_type": "code",
   "execution_count": null,
   "id": "8f54a51d-a8cc-4b70-b641-31455631793f",
   "metadata": {},
   "outputs": [],
   "source": []
  }
 ],
 "metadata": {
  "kernelspec": {
   "display_name": "Python 3 (ipykernel)",
   "language": "python",
   "name": "python3"
  },
  "language_info": {
   "codemirror_mode": {
    "name": "ipython",
    "version": 3
   },
   "file_extension": ".py",
   "mimetype": "text/x-python",
   "name": "python",
   "nbconvert_exporter": "python",
   "pygments_lexer": "ipython3",
   "version": "3.13.7"
  }
 },
 "nbformat": 4,
 "nbformat_minor": 5
}
