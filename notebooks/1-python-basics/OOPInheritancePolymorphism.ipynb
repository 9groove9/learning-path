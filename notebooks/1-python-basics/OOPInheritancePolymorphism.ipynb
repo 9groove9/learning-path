{
 "cells": [
  {
   "cell_type": "code",
   "execution_count": 6,
   "id": "4160e866-2b6e-48aa-bdcf-4ea7d7ebfaf6",
   "metadata": {},
   "outputs": [
    {
     "name": "stdout",
     "output_type": "stream",
     "text": [
      "Tony is Working...\n",
      "Robert is Managing team...\n",
      "Serj is Writing code...\n",
      "Carol is Writing code... and reviewing code...\n"
     ]
    }
   ],
   "source": [
    "class Employee:\n",
    "    \"\"\"Base class for all employees.\"\"\"\n",
    "    def __init__(self, name: str, salary: float):\n",
    "        self.name = name\n",
    "        self.salary = salary\n",
    "\n",
    "    def work(self) -> str:\n",
    "        \"\"\"Return a string describing the employee's work.\"\"\"\n",
    "        return \"Working...\"\n",
    "\n",
    "class Manager(Employee):\n",
    "    \"\"\"Manager class, inherits from Employee.\"\"\"\n",
    "    def work(self) -> str:\n",
    "        \"\"\"Override work method for Manager.\"\"\"\n",
    "        return \"Managing team...\"\n",
    "\n",
    "class Developer(Employee):\n",
    "    \"\"\"Developer class, inherits from Employee.\"\"\"\n",
    "    def work(self) -> str:\n",
    "        \"\"\"Override work method for Developer.\"\"\"\n",
    "        return \"Writing code...\"\n",
    "\n",
    "class SeniorDeveloper(Developer):\n",
    "    \"\"\"Senior Developer class, inherits from Developer.\"\"\"\n",
    "    def work(self) -> str:\n",
    "        \"\"\"Extend Developer work with code review.\"\"\"\n",
    "        return super().work() + \" and reviewing code...\"\n",
    "\n",
    "def employee_day(employee: Employee) -> None:\n",
    "    \"\"\"Print what the employee is doing today (polymorphic behavior).\"\"\"\n",
    "    print(f\"{employee.name} is {employee.work()}\")\n",
    "\n",
    "# Demo\n",
    "e = Employee(\"Tony\", 1000)\n",
    "d = Developer(\"Serj\", 2000)\n",
    "m = Manager(\"Robert\", 2500)\n",
    "sD = SeniorDeveloper(\"Carol\", 3500)\n",
    "\n",
    "for emp in [e, m, d, sD]:\n",
    "    employee_day(emp)\n"
   ]
  },
  {
   "cell_type": "code",
   "execution_count": null,
   "id": "6ec92c38-041a-4e26-be14-bc246c482590",
   "metadata": {},
   "outputs": [],
   "source": []
  }
 ],
 "metadata": {
  "kernelspec": {
   "display_name": "Python 3 (ipykernel)",
   "language": "python",
   "name": "python3"
  },
  "language_info": {
   "codemirror_mode": {
    "name": "ipython",
    "version": 3
   },
   "file_extension": ".py",
   "mimetype": "text/x-python",
   "name": "python",
   "nbconvert_exporter": "python",
   "pygments_lexer": "ipython3",
   "version": "3.13.7"
  }
 },
 "nbformat": 4,
 "nbformat_minor": 5
}
