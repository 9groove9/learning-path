{
 "cells": [
  {
   "cell_type": "code",
   "execution_count": 36,
   "id": "fa41ace5-a2a6-47a6-bcfc-54aff9a45483",
   "metadata": {},
   "outputs": [
    {
     "name": "stdout",
     "output_type": "stream",
     "text": [
      "[1, 2, 3, 4, 5, 6, 7, 8, 9, 10, 11, 12, 13, 14, 15, 16, 17, 18, 19, 20]\n",
      "600\n",
      "['Treehouse', 'Python', 'Flower']\n",
      "10\n",
      "3.5\n",
      "7\n",
      "0\n",
      "9 * 1 = 9\n",
      "9 * 2 = 18\n",
      "9 * 3 = 27\n",
      "9 * 4 = 36\n",
      "9 * 5 = 45\n",
      "9 * 6 = 54\n",
      "9 * 7 = 63\n",
      "9 * 8 = 72\n",
      "9 * 9 = 81\n",
      "9 * 10 = 90\n"
     ]
    },
    {
     "data": {
      "text/plain": [
       "(1, 12, [8, 10, 12], [9, 11, 1], 51)"
      ]
     },
     "execution_count": 36,
     "metadata": {},
     "output_type": "execute_result"
    }
   ],
   "source": [
    "\"\"\" numbers from 1 to 20 \"\"\"\n",
    "res = list(range(1, 21))\n",
    "print(res)\n",
    "\n",
    "\"\"\" sum of even \"\"\"\n",
    "i = 0\n",
    "s = 0\n",
    "while i < 50:\n",
    "    if i % 2 == 0:\n",
    "        s += i\n",
    "    i += 1\n",
    "print(s)\n",
    "\n",
    "\"\"\" strings with length > 5 \"\"\"\n",
    "l = [\"Cat\", \"\", \"Sun\", \"Treehouse\", \"Hi\", \"Python\", \"Sky\", \"Go\", \"Flower\", \"Moon\", \"Rain\"]\n",
    "lenfrom5_words = [word for word in l if len(word) > 5]\n",
    "print(lenfrom5_words) \n",
    "\n",
    "\"\"\" print a nuber values in dict \"\"\"\n",
    "d = {\n",
    "    \"apple\": 10,\n",
    "    \"banana\": \"yellow\",\n",
    "    \"cherry\": 3.5,\n",
    "    \"date\": \"sweet\",\n",
    "    \"eggplant\": 7,\n",
    "    \"fig\": \"purple\",\n",
    "    \"grape\": 0\n",
    "}\n",
    "for v in d.values():\n",
    "    if isinstance(v, (int,float)):\n",
    "        print(v)\n",
    "\n",
    "\"\"\" multiplication table \"\"\"\n",
    "def mult_table(n):\n",
    "    print (\"\\n\".join(f\"{n} * {i} = { i * n }\" for i in range(1,11)))\n",
    "mult_table(9)\n",
    "\n",
    "\"\"\" number analyzer takes list of numbers and shows all evens, odd, sum, min and max in that list\"\"\"\n",
    "def number_analyzer(lst):\n",
    "    evens = [i for i in lst if i % 2 == 0]\n",
    "    odds = [i for i in lst if i % 2 != 0]\n",
    "    total = sum(lst)\n",
    "    return min(lst), max(lst), evens, odds, total\n",
    "number_analyzer([8, 9, 10, 11, 12, 1])"
   ]
  },
  {
   "cell_type": "code",
   "execution_count": null,
   "id": "2c4a677d-f7b8-4212-8ecc-fb66931c0e93",
   "metadata": {},
   "outputs": [],
   "source": []
  }
 ],
 "metadata": {
  "kernelspec": {
   "display_name": "Python 3 (ipykernel)",
   "language": "python",
   "name": "python3"
  },
  "language_info": {
   "codemirror_mode": {
    "name": "ipython",
    "version": 3
   },
   "file_extension": ".py",
   "mimetype": "text/x-python",
   "name": "python",
   "nbconvert_exporter": "python",
   "pygments_lexer": "ipython3",
   "version": "3.13.7"
  }
 },
 "nbformat": 4,
 "nbformat_minor": 5
}
